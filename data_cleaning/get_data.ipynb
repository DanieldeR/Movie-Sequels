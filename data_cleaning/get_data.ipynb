{
 "cells": [
  {
   "cell_type": "code",
   "execution_count": 2,
   "metadata": {},
   "outputs": [],
   "source": [
    "import pandas as pd\n",
    "import requests\n",
    "from bs4 import BeautifulSoup\n",
    "import json\n",
    "import numpy as np"
   ]
  },
  {
   "cell_type": "code",
   "execution_count": 3,
   "metadata": {},
   "outputs": [],
   "source": [
    "url = \"https://en.wikipedia.org/wiki/List_of_feature_film_series_with_two_entries\""
   ]
  },
  {
   "cell_type": "code",
   "execution_count": 4,
   "metadata": {},
   "outputs": [],
   "source": [
    "r = requests.get(url)"
   ]
  },
  {
   "cell_type": "code",
   "execution_count": 5,
   "metadata": {},
   "outputs": [],
   "source": [
    "soup = BeautifulSoup(r.text, 'html.parser')"
   ]
  },
  {
   "cell_type": "code",
   "execution_count": 6,
   "metadata": {},
   "outputs": [],
   "source": [
    "#mix the soup\n",
    "m = [item.get_text().split('\\n') for item in soup.find_all('ol')]"
   ]
  },
  {
   "cell_type": "code",
   "execution_count": 8,
   "metadata": {},
   "outputs": [],
   "source": [
    "#Quick function to query the OMDB API\n",
    "def make_text(text, column):\n",
    "    try:\n",
    "        return text[column]\n",
    "    except:\n",
    "        return \"N/A\"\n",
    "\n",
    "counter = 0\n",
    "\n",
    "def query_api(title, year):\n",
    "    \n",
    "    url = 'http://www.omdbapi.com'\n",
    "    \n",
    "    #Handle String years if necessary\n",
    "    try:\n",
    "        year = str(int(year))\n",
    "    except:\n",
    "        year = 'N/A'\n",
    "    \n",
    "    #Populate Params\n",
    "    params = {'t': title,\n",
    "           'y': year,\n",
    "           'apikey': 'f13c3a86'}\n",
    "\n",
    "    global counter\n",
    "    counter = counter + 1\n",
    "    print(counter, title)\n",
    "    \n",
    "    #Make the request\n",
    "    try:\n",
    "        r = requests.get(url, params=params, timeout=0.6)\n",
    "\n",
    "        response = r.text\n",
    "        #print(response)\n",
    "\n",
    "        json_text = json.loads(response)\n",
    "    except Exception as e:\n",
    "        print(e)\n",
    "        r = 0\n",
    "    \n",
    "    try:\n",
    "        #Populate imdbRating\n",
    "        '''\n",
    "        try:\n",
    "            imdb = json_text['imdbRating']\n",
    "        except:\n",
    "            imdb = 'N/A'\n",
    "        '''\n",
    "        imdb = make_text(json_text, 'imdbRating')\n",
    "\n",
    "        #Populate Metascore Rating\n",
    "        '''\n",
    "        try:\n",
    "            metascore = json_text['Metascore']\n",
    "        except:\n",
    "            metascore = 'N/A'\n",
    "        ''' \n",
    "        metascore = make_text(json_text, 'Metascore')\n",
    "\n",
    "        imdb_id = make_text(json_text, 'imdbID')\n",
    "        #print(imdb, metascore)\n",
    "    except:\n",
    "        imdb = 'N/A'\n",
    "        metascore = 'N/A'\n",
    "        imdb_id = 'N/A'\n",
    "    \n",
    "    return {'imdb': imdb, 'metascore': metascore, 'imdb_id': imdb_id}"
   ]
  },
  {
   "cell_type": "code",
   "execution_count": 9,
   "metadata": {},
   "outputs": [],
   "source": [
    "#Find all movies\n",
    "l = [item.text.split('\\n') for item in soup.find('div', {'class': 'div-col'}).find_all('li')]"
   ]
  },
  {
   "cell_type": "code",
   "execution_count": 10,
   "metadata": {},
   "outputs": [],
   "source": [
    "#Remove anything that doesn't have 3 entries\n",
    "'''\n",
    "def filterList(item):\n",
    "    return len(item) == 3\n",
    "'''\n",
    "\n",
    "clean_list = list(filter(lambda x: len(x) == 3, l))"
   ]
  },
  {
   "cell_type": "code",
   "execution_count": 11,
   "metadata": {},
   "outputs": [],
   "source": [
    "#TODO: refactor to work with more than 2 movies\n",
    "titles = [[{'title':item[1], 'series': item[0]}, {'title':item[2], 'series':item[0]}] for item in clean_list]"
   ]
  },
  {
   "cell_type": "code",
   "execution_count": 12,
   "metadata": {},
   "outputs": [],
   "source": [
    "#Flatten the list to create a dataframe\n",
    "df = pd.DataFrame([item for sublist in titles for item in sublist])"
   ]
  },
  {
   "cell_type": "code",
   "execution_count": 13,
   "metadata": {},
   "outputs": [],
   "source": [
    "#Create a new column by parsing out the date\n",
    "def return_date(item):\n",
    "    try:\n",
    "        return item.split('(')[1].split(')')[0]\n",
    "    except:\n",
    "        return np.nan\n",
    "    \n",
    "df['date'] = df['title'].apply(lambda x:return_date(x))\n",
    "df['title_clean'] = df['title'].apply(lambda x: x.split('(')[0])"
   ]
  },
  {
   "cell_type": "code",
   "execution_count": 14,
   "metadata": {},
   "outputs": [
    {
     "output_type": "execute_result",
     "data": {
      "text/plain": "                                                  title             series  \\\n0           00 Schneider – Jagd auf Nihil Baxter (1994)       00 Schneider   \n1     00 Schneider – Im Wendekreis der Eidechse [de]...       00 Schneider   \n2                                2 Days in Paris (2007)       2 Days in...   \n3                             2 Days in New York (2012)       2 Days in...   \n4                                            8mm (1999)                8mm   \n...                                                 ...                ...   \n3347                         Zulu Dawn (1979) (prequel)               Zulu   \n3348                                        Zuma (1985)               Zuma   \n3349                                Anak ni Zuma (1987)               Zuma   \n3350     Dschungelmädchen für zwei Halunken [de] (1974)  Zwei Teufelskerle   \n3351  Zwei Teufelskerle auf dem Weg ins Kloster [de]...  Zwei Teufelskerle   \n\n      date                                      title_clean  \n0     1994            00 Schneider – Jagd auf Nihil Baxter   \n1     2013  00 Schneider – Im Wendekreis der Eidechse [de]   \n2     2007                                 2 Days in Paris   \n3     2012                              2 Days in New York   \n4     1999                                             8mm   \n...    ...                                              ...  \n3347  1979                                       Zulu Dawn   \n3348  1985                                            Zuma   \n3349  1987                                    Anak ni Zuma   \n3350  1974         Dschungelmädchen für zwei Halunken [de]   \n3351  1975  Zwei Teufelskerle auf dem Weg ins Kloster [de]   \n\n[3352 rows x 4 columns]",
      "text/html": "<div>\n<style scoped>\n    .dataframe tbody tr th:only-of-type {\n        vertical-align: middle;\n    }\n\n    .dataframe tbody tr th {\n        vertical-align: top;\n    }\n\n    .dataframe thead th {\n        text-align: right;\n    }\n</style>\n<table border=\"1\" class=\"dataframe\">\n  <thead>\n    <tr style=\"text-align: right;\">\n      <th></th>\n      <th>title</th>\n      <th>series</th>\n      <th>date</th>\n      <th>title_clean</th>\n    </tr>\n  </thead>\n  <tbody>\n    <tr>\n      <th>0</th>\n      <td>00 Schneider – Jagd auf Nihil Baxter (1994)</td>\n      <td>00 Schneider</td>\n      <td>1994</td>\n      <td>00 Schneider – Jagd auf Nihil Baxter</td>\n    </tr>\n    <tr>\n      <th>1</th>\n      <td>00 Schneider – Im Wendekreis der Eidechse [de]...</td>\n      <td>00 Schneider</td>\n      <td>2013</td>\n      <td>00 Schneider – Im Wendekreis der Eidechse [de]</td>\n    </tr>\n    <tr>\n      <th>2</th>\n      <td>2 Days in Paris (2007)</td>\n      <td>2 Days in...</td>\n      <td>2007</td>\n      <td>2 Days in Paris</td>\n    </tr>\n    <tr>\n      <th>3</th>\n      <td>2 Days in New York (2012)</td>\n      <td>2 Days in...</td>\n      <td>2012</td>\n      <td>2 Days in New York</td>\n    </tr>\n    <tr>\n      <th>4</th>\n      <td>8mm (1999)</td>\n      <td>8mm</td>\n      <td>1999</td>\n      <td>8mm</td>\n    </tr>\n    <tr>\n      <th>...</th>\n      <td>...</td>\n      <td>...</td>\n      <td>...</td>\n      <td>...</td>\n    </tr>\n    <tr>\n      <th>3347</th>\n      <td>Zulu Dawn (1979) (prequel)</td>\n      <td>Zulu</td>\n      <td>1979</td>\n      <td>Zulu Dawn</td>\n    </tr>\n    <tr>\n      <th>3348</th>\n      <td>Zuma (1985)</td>\n      <td>Zuma</td>\n      <td>1985</td>\n      <td>Zuma</td>\n    </tr>\n    <tr>\n      <th>3349</th>\n      <td>Anak ni Zuma (1987)</td>\n      <td>Zuma</td>\n      <td>1987</td>\n      <td>Anak ni Zuma</td>\n    </tr>\n    <tr>\n      <th>3350</th>\n      <td>Dschungelmädchen für zwei Halunken [de] (1974)</td>\n      <td>Zwei Teufelskerle</td>\n      <td>1974</td>\n      <td>Dschungelmädchen für zwei Halunken [de]</td>\n    </tr>\n    <tr>\n      <th>3351</th>\n      <td>Zwei Teufelskerle auf dem Weg ins Kloster [de]...</td>\n      <td>Zwei Teufelskerle</td>\n      <td>1975</td>\n      <td>Zwei Teufelskerle auf dem Weg ins Kloster [de]</td>\n    </tr>\n  </tbody>\n</table>\n<p>3352 rows × 4 columns</p>\n</div>"
     },
     "metadata": {},
     "execution_count": 14
    }
   ],
   "source": [
    "df"
   ]
  },
  {
   "cell_type": "code",
   "execution_count": 15,
   "metadata": {},
   "outputs": [],
   "source": [
    "#Converte the date column to be and integer\n",
    "def convert_to_int(item):\n",
    "    try:\n",
    "        return float(item)\n",
    "    except:\n",
    "        return np.nan\n",
    "\n",
    "df['date'] = df['date'].apply(lambda x: convert_to_int(x))"
   ]
  },
  {
   "cell_type": "code",
   "execution_count": 16,
   "metadata": {},
   "outputs": [],
   "source": [
    "#Only keep movies newer than 1990 and let's only worry about the first 100\n",
    "test_df = df.loc[df['date'] > 1990].copy()"
   ]
  },
  {
   "cell_type": "code",
   "execution_count": 80,
   "metadata": {},
   "outputs": [],
   "source": [
    "#test_df"
   ]
  },
  {
   "cell_type": "code",
   "execution_count": 17,
   "metadata": {
    "tags": []
   },
   "outputs": [
    {
     "output_type": "stream",
     "name": "stdout",
     "text": "1 00 Schneider – Jagd auf Nihil Baxter \n2 00 Schneider – Jagd auf Nihil Baxter \n3 00 Schneider – Im Wendekreis der Eidechse [de] \n4 2 Days in Paris \n5 2 Days in New York \n6 8mm \n7 8mm 2 \n8 28 Days Later \n9 28 Weeks Later \n10 30 Days of Night \n11 30 Days of Night: Dark Days \n12 47 Meters Down \n13 47 Meters Down: Uncaged \n14 100 Girls \n15 100 Women \n16 101 Dalmatians II: Patch's London Adventure \n17 101 Dalmatians \n18 102 Dalmatians \n19 300 \n20 300: Rise of an Empire \n21 500 Years Later \n22 Motherland \n23 666: The Child \n24 666: The Beast \n25 976-Evil II \n26 2001 Maniacs \n27 2001 Maniacs: Field of Screams \n28 A Dog's Purpose \n29 A Dog's Journey \n30 A Gift to Remember \n31 Cherished Memories: A Gift to Remember 2 \n32 A Haunted House \n33 A Haunted House 2 \n34 A Monkey's Tale \n35 The Prince's Voyage [fr] \n36 A Quiet Place \n37 A Quiet Place 2 \n38 Aadu \n39 Aadu 2 \n40 Aashiqui 2 \n41 Ab Tak Chhappan \n42 Ab Tak Chhappan 2 \n43 Abang '92 \n44 Abang Long Fadil \n45 Abang Long Fadil 2 \n46 ABCD: Any Body Can Dance \n47 ABCD 2 \n48 Abducted II: The Reunion \n49 Abhinetri \n50 Abhinetri 2 \n51 Agent Cody Banks \n52 Agent Cody Banks 2: Destination London \n53 Der Tote am Teich [de] \n54 Der Tote im See [de] \n55 Aksar \n56 Aksar 2 \n57 Ali Kundilli [tr] \n58 Ali Kundilli 2 [tr] \n59 Alice in Wonderland \n60 Alice Through the Looking Glass \n61 Alice's Birthday \n62 All Hallows' Eve \n63 All Hallows' Eve 2 \n64 Alligator II: The Mutation \n65 All Stars \n66 All Stars 2: Old Stars \n67 Bruce Almighty \n68 Evan Almighty \n69 Alone in the Dark \n70 Alone in the Dark II \n71 Allemagne 90 neuf zéro \n72 Always: Sunset on Third Street \n73 Always Zoku Sanchome no Yuhi \n74 Amanush \n75 Amanush 2 \n76 The Amazing Spider-Man \n77 The Amazing Spider-Man 2 \n78 American Kickboxer \n79 American Kickboxer 2 \n80 American Psycho \n81 American Psycho 2 \n82 An American Werewolf in Paris \n83 American Yakuza \n84 Back to Back: American Yakuza 2 \n85 Ammar: Cin Tarikatı [tr; az] \n86 Ammar 2: Cin İstilası \n87 Analyze This \n88 Analyze That \n89 Anastasia \n90 Bartok the Magnificent \n91 Anatomy \n92 Anatomy 2 \n93 Ang probinsyano \n94 Pagbabalik ng probinsyano \n95 Ang utol kong hoodlum \n96 Angel Terminators II \n97 The Angry Birds Movie \n98 The Angry Birds Movie 2 \n99 Animal \n100 Animal 2 \n101 Animusic: A Computer Animation Video Album \n102 Animusic 2: A New Computer Animation Video Album \n103 An Inconvenient Truth \n104 An Inconvenient Sequel: Truth to Power \n105 Annie: A Royal Adventure! \n106 Anni 90 \n107 Anni 90 - Parte II \n108 Ano ba iyan? \n109 Ano ba 'yan 2 \n110 Another Gay Movie \n111 Another Gay Sequel: Gays Gone Wild! \n112 Appa \n113 Appa 2 \n114 Appleseed \n115 Appleseed Ex Machina \n116 Apthamitra \n117 Aptharakshaka \n118 AR-15: Comando implacable \n119 AR-15 Comando Implacable II \n120 Aranmanai \n121 Aranmanai 2 \n122 A Film by Aravind \n123 Aravind 2 \n124 The Archies in Jugman \n125 A.R.C.H.I.E. \n126 A.R.C.H.I.E. 2 \n127 Ardaas \n128 Ardaas Karaan \n129 Are We There Yet? \n130 Are We Done Yet? \n131 Arn – The Knight Templar \n132 Arn – The Kingdom at Road's End \n133 The Arrival \n134 The Second Arrival \n135 Arya \n136 Arya 2 \n137 Kurochka Ryaba \n138 A spasso nel tempo \n139 A spasso nel tempo: l'avventura continua \n140 Assault of the Party Nerds 2: The Heavy Petting Detective \n141 Mark of the Astro-Zombies \n142 Megint tanú \n143 Atlantic Rim \n144 Atlantic Rim: Resurrection \n145 Atlantis: The Lost Empire \n146 Atlantis: Milo's Return \n147 Attack the Gas Station \n148 Attack the Gas Station 2 \n149 Augustin \n150 Augustin, roi du Kung-fu \n151 Avunu \n152 Avunu 2 \n153 Axeman \n154 Axeman 2: Overkill \n155 Ay Lav Yu \n156 Ay Lav Yu Tuu \n157 Aya: An Imagined Autobiography \n158 Azazil: Düğüm [tr; az] \n159 Azazil 2: Büyü \n160 Azumi \n161 Azumi 2: Death or Love \n162 Baahubali: The Beginning \n163 Baahubali: The Conclusion \n164 Babar: King of the Elephants \n165 Babe \n166 Babe: Pig in the City \n167 Babnik-2 \n168 Babysitting \n169 Babysitting 2 \n170 Bachelor Party 2: The Last Temptation \n171 Backdraft \n172 Backdraft 2 \n173 Bad Boy II \n174 Bad Lieutenant \n175 Bad Lieutenant: Port of Call New Orleans \n176 Bad Moms \n177 A Bad Moms Christmas \n178 Bad Santa \n179 Bad Santa 2 \n180 Bambi II \n181 Barnyard: The Original Party Animals \n182 Back at the Barnyard - Cowman: The Uddered Avenger \n183 The Base \n184 The Base 2: Guilty as Charged \n185 Basic Instinct \n186 Basic Instinct 2 \n187 Bats \n188 Bats: Human Harvest \n189 Flags of Our Fathers \n190 Letters from Iwo Jima \n191 Battle Royale \n192 Battle Royale II: Requiem \n193 Battlestar Galactica: Razor \n194 Battlestar Galactica: The Plan \n195 Bawal na gamot \n196 Bawal na gamot 2 \n197 Bayside Shakedown: The Movie \n198 Bayside Shakedown 2 \n199 Beach Babes from Beyond \n200 Beach Babes 2: Cave Girl Island \n201 Murder in Pays Basque \n202 Murder in Guérande \n203 Beer: The Movie \n204 Beer: The Movie 2 - Leaving Long Island \n205 Bela Seshe \n206 Bela Shuru \n207 Belle Toujours \n208 Belle Grand-mère \n209 Belle Grand Mère - 'La Trattoria' \n210 Belly \n211 Belly 2: Millionaire Boyz Club \n212 The Benchwarmers \n213 Benchwarmers 2: Breaking Balls \n214 The Best Man \n215 The Best Man Holiday \n216 The Best Movie \n217 The Best Movie 2 \n218 Beverly Hills Christmas \n219 This is Our Christmas \n220 Beverly Hills Ninja \n221 The Legend of the Dancing Ninja \n222 Bewitched \n223 Bhool Bhulaiyaa \n224 Bhool Bhulaiyaa 2 \n225 Bhoot \n226 Bhoot Returns \n227 Bhoothnath \n228 Bhoothnath Returns \n229 Big Fat Liar \n230 Bigger Fatter Liar \n231 The Big Lebowski \n232 The Jesus Rolls \n233 Big Money Hustlas \n234 Big Money Rustlas \n235 Big Time Rush - Big Time Concert \n236 Big Time Rush - Big Time Christmas \n237 The Bikini Carwash Company \n238 The Bikini Carwash Company II \n239 Billa \n240 Billa II \n241 Billy & Buddy [fr; de; lb] \n242 Billy & Buddy 2 [fr] \n243 The Birds II: Land's End \n244 Black & White Episode I: The Dawn of Assault \n245 Black & White: The Dawn of Justice \n246 Black Mask \n247 Black Mask 2: City of Masks \n248 Blind gudinne \n249 Salige er de som tørster \n250 Blood Feast 2: All U Can Eat \n251 Blood Ring \n252 Blood Ring 2 \n253 Bloody Murder \n254 Bloody Murder 2: Closing Camp \n255 Blue Collar Comedy Tour: The Movie \n256 Blue Collar Comedy Tour Rides Again \n257 Blue Crush \n258 Blue Crush 2 \n259 Return to the Blue Lagoon \n260 Blues Brothers 2000 \n261 Brylcream Boulevard \n262 A hetedik testvér \n263 Bobo und die Hasenbande 2 - Abenteuer im Wald \n264 The Bodyguard \n265 The Bodyguard 2 \n266 Bonded by Blood \n267 Bonded by Blood 2 \n268 Bones \n269 Hush \n270 The Boondock Saints \n271 The Boondock Saints II: All Saints Day \n272 Born to Race \n273 Born to Race: Fast Track \n274 Boss: Born to Rule \n275 Boss 2: Back to Rule \n276 The Boss Baby \n277 The Boss Baby 2 \n278 Bounty Hunters \n279 Hardball \n280 The Boy \n281 Brahms: The Boy II \n282 Boyz \n283 Boyz 2 \n284 Pistol Opera \n285 Brice de Nice \n286 Brice 3 \n287 The Bride with White Hair \n288 The Bride with White Hair 2 \n289 Brother \n290 Brother 2 \n291 Brother Bear \n292 Brother Bear 2 \n293 Brotherhood of Blades \n294 Brotherhood of Blades II: The Infernal Battlefield \n295 Buck ai confini del cielo \n296 Buck and the Magic Bracelet \n297 Buddy en Sol: Praybeyt depektibs \n298 Buena Vista Social Club \n299 Buena Vista Social Club: Adios \n300 Bulletproof \n301 Bulletproof 2 \n302 Buried Alive II \n303 Cabin by the Lake \n304 Return to Cabin by the Lake \n305 Cabin Fever \n306 Cabin Fever 2: Spring Fever \n307 Cage II \n308 Çalgı Çengi [tr] \n309 Çalgı Çengi İkimiz \n310 Call for Love \n311 Fit Lover \n312 Camp Rock \n313 Camp Rock 2: The Final Jam \n314 The Car: Road to Revenge \n315 Cardcaptor Sakura: The Movie \n316 Cardcaptor Sakura The Movie 2: The Sealed Card \n317 Carlito's Way \n318 Carlito's Way: Rise to Power \n319 The Rage: Carrie 2 \n320 Carry On Jatta \n321 Carry On Jatta 2 \n322 Ritorno a casa Gori \n323 Casino Tycoon \n324 Casino Tycoon 2 \n325 Cat City 2: The Cat of Satan \n326 Category 6: Day of Destruction \n327 Category 7: The End of the World \n328 Cats & Dogs \n329 Cats & Dogs: The Revenge of Kitty Galore \n330 The Cell \n331 The Cell 2 \n332 Cell Phone \n333 Cell Phone 2 [zh] \n334 Challenge \n335 Challenge 2 \n336 Chander Pahar \n337 Amazon Obhijaan \n338 Chandramukhi \n339 Nagavalli \n340 Charlie Chaplin \n341 Charlie Chaplin 2 \n342 Charlie Strap and Froggy Ball Flying High \n343 Charlotte's Web 2: Wilbur's Great Adventure \n344 Chasing the Dragon \n345 Chasing the Dragon II: Wild Wild Bunch \n346 Cheaper by the Dozen \n347 Cheaper by the Dozen 2 \n348 Cherry Blossoms \n349 Kirschblüten & Dämonen [de] \n350 Chicken Run \n351 Chicken Run 2 \n352 Get Shorty \nHTTPConnectionPool(host='www.omdbapi.com', port=80): Read timed out. (read timeout=0.6)\n"
    },
    {
     "output_type": "error",
     "ename": "UnboundLocalError",
     "evalue": "local variable 'imdb_id' referenced before assignment",
     "traceback": [
      "\u001b[0;31m---------------------------------------------------------------------------\u001b[0m",
      "\u001b[0;31mUnboundLocalError\u001b[0m                         Traceback (most recent call last)",
      "\u001b[0;32m<ipython-input-17-387c37bf3adf>\u001b[0m in \u001b[0;36m<module>\u001b[0;34m\u001b[0m\n\u001b[1;32m      1\u001b[0m \u001b[0;31m#Query the API for each entry and keep building the table\u001b[0m\u001b[0;34m\u001b[0m\u001b[0;34m\u001b[0m\u001b[0;34m\u001b[0m\u001b[0m\n\u001b[0;32m----> 2\u001b[0;31m final_df = test_df.merge(test_df.apply(lambda x: pd.Series(query_api(x['title_clean'], x['date'])), axis=1), \n\u001b[0m\u001b[1;32m      3\u001b[0m              left_index=True, right_index=True)\n",
      "\u001b[0;32m~/anaconda3/envs/movies/lib/python3.8/site-packages/pandas/core/frame.py\u001b[0m in \u001b[0;36mapply\u001b[0;34m(self, func, axis, raw, result_type, args, **kwds)\u001b[0m\n\u001b[1;32m   6876\u001b[0m             \u001b[0mkwds\u001b[0m\u001b[0;34m=\u001b[0m\u001b[0mkwds\u001b[0m\u001b[0;34m,\u001b[0m\u001b[0;34m\u001b[0m\u001b[0;34m\u001b[0m\u001b[0m\n\u001b[1;32m   6877\u001b[0m         )\n\u001b[0;32m-> 6878\u001b[0;31m         \u001b[0;32mreturn\u001b[0m \u001b[0mop\u001b[0m\u001b[0;34m.\u001b[0m\u001b[0mget_result\u001b[0m\u001b[0;34m(\u001b[0m\u001b[0;34m)\u001b[0m\u001b[0;34m\u001b[0m\u001b[0;34m\u001b[0m\u001b[0m\n\u001b[0m\u001b[1;32m   6879\u001b[0m \u001b[0;34m\u001b[0m\u001b[0m\n\u001b[1;32m   6880\u001b[0m     \u001b[0;32mdef\u001b[0m \u001b[0mapplymap\u001b[0m\u001b[0;34m(\u001b[0m\u001b[0mself\u001b[0m\u001b[0;34m,\u001b[0m \u001b[0mfunc\u001b[0m\u001b[0;34m)\u001b[0m \u001b[0;34m->\u001b[0m \u001b[0;34m\"DataFrame\"\u001b[0m\u001b[0;34m:\u001b[0m\u001b[0;34m\u001b[0m\u001b[0;34m\u001b[0m\u001b[0m\n",
      "\u001b[0;32m~/anaconda3/envs/movies/lib/python3.8/site-packages/pandas/core/apply.py\u001b[0m in \u001b[0;36mget_result\u001b[0;34m(self)\u001b[0m\n\u001b[1;32m    184\u001b[0m             \u001b[0;32mreturn\u001b[0m \u001b[0mself\u001b[0m\u001b[0;34m.\u001b[0m\u001b[0mapply_raw\u001b[0m\u001b[0;34m(\u001b[0m\u001b[0;34m)\u001b[0m\u001b[0;34m\u001b[0m\u001b[0;34m\u001b[0m\u001b[0m\n\u001b[1;32m    185\u001b[0m \u001b[0;34m\u001b[0m\u001b[0m\n\u001b[0;32m--> 186\u001b[0;31m         \u001b[0;32mreturn\u001b[0m \u001b[0mself\u001b[0m\u001b[0;34m.\u001b[0m\u001b[0mapply_standard\u001b[0m\u001b[0;34m(\u001b[0m\u001b[0;34m)\u001b[0m\u001b[0;34m\u001b[0m\u001b[0;34m\u001b[0m\u001b[0m\n\u001b[0m\u001b[1;32m    187\u001b[0m \u001b[0;34m\u001b[0m\u001b[0m\n\u001b[1;32m    188\u001b[0m     \u001b[0;32mdef\u001b[0m \u001b[0mapply_empty_result\u001b[0m\u001b[0;34m(\u001b[0m\u001b[0mself\u001b[0m\u001b[0;34m)\u001b[0m\u001b[0;34m:\u001b[0m\u001b[0;34m\u001b[0m\u001b[0;34m\u001b[0m\u001b[0m\n",
      "\u001b[0;32m~/anaconda3/envs/movies/lib/python3.8/site-packages/pandas/core/apply.py\u001b[0m in \u001b[0;36mapply_standard\u001b[0;34m(self)\u001b[0m\n\u001b[1;32m    311\u001b[0m \u001b[0;34m\u001b[0m\u001b[0m\n\u001b[1;32m    312\u001b[0m         \u001b[0;31m# compute the result using the series generator\u001b[0m\u001b[0;34m\u001b[0m\u001b[0;34m\u001b[0m\u001b[0;34m\u001b[0m\u001b[0m\n\u001b[0;32m--> 313\u001b[0;31m         \u001b[0mresults\u001b[0m\u001b[0;34m,\u001b[0m \u001b[0mres_index\u001b[0m \u001b[0;34m=\u001b[0m \u001b[0mself\u001b[0m\u001b[0;34m.\u001b[0m\u001b[0mapply_series_generator\u001b[0m\u001b[0;34m(\u001b[0m\u001b[0;34m)\u001b[0m\u001b[0;34m\u001b[0m\u001b[0;34m\u001b[0m\u001b[0m\n\u001b[0m\u001b[1;32m    314\u001b[0m \u001b[0;34m\u001b[0m\u001b[0m\n\u001b[1;32m    315\u001b[0m         \u001b[0;31m# wrap results\u001b[0m\u001b[0;34m\u001b[0m\u001b[0;34m\u001b[0m\u001b[0;34m\u001b[0m\u001b[0m\n",
      "\u001b[0;32m~/anaconda3/envs/movies/lib/python3.8/site-packages/pandas/core/apply.py\u001b[0m in \u001b[0;36mapply_series_generator\u001b[0;34m(self)\u001b[0m\n\u001b[1;32m    339\u001b[0m         \u001b[0;32melse\u001b[0m\u001b[0;34m:\u001b[0m\u001b[0;34m\u001b[0m\u001b[0;34m\u001b[0m\u001b[0m\n\u001b[1;32m    340\u001b[0m             \u001b[0;32mfor\u001b[0m \u001b[0mi\u001b[0m\u001b[0;34m,\u001b[0m \u001b[0mv\u001b[0m \u001b[0;32min\u001b[0m \u001b[0menumerate\u001b[0m\u001b[0;34m(\u001b[0m\u001b[0mseries_gen\u001b[0m\u001b[0;34m)\u001b[0m\u001b[0;34m:\u001b[0m\u001b[0;34m\u001b[0m\u001b[0;34m\u001b[0m\u001b[0m\n\u001b[0;32m--> 341\u001b[0;31m                 \u001b[0mresults\u001b[0m\u001b[0;34m[\u001b[0m\u001b[0mi\u001b[0m\u001b[0;34m]\u001b[0m \u001b[0;34m=\u001b[0m \u001b[0mself\u001b[0m\u001b[0;34m.\u001b[0m\u001b[0mf\u001b[0m\u001b[0;34m(\u001b[0m\u001b[0mv\u001b[0m\u001b[0;34m)\u001b[0m\u001b[0;34m\u001b[0m\u001b[0;34m\u001b[0m\u001b[0m\n\u001b[0m\u001b[1;32m    342\u001b[0m                 \u001b[0mkeys\u001b[0m\u001b[0;34m.\u001b[0m\u001b[0mappend\u001b[0m\u001b[0;34m(\u001b[0m\u001b[0mv\u001b[0m\u001b[0;34m.\u001b[0m\u001b[0mname\u001b[0m\u001b[0;34m)\u001b[0m\u001b[0;34m\u001b[0m\u001b[0;34m\u001b[0m\u001b[0m\n\u001b[1;32m    343\u001b[0m \u001b[0;34m\u001b[0m\u001b[0m\n",
      "\u001b[0;32m<ipython-input-17-387c37bf3adf>\u001b[0m in \u001b[0;36m<lambda>\u001b[0;34m(x)\u001b[0m\n\u001b[1;32m      1\u001b[0m \u001b[0;31m#Query the API for each entry and keep building the table\u001b[0m\u001b[0;34m\u001b[0m\u001b[0;34m\u001b[0m\u001b[0;34m\u001b[0m\u001b[0m\n\u001b[0;32m----> 2\u001b[0;31m final_df = test_df.merge(test_df.apply(lambda x: pd.Series(query_api(x['title_clean'], x['date'])), axis=1), \n\u001b[0m\u001b[1;32m      3\u001b[0m              left_index=True, right_index=True)\n",
      "\u001b[0;32m<ipython-input-8-e86b4477c2ca>\u001b[0m in \u001b[0;36mquery_api\u001b[0;34m(title, year)\u001b[0m\n\u001b[1;32m     64\u001b[0m         \u001b[0mmetascore\u001b[0m \u001b[0;34m=\u001b[0m \u001b[0;34m'N/A'\u001b[0m\u001b[0;34m\u001b[0m\u001b[0;34m\u001b[0m\u001b[0m\n\u001b[1;32m     65\u001b[0m \u001b[0;34m\u001b[0m\u001b[0m\n\u001b[0;32m---> 66\u001b[0;31m     \u001b[0;32mreturn\u001b[0m \u001b[0;34m{\u001b[0m\u001b[0;34m'imdb'\u001b[0m\u001b[0;34m:\u001b[0m \u001b[0mimdb\u001b[0m\u001b[0;34m,\u001b[0m \u001b[0;34m'metascore'\u001b[0m\u001b[0;34m:\u001b[0m \u001b[0mmetascore\u001b[0m\u001b[0;34m,\u001b[0m \u001b[0;34m'imdb_id'\u001b[0m\u001b[0;34m:\u001b[0m \u001b[0mimdb_id\u001b[0m\u001b[0;34m}\u001b[0m\u001b[0;34m\u001b[0m\u001b[0;34m\u001b[0m\u001b[0m\n\u001b[0m",
      "\u001b[0;31mUnboundLocalError\u001b[0m: local variable 'imdb_id' referenced before assignment"
     ]
    }
   ],
   "source": [
    "#Query the API for each entry and keep building the table\n",
    "final_df = test_df.merge(test_df.apply(lambda x: pd.Series(query_api(x['title_clean'], x['date'])), axis=1), \n",
    "             left_index=True, right_index=True)"
   ]
  },
  {
   "cell_type": "code",
   "execution_count": 82,
   "metadata": {},
   "outputs": [],
   "source": [
    "# Find the unique names of the series\n",
    "# series_names = final_df['series'].unique()"
   ]
  },
  {
   "cell_type": "code",
   "execution_count": null,
   "metadata": {},
   "outputs": [],
   "source": [
    "#Convert the imdb and metascore columns to int - Could probably clean this up as well\n",
    "\n",
    "final_df['imdb'] = final_df['imdb'].apply(lambda x: convert_to_int(x))\n",
    "final_df['metascore'] = final_df['metascore'].apply(lambda x: convert_to_int(x))"
   ]
  },
  {
   "cell_type": "code",
   "execution_count": null,
   "metadata": {},
   "outputs": [],
   "source": [
    "final_df.head()"
   ]
  },
  {
   "cell_type": "code",
   "execution_count": null,
   "metadata": {},
   "outputs": [],
   "source": [
    "# Drop NA in the imdb column and group_by series, then filter out those series that only have one entry\n",
    "keep_series = pd.DataFrame(final_df.dropna(subset=['imdb']).groupby('series')['title'].count() == 1).reset_index()\n",
    "\n",
    "# Build a list of the series to keep (This could probably be combined with the previous cell)\n",
    "keep_list = list(keep_series.loc[keep_series['title'] == False, 'series'])\n",
    "\n",
    "# Create the final data frame by keeping only the series that are in the keep list\n",
    "output = final_df.loc[final_df['series'].isin(keep_list)]"
   ]
  },
  {
   "cell_type": "code",
   "execution_count": null,
   "metadata": {},
   "outputs": [],
   "source": [
    "# Create a summary dataframe\n",
    "summary = output.groupby('series')['imdb'].last() - final_df.groupby('series')['imdb'].first()"
   ]
  },
  {
   "cell_type": "code",
   "execution_count": null,
   "metadata": {},
   "outputs": [],
   "source": [
    "# Plot the review distribution - Maybe I'll do something with this later\n",
    "\n",
    "summary.plot.kde()"
   ]
  },
  {
   "cell_type": "code",
   "execution_count": null,
   "metadata": {},
   "outputs": [],
   "source": [
    "summary.describe()"
   ]
  },
  {
   "cell_type": "code",
   "execution_count": null,
   "metadata": {},
   "outputs": [],
   "source": [
    "#Write output to json format so it's easier to work with in javascript\n",
    "json_data = output[['title_clean', 'series', 'date', 'imdb', 'imdb_id']].to_json(orient='records')\n",
    "\n",
    "#Write it to the res directory\n",
    "with open('../res/movieData.json', 'w') as f:\n",
    "    f.write(json_data)"
   ]
  },
  {
   "cell_type": "code",
   "execution_count": null,
   "metadata": {},
   "outputs": [],
   "source": [
    "summary_data = pd.DataFrame(summary.dropna()).reset_index().to_json(orient='records')\n",
    "with open('../res/summary.json', 'w') as f:\n",
    "    f.write(summary_data)"
   ]
  },
  {
   "cell_type": "code",
   "execution_count": null,
   "metadata": {},
   "outputs": [],
   "source": []
  }
 ],
 "metadata": {
  "kernelspec": {
   "display_name": "movies",
   "language": "python",
   "name": "movies"
  },
  "language_info": {
   "codemirror_mode": {
    "name": "ipython",
    "version": 3
   },
   "file_extension": ".py",
   "mimetype": "text/x-python",
   "name": "python",
   "nbconvert_exporter": "python",
   "pygments_lexer": "ipython3",
   "version": "3.8.3-final"
  }
 },
 "nbformat": 4,
 "nbformat_minor": 4
}