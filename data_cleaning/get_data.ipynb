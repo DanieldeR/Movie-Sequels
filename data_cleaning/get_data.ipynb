{
 "cells": [
  {
   "cell_type": "code",
   "execution_count": 77,
   "metadata": {},
   "outputs": [],
   "source": [
    "import pandas as pd\n",
    "import requests\n",
    "from bs4 import BeautifulSoup\n",
    "import json\n",
    "import numpy as np"
   ]
  },
  {
   "cell_type": "code",
   "execution_count": 2,
   "metadata": {},
   "outputs": [],
   "source": [
    "url = \"https://en.wikipedia.org/wiki/List_of_feature_film_series_with_two_entries\""
   ]
  },
  {
   "cell_type": "code",
   "execution_count": 3,
   "metadata": {},
   "outputs": [],
   "source": [
    "r = requests.get(url)"
   ]
  },
  {
   "cell_type": "code",
   "execution_count": 4,
   "metadata": {},
   "outputs": [],
   "source": [
    "soup = BeautifulSoup(r.text, 'html.parser')"
   ]
  },
  {
   "cell_type": "code",
   "execution_count": 5,
   "metadata": {},
   "outputs": [],
   "source": [
    "#mix the soup\n",
    "m = [item.get_text().split('\\n') for item in soup.find_all('ol')]"
   ]
  },
  {
   "cell_type": "code",
   "execution_count": 85,
   "metadata": {},
   "outputs": [],
   "source": [
    "#Quick function to query the OMDB API\n",
    "def make_text(text, column):\n",
    "    try:\n",
    "        return text[column]\n",
    "    except:\n",
    "        return \"N/A\"\n",
    "\n",
    "counter = 0\n",
    "\n",
    "def query_api(title, year):\n",
    "    \n",
    "    url = 'http://www.omdbapi.com'\n",
    "    \n",
    "    #Handle String years if necessary\n",
    "    try:\n",
    "        year = str(int(year))\n",
    "    except:\n",
    "        year = 'N/A'\n",
    "    \n",
    "    #Populate Params\n",
    "    params = {'t': title,\n",
    "           'y': year,\n",
    "           'apikey': 'f13c3a86'}\n",
    "\n",
    "    global counter\n",
    "    counter = counter + 1\n",
    "    print(counter, title)\n",
    "    \n",
    "    #Make the request\n",
    "    try:\n",
    "        r = requests.get(url, params=params, timeout=0.6)\n",
    "\n",
    "        response = r.text\n",
    "        print(response)\n",
    "\n",
    "        json_text = json.loads(response)\n",
    "    except Exception as e:\n",
    "        print(e)\n",
    "        r = 0\n",
    "    \n",
    "    try:\n",
    "        #Populate imdbRating\n",
    "        '''\n",
    "        try:\n",
    "            imdb = json_text['imdbRating']\n",
    "        except:\n",
    "            imdb = 'N/A'\n",
    "        '''\n",
    "        imdb = make_text(json_text, 'imdbRating')\n",
    "\n",
    "        #Populate Metascore Rating\n",
    "        '''\n",
    "        try:\n",
    "            metascore = json_text['Metascore']\n",
    "        except:\n",
    "            metascore = 'N/A'\n",
    "        ''' \n",
    "        metascore = make_text(json_text, 'Metascore')\n",
    "        #print(imdb, metascore)\n",
    "    except:\n",
    "        imdb = 'N/A'\n",
    "        metascore = 'N/A'\n",
    "    \n",
    "    return {'imdb': imdb, 'metascore': metascore}"
   ]
  },
  {
   "cell_type": "code",
   "execution_count": 19,
   "metadata": {},
   "outputs": [],
   "source": [
    "#Find all movies\n",
    "l = [item.text.split('\\n') for item in soup.find('div', {'class': 'div-col'}).find_all('li')]"
   ]
  },
  {
   "cell_type": "code",
   "execution_count": 20,
   "metadata": {},
   "outputs": [],
   "source": [
    "#Remove anything that doesn't have 3 entries\n",
    "'''\n",
    "def filterList(item):\n",
    "    return len(item) == 3\n",
    "'''\n",
    "\n",
    "clean_list = list(filter(lambda x: len(x) == 3, l))"
   ]
  },
  {
   "cell_type": "code",
   "execution_count": 21,
   "metadata": {},
   "outputs": [],
   "source": [
    "#TODO: refactor to work with more than 2 movies\n",
    "titles = [[{'title':item[1], 'series': item[0]}, {'title':item[2], 'series':item[0]}] for item in clean_list]"
   ]
  },
  {
   "cell_type": "code",
   "execution_count": 22,
   "metadata": {},
   "outputs": [],
   "source": [
    "#Flatten the list to create a dataframe\n",
    "df = pd.DataFrame([item for sublist in titles for item in sublist])"
   ]
  },
  {
   "cell_type": "code",
   "execution_count": 23,
   "metadata": {},
   "outputs": [],
   "source": [
    "#Create a new column by parsing out the date\n",
    "def return_date(item):\n",
    "    try:\n",
    "        return item.split('(')[1].split(')')[0]\n",
    "    except:\n",
    "        return np.nan\n",
    "    \n",
    "df['date'] = df['title'].apply(lambda x:return_date(x))\n",
    "df['title_clean'] = df['title'].apply(lambda x: x.split('(')[0])"
   ]
  },
  {
   "cell_type": "code",
   "execution_count": 24,
   "metadata": {},
   "outputs": [
    {
     "output_type": "execute_result",
     "data": {
      "text/plain": "                                                  title             series  \\\n0           00 Schneider – Jagd auf Nihil Baxter (1994)       00 Schneider   \n1     00 Schneider – Im Wendekreis der Eidechse [de]...       00 Schneider   \n2                                2 Days in Paris (2007)       2 Days in...   \n3                             2 Days in New York (2012)       2 Days in...   \n4                                            8mm (1999)                8mm   \n...                                                 ...                ...   \n3347                         Zulu Dawn (1979) (prequel)               Zulu   \n3348                                        Zuma (1985)               Zuma   \n3349                                Anak ni Zuma (1987)               Zuma   \n3350     Dschungelmädchen für zwei Halunken [de] (1974)  Zwei Teufelskerle   \n3351  Zwei Teufelskerle auf dem Weg ins Kloster [de]...  Zwei Teufelskerle   \n\n      date                                      title_clean  \n0     1994            00 Schneider – Jagd auf Nihil Baxter   \n1     2013  00 Schneider – Im Wendekreis der Eidechse [de]   \n2     2007                                 2 Days in Paris   \n3     2012                              2 Days in New York   \n4     1999                                             8mm   \n...    ...                                              ...  \n3347  1979                                       Zulu Dawn   \n3348  1985                                            Zuma   \n3349  1987                                    Anak ni Zuma   \n3350  1974         Dschungelmädchen für zwei Halunken [de]   \n3351  1975  Zwei Teufelskerle auf dem Weg ins Kloster [de]   \n\n[3352 rows x 4 columns]",
      "text/html": "<div>\n<style scoped>\n    .dataframe tbody tr th:only-of-type {\n        vertical-align: middle;\n    }\n\n    .dataframe tbody tr th {\n        vertical-align: top;\n    }\n\n    .dataframe thead th {\n        text-align: right;\n    }\n</style>\n<table border=\"1\" class=\"dataframe\">\n  <thead>\n    <tr style=\"text-align: right;\">\n      <th></th>\n      <th>title</th>\n      <th>series</th>\n      <th>date</th>\n      <th>title_clean</th>\n    </tr>\n  </thead>\n  <tbody>\n    <tr>\n      <th>0</th>\n      <td>00 Schneider – Jagd auf Nihil Baxter (1994)</td>\n      <td>00 Schneider</td>\n      <td>1994</td>\n      <td>00 Schneider – Jagd auf Nihil Baxter</td>\n    </tr>\n    <tr>\n      <th>1</th>\n      <td>00 Schneider – Im Wendekreis der Eidechse [de]...</td>\n      <td>00 Schneider</td>\n      <td>2013</td>\n      <td>00 Schneider – Im Wendekreis der Eidechse [de]</td>\n    </tr>\n    <tr>\n      <th>2</th>\n      <td>2 Days in Paris (2007)</td>\n      <td>2 Days in...</td>\n      <td>2007</td>\n      <td>2 Days in Paris</td>\n    </tr>\n    <tr>\n      <th>3</th>\n      <td>2 Days in New York (2012)</td>\n      <td>2 Days in...</td>\n      <td>2012</td>\n      <td>2 Days in New York</td>\n    </tr>\n    <tr>\n      <th>4</th>\n      <td>8mm (1999)</td>\n      <td>8mm</td>\n      <td>1999</td>\n      <td>8mm</td>\n    </tr>\n    <tr>\n      <th>...</th>\n      <td>...</td>\n      <td>...</td>\n      <td>...</td>\n      <td>...</td>\n    </tr>\n    <tr>\n      <th>3347</th>\n      <td>Zulu Dawn (1979) (prequel)</td>\n      <td>Zulu</td>\n      <td>1979</td>\n      <td>Zulu Dawn</td>\n    </tr>\n    <tr>\n      <th>3348</th>\n      <td>Zuma (1985)</td>\n      <td>Zuma</td>\n      <td>1985</td>\n      <td>Zuma</td>\n    </tr>\n    <tr>\n      <th>3349</th>\n      <td>Anak ni Zuma (1987)</td>\n      <td>Zuma</td>\n      <td>1987</td>\n      <td>Anak ni Zuma</td>\n    </tr>\n    <tr>\n      <th>3350</th>\n      <td>Dschungelmädchen für zwei Halunken [de] (1974)</td>\n      <td>Zwei Teufelskerle</td>\n      <td>1974</td>\n      <td>Dschungelmädchen für zwei Halunken [de]</td>\n    </tr>\n    <tr>\n      <th>3351</th>\n      <td>Zwei Teufelskerle auf dem Weg ins Kloster [de]...</td>\n      <td>Zwei Teufelskerle</td>\n      <td>1975</td>\n      <td>Zwei Teufelskerle auf dem Weg ins Kloster [de]</td>\n    </tr>\n  </tbody>\n</table>\n<p>3352 rows × 4 columns</p>\n</div>"
     },
     "metadata": {},
     "execution_count": 24
    }
   ],
   "source": [
    "df"
   ]
  },
  {
   "cell_type": "code",
   "execution_count": 25,
   "metadata": {},
   "outputs": [],
   "source": [
    "#Converte the date column to be and integer\n",
    "def convert_to_int(item):\n",
    "    try:\n",
    "        return float(item)\n",
    "    except:\n",
    "        return np.nan\n",
    "\n",
    "df['date'] = df['date'].apply(lambda x: convert_to_int(x))"
   ]
  },
  {
   "cell_type": "code",
   "execution_count": 86,
   "metadata": {},
   "outputs": [],
   "source": [
    "#Only keep movies newer than 1990 and let's only worry about the first 100\n",
    "test_df = df.loc[df['date'] > 1990].copy()"
   ]
  },
  {
   "cell_type": "code",
   "execution_count": 80,
   "metadata": {},
   "outputs": [],
   "source": [
    "#test_df"
   ]
  },
  {
   "cell_type": "code",
   "execution_count": 87,
   "metadata": {
    "tags": [
     "outputPrepend"
    ]
   },
   "outputs": [
    {
     "output_type": "stream",
     "name": "stdout",
     "text": "com/images/M/MV5BMjE0MDM3NzEzOF5BMl5BanBnXkFtZTgwMDc0Njg5MTE@._V1_SX300.jpg\",\"Ratings\":[{\"Source\":\"Internet Movie Database\",\"Value\":\"5.5/10\"},{\"Source\":\"Rotten Tomatoes\",\"Value\":\"65%\"}],\"Metascore\":\"N/A\",\"imdbRating\":\"5.5\",\"imdbVotes\":\"6,075\",\"imdbID\":\"tt2781516\",\"Type\":\"movie\",\"DVD\":\"09 Mar 2015\",\"BoxOffice\":\"N/A\",\"Production\":\"Echolands Creative Group\",\"Website\":\"N/A\",\"Response\":\"True\"}\n1749 Another WolfCop \n{\"Response\":\"False\",\"Error\":\"Movie not found!\"}\n1750 Wow! Wow! Wubbzy!: Wubbzy's Big Movie! \n{\"Response\":\"False\",\"Error\":\"Movie not found!\"}\n1751 Wow! Wow! Wubbzy!: Wubb Idol \n{\"Response\":\"False\",\"Error\":\"Movie not found!\"}\n1752 Wreck-It Ralph \n{\"Title\":\"Wreck-It Ralph\",\"Year\":\"2012\",\"Rated\":\"PG\",\"Released\":\"02 Nov 2012\",\"Runtime\":\"101 min\",\"Genre\":\"Animation, Adventure, Comedy, Family, Fantasy\",\"Director\":\"Rich Moore\",\"Writer\":\"Rich Moore (story by), Phil Johnston (story by), Jim Reardon (story by), Phil Johnston (screenplay by), Jennifer Lee (screenplay by)\",\"Actors\":\"John C. Reilly, Sarah Silverman, Jack McBrayer, Jane Lynch\",\"Plot\":\"A video game villain wants to be a hero and sets out to fulfill his dream, but his quest brings havoc to the whole arcade where he lives.\",\"Language\":\"English\",\"Country\":\"USA\",\"Awards\":\"Nominated for 1 Oscar. Another 33 wins & 41 nominations.\",\"Poster\":\"https://m.media-amazon.com/images/M/MV5BNzMxNTExOTkyMF5BMl5BanBnXkFtZTcwMzEyNDc0OA@@._V1_SX300.jpg\",\"Ratings\":[{\"Source\":\"Internet Movie Database\",\"Value\":\"7.7/10\"},{\"Source\":\"Rotten Tomatoes\",\"Value\":\"87%\"},{\"Source\":\"Metacritic\",\"Value\":\"72/100\"}],\"Metascore\":\"72\",\"imdbRating\":\"7.7\",\"imdbVotes\":\"368,950\",\"imdbID\":\"tt1772341\",\"Type\":\"movie\",\"DVD\":\"05 Mar 2013\",\"BoxOffice\":\"$189,412,677\",\"Production\":\"Walt Disney Pictures\",\"Website\":\"N/A\",\"Response\":\"True\"}\n1753 Ralph Breaks the Internet \n{\"Title\":\"Ralph Breaks the Internet\",\"Year\":\"2018\",\"Rated\":\"PG\",\"Released\":\"21 Nov 2018\",\"Runtime\":\"112 min\",\"Genre\":\"Animation, Adventure, Comedy, Family, Fantasy\",\"Director\":\"Phil Johnston, Rich Moore\",\"Writer\":\"Phil Johnston (screenplay by), Pamela Ribon (screenplay by), Rich Moore (story by), Phil Johnston (story by), Jim Reardon (story by), Pamela Ribon (story by), Josie Trinidad (story by)\",\"Actors\":\"John C. Reilly, Sarah Silverman, Gal Gadot, Taraji P. Henson\",\"Plot\":\"Six years after the events of \\\"Wreck-It Ralph,\\\" Ralph and Vanellope, now friends, discover a wi-fi router in their arcade, leading them into a new adventure.\",\"Language\":\"English\",\"Country\":\"USA\",\"Awards\":\"Nominated for 1 Oscar. Another 3 wins & 63 nominations.\",\"Poster\":\"https://m.media-amazon.com/images/M/MV5BMTYyNzEyNDAzOV5BMl5BanBnXkFtZTgwNTk3NDczNjM@._V1_SX300.jpg\",\"Ratings\":[{\"Source\":\"Internet Movie Database\",\"Value\":\"7.1/10\"},{\"Source\":\"Rotten Tomatoes\",\"Value\":\"88%\"},{\"Source\":\"Metacritic\",\"Value\":\"71/100\"}],\"Metascore\":\"71\",\"imdbRating\":\"7.1\",\"imdbVotes\":\"121,694\",\"imdbID\":\"tt5848272\",\"Type\":\"movie\",\"DVD\":\"12 Feb 2019\",\"BoxOffice\":\"N/A\",\"Production\":\"Walt Disney Animation Studios\",\"Website\":\"N/A\",\"Response\":\"True\"}\n1754 The X-Files \n{\"Title\":\"The X-Files Movie Special\",\"Year\":\"1998\",\"Rated\":\"N/A\",\"Released\":\"15 Jun 1998\",\"Runtime\":\"60 min\",\"Genre\":\"Documentary\",\"Director\":\"Thomas C. Grane\",\"Writer\":\"N/A\",\"Actors\":\"Martin Landau, Gillian Anderson, Chris Carter, Cher\",\"Plot\":\"Interviews with the cast and crew and behind the scenes footage from the making of X-Files Movie. Also hear from famous fans of the show. Plus get the scoop on soundtrack, including a ...\",\"Language\":\"English\",\"Country\":\"USA\",\"Awards\":\"N/A\",\"Poster\":\"N/A\",\"Ratings\":[{\"Source\":\"Internet Movie Database\",\"Value\":\"8.0/10\"}],\"Metascore\":\"N/A\",\"imdbRating\":\"8.0\",\"imdbVotes\":\"101\",\"imdbID\":\"tt0326431\",\"Type\":\"movie\",\"DVD\":\"N/A\",\"BoxOffice\":\"N/A\",\"Production\":\"N/A\",\"Website\":\"N/A\",\"Response\":\"True\"}\n1755 The X-Files: I Want to Believe \n{\"Title\":\"The X Files: I Want to Believe\",\"Year\":\"2008\",\"Rated\":\"PG-13\",\"Released\":\"25 Jul 2008\",\"Runtime\":\"104 min\",\"Genre\":\"Crime, Drama, Horror, Mystery, Sci-Fi, Thriller\",\"Director\":\"Chris Carter\",\"Writer\":\"Frank Spotnitz, Chris Carter, Chris Carter (television series \\\"The X-Files\\\")\",\"Actors\":\"David Duchovny, Gillian Anderson, Amanda Peet, Billy Connolly\",\"Plot\":\"Mulder and Scully are called back to duty by the FBI when a former priest claims to be receiving psychic visions pertaining to a kidnapped agent.\",\"Language\":\"English, Russian, Czech\",\"Country\":\"USA, Canada\",\"Awards\":\"N/A\",\"Poster\":\"https://m.media-amazon.com/images/M/MV5BOTk5MThhOTQtZTY5OC00MzgwLWE4MTctNTI4OGEwNjU3YTZjXkEyXkFqcGdeQXVyMTQxNzMzNDI@._V1_SX300.jpg\",\"Ratings\":[{\"Source\":\"Internet Movie Database\",\"Value\":\"5.9/10\"},{\"Source\":\"Rotten Tomatoes\",\"Value\":\"31%\"},{\"Source\":\"Metacritic\",\"Value\":\"47/100\"}],\"Metascore\":\"47\",\"imdbRating\":\"5.9\",\"imdbVotes\":\"87,573\",\"imdbID\":\"tt0443701\",\"Type\":\"movie\",\"DVD\":\"02 Dec 2008\",\"BoxOffice\":\"$20,847,266\",\"Production\":\"20th Century Fox\",\"Website\":\"N/A\",\"Response\":\"True\"}\n1756 Ye Re Ye Re Paisa \n{\"Title\":\"Ye Re Ye Re Paisa\",\"Year\":\"2018\",\"Rated\":\"N/A\",\"Released\":\"05 Jan 2018\",\"Runtime\":\"142 min\",\"Genre\":\"Comedy\",\"Director\":\"Sanjay Jadhav\",\"Writer\":\"Sanjay Jadhav, Arvind Jagtap\",\"Actors\":\"Bijay Anand, Pratik Chitre, Bharat Dabholkar, Tushar Dalvi\",\"Plot\":\"Its a story of funny misunderstandings that creates troubles for five individuals who are trying to achieve their life goals.\",\"Language\":\"Marathi\",\"Country\":\"India\",\"Awards\":\"N/A\",\"Poster\":\"https://m.media-amazon.com/images/M/MV5BMzA3ZTc5ZGYtMjcwNC00MjJkLTg2OTUtYzhiYmM3MjhjYjYwXkEyXkFqcGdeQXVyMzc0ODYyNzk@._V1_SX300.jpg\",\"Ratings\":[{\"Source\":\"Internet Movie Database\",\"Value\":\"7.4/10\"}],\"Metascore\":\"N/A\",\"imdbRating\":\"7.4\",\"imdbVotes\":\"62\",\"imdbID\":\"tt7773436\",\"Type\":\"movie\",\"DVD\":\"N/A\",\"BoxOffice\":\"N/A\",\"Production\":\"N/A\",\"Website\":\"N/A\",\"Response\":\"True\"}\n1757 Ye Re Ye Re Paisa 2 \n{\"Title\":\"Ye Re Ye Re Paisa 2\",\"Year\":\"2019\",\"Rated\":\"N/A\",\"Released\":\"09 Aug 2019\",\"Runtime\":\"N/A\",\"Genre\":\"Drama\",\"Director\":\"Hemant Dhome\",\"Writer\":\"Hrishikesh Koli\",\"Actors\":\"Smitha Gondkar, Anand Ingle, Priyadarshan Jadhav, Mrinal Kulkarni\",\"Plot\":\"Jaggu is faced with a crisis when he isn't able to fulfill his wife's dreams of a better lifestyle or his mother's wish for a grandchild. Jaggu's wife will bear his child only when they ...\",\"Language\":\"Marathi\",\"Country\":\"India\",\"Awards\":\"N/A\",\"Poster\":\"https://m.media-amazon.com/images/M/MV5BYmJjYThlNWQtNTk2My00YjA0LWFlMjYtMjU1MzYwZjYwZDNjXkEyXkFqcGdeQXVyNjc0NTgxNzc@._V1_SX300.jpg\",\"Ratings\":[{\"Source\":\"Internet Movie Database\",\"Value\":\"5.5/10\"}],\"Metascore\":\"N/A\",\"imdbRating\":\"5.5\",\"imdbVotes\":\"12\",\"imdbID\":\"tt8983182\",\"Type\":\"movie\",\"DVD\":\"N/A\",\"BoxOffice\":\"N/A\",\"Production\":\"N/A\",\"Website\":\"N/A\",\"Response\":\"True\"}\n1758 Yellow Hair \n{\"Response\":\"False\",\"Error\":\"Movie not found!\"}\n1759 Yellow Hair 2 \n{\"Response\":\"False\",\"Error\":\"Movie not found!\"}\n1760 Yodha \n{\"Title\":\"Karm Yodha\",\"Year\":\"1992\",\"Rated\":\"N/A\",\"Released\":\"17 Jan 1992\",\"Runtime\":\"N/A\",\"Genre\":\"Action, Drama\",\"Director\":\"Dayal Nihalani\",\"Writer\":\"N/A\",\"Actors\":\"Raj Babbar, Dimple Kapadia, Javed Jaffrey, Om Puri\",\"Plot\":\"Sameer returns to his city and witnesses a murder. Later, he and his family are attacked thinking that the dead victim has shared a secret with him.\",\"Language\":\"Hindi\",\"Country\":\"India\",\"Awards\":\"N/A\",\"Poster\":\"N/A\",\"Ratings\":[{\"Source\":\"Internet Movie Database\",\"Value\":\"6.6/10\"}],\"Metascore\":\"N/A\",\"imdbRating\":\"6.6\",\"imdbVotes\":\"17\",\"imdbID\":\"tt0113527\",\"Type\":\"movie\",\"DVD\":\"N/A\",\"BoxOffice\":\"N/A\",\"Production\":\"N/A\",\"Website\":\"N/A\",\"Response\":\"True\"}\n1761 Yodha 2 \n{\"Response\":\"False\",\"Error\":\"Movie not found!\"}\n1762 Yogi Bear \n{\"Title\":\"Yogi Bear\",\"Year\":\"2010\",\"Rated\":\"PG\",\"Released\":\"17 Dec 2010\",\"Runtime\":\"80 min\",\"Genre\":\"Animation, Adventure, Comedy, Family\",\"Director\":\"Eric Brevig\",\"Writer\":\"Jennifer Ventimilia, Joshua Sternin, Brad Copeland, Joseph Barbera (characters), William Hanna (characters)\",\"Actors\":\"Dan Aykroyd, Justin Timberlake, Anna Faris, Tom Cavanagh\",\"Plot\":\"A documentary filmmaker travels to Jellystone Park to shoot a project and soon crosses paths with Yogi Bear, his sidekick Boo-Boo and Ranger Smith.\",\"Language\":\"English\",\"Country\":\"USA, New Zealand\",\"Awards\":\"2 wins & 2 nominations.\",\"Poster\":\"https://m.media-amazon.com/images/M/MV5BMTczMjU1NTQ0M15BMl5BanBnXkFtZTcwMjIxMTA3Mw@@._V1_SX300.jpg\",\"Ratings\":[{\"Source\":\"Internet Movie Database\",\"Value\":\"4.6/10\"},{\"Source\":\"Rotten Tomatoes\",\"Value\":\"13%\"},{\"Source\":\"Metacritic\",\"Value\":\"35/100\"}],\"Metascore\":\"35\",\"imdbRating\":\"4.6\",\"imdbVotes\":\"19,910\",\"imdbID\":\"tt1302067\",\"Type\":\"movie\",\"DVD\":\"22 Mar 2011\",\"BoxOffice\":\"$100,169,068\",\"Production\":\"Warner Bros. Pictures\",\"Website\":\"N/A\",\"Response\":\"True\"}\n1763 Yok Artık! [tr] \nHTTPConnectionPool(host='www.omdbapi.com', port=80): Read timed out. (read timeout=0.6)\n1764 Yok Artık! 2 \n{\"Response\":\"False\",\"Error\":\"Movie not found!\"}\n1765 The Young Fighters \n{\"Title\":\"The Young Fighters\",\"Year\":\"1994\",\"Rated\":\"N/A\",\"Released\":\"N/A\",\"Runtime\":\"79 min\",\"Genre\":\"N/A\",\"Director\":\"Luke Dye\",\"Writer\":\"Luke Dye, Mark Foster\",\"Actors\":\"Mark Foster, Luke Dye, Tracy Foster, I-Heng Mei\",\"Plot\":\"Two strangers become friends after a parent's death and a cousin kidnapping in order to seek revenge on the evil druglord, Jose' Martinez.\",\"Language\":\"English\",\"Country\":\"USA\",\"Awards\":\"N/A\",\"Poster\":\"N/A\",\"Ratings\":[{\"Source\":\"Internet Movie Database\",\"Value\":\"7.5/10\"}],\"Metascore\":\"N/A\",\"imdbRating\":\"7.5\",\"imdbVotes\":\"6\",\"imdbID\":\"tt0144027\",\"Type\":\"movie\",\"DVD\":\"N/A\",\"BoxOffice\":\"N/A\",\"Production\":\"N/A\",\"Website\":\"N/A\",\"Response\":\"True\"}\n1766 Young Fighters Forever \n{\"Title\":\"Young Fighters Forever\",\"Year\":\"1995\",\"Rated\":\"N/A\",\"Released\":\"N/A\",\"Runtime\":\"N/A\",\"Genre\":\"N/A\",\"Director\":\"N/A\",\"Writer\":\"N/A\",\"Actors\":\"Luke Dye, John Adams\",\"Plot\":\"N/A\",\"Language\":\"English\",\"Country\":\"USA\",\"Awards\":\"N/A\",\"Poster\":\"N/A\",\"Ratings\":[{\"Source\":\"Internet Movie Database\",\"Value\":\"8.0/10\"}],\"Metascore\":\"N/A\",\"imdbRating\":\"8.0\",\"imdbVotes\":\"6\",\"imdbID\":\"tt0144026\",\"Type\":\"movie\",\"DVD\":\"N/A\",\"BoxOffice\":\"N/A\",\"Production\":\"N/A\",\"Website\":\"N/A\",\"Response\":\"True\"}\n1767 The Golden Seal \n{\"Response\":\"False\",\"Error\":\"Movie not found!\"}\n1768 Bonds of Fire \n{\"Response\":\"False\",\"Error\":\"Movie not found!\"}\n1769 Samostoyatelnaya zhizn \n{\"Response\":\"False\",\"Error\":\"Movie not found!\"}\n1770 Zanjeer \n{\"Title\":\"Zanjeer\",\"Year\":\"2013\",\"Rated\":\"Not Rated\",\"Released\":\"06 Sep 2013\",\"Runtime\":\"137 min\",\"Genre\":\"Action, Drama\",\"Director\":\"Apoorva Lakhia\",\"Writer\":\"Salim Khan (original story), Javed Akhtar (original story), Apoorva Lakhia (story and screenplay), Chintan Gandhi (dialogue), Suresh Nair (screenplay)\",\"Actors\":\"Ram Charan, Priyanka Chopra, Sanjay Dutt, Prakash Raj\",\"Plot\":\"ACP Vijay Khanna is transferred to Mumbai where he will have do deal with the oil mafia led by Rudra Pratap Teja.\",\"Language\":\"Hindi, Telugu\",\"Country\":\"India\",\"Awards\":\"1 win & 2 nominations.\",\"Poster\":\"https://m.media-amazon.com/images/M/MV5BOTg0MDdhMTgtNzYyZC00NzQ1LWE3OWEtYzRmYzJiZTE5M2JiXkEyXkFqcGdeQXVyODE5NzE3OTE@._V1_SX300.jpg\",\"Ratings\":[{\"Source\":\"Internet Movie Database\",\"Value\":\"3.2/10\"}],\"Metascore\":\"N/A\",\"imdbRating\":\"3.2\",\"imdbVotes\":\"2,236\",\"imdbID\":\"tt2357489\",\"Type\":\"movie\",\"DVD\":\"N/A\",\"BoxOffice\":\"N/A\",\"Production\":\"Reliance Media\",\"Website\":\"N/A\",\"Response\":\"True\"}\n1771 Konjiki no Gash Bell!!: 101 Banme no Mamono \n{\"Response\":\"False\",\"Error\":\"Movie not found!\"}\n1772 Konjiki no Gash Bell!!: Attack of the Mechavulcan \n{\"Response\":\"False\",\"Error\":\"Movie not found!\"}\n1773 Zip & Zap and the Marble Gang \n{\"Title\":\"Zip & Zap and the Marble Gang\",\"Year\":\"2013\",\"Rated\":\"R\",\"Released\":\"04 Oct 2013\",\"Runtime\":\"97 min\",\"Genre\":\"Adventure, Comedy, Family\",\"Director\":\"Oskar Santos\",\"Writer\":\"Jorge Lara (story), Oskar Santos (story), Jorge Lara (screenplay), Francisco Roncal (screenplay), José Escobar (comic \\\"Zipi y Zape\\\" created by), Moisés Gómez Ramos (story collaboration)\",\"Actors\":\"Javier Gutiérrez, Raúl Rivas, Daniel Cerezo, Claudia Vega\",\"Plot\":\"Naughty twins Zip & Zap are punished and sent to summer school at Hope, a strict re-education center run by Falconetti, who rules with a heavy hand and an eyepatch and forbids all forms of ...\",\"Language\":\"Spanish\",\"Country\":\"Spain\",\"Awards\":\"1 win & 6 nominations.\",\"Poster\":\"https://m.media-amazon.com/images/M/MV5BMTk2Njg2MTEwNl5BMl5BanBnXkFtZTgwNjA3MTM5MDE@._V1_SX300.jpg\",\"Ratings\":[{\"Source\":\"Internet Movie Database\",\"Value\":\"5.4/10\"},{\"Source\":\"Rotten Tomatoes\",\"Value\":\"60%\"}],\"Metascore\":\"N/A\",\"imdbRating\":\"5.4\",\"imdbVotes\":\"787\",\"imdbID\":\"tt2388821\",\"Type\":\"movie\",\"DVD\":\"N/A\",\"BoxOffice\":\"N/A\",\"Production\":\"Zeta Audiovisual\",\"Website\":\"N/A\",\"Response\":\"True\"}\n1774 Zipi y Zape y la isla del capitán \nHTTPConnectionPool(host='www.omdbapi.com', port=80): Read timed out. (read timeout=0.6)\n1775 Zombieland \n{\"Title\":\"Zombieland\",\"Year\":\"2009\",\"Rated\":\"R\",\"Released\":\"02 Oct 2009\",\"Runtime\":\"88 min\",\"Genre\":\"Adventure, Comedy, Fantasy, Sci-Fi\",\"Director\":\"Ruben Fleischer\",\"Writer\":\"Rhett Reese, Paul Wernick\",\"Actors\":\"Jesse Eisenberg, Woody Harrelson, Emma Stone, Abigail Breslin\",\"Plot\":\"A shy student trying to reach his family in Ohio, a gun-toting tough guy trying to find the last Twinkie, and a pair of sisters trying to get to an amusement park join forces to travel across a zombie-filled America.\",\"Language\":\"English\",\"Country\":\"USA\",\"Awards\":\"10 wins & 28 nominations.\",\"Poster\":\"https://m.media-amazon.com/images/M/MV5BMTU5MDg0NTQ1N15BMl5BanBnXkFtZTcwMjA4Mjg3Mg@@._V1_SX300.jpg\",\"Ratings\":[{\"Source\":\"Internet Movie Database\",\"Value\":\"7.6/10\"},{\"Source\":\"Rotten Tomatoes\",\"Value\":\"90%\"},{\"Source\":\"Metacritic\",\"Value\":\"73/100\"}],\"Metascore\":\"73\",\"imdbRating\":\"7.6\",\"imdbVotes\":\"507,166\",\"imdbID\":\"tt1156398\",\"Type\":\"movie\",\"DVD\":\"02 Feb 2010\",\"BoxOffice\":\"$75,590,286\",\"Production\":\"Sony/Columbia Pictures\",\"Website\":\"N/A\",\"Response\":\"True\"}\n1776 Zombieland: Double Tap \n{\"Title\":\"Zombieland: Double Tap\",\"Year\":\"2019\",\"Rated\":\"R\",\"Released\":\"18 Oct 2019\",\"Runtime\":\"99 min\",\"Genre\":\"Action, Adventure, Comedy, Horror\",\"Director\":\"Ruben Fleischer\",\"Writer\":\"Rhett Reese, Paul Wernick, Dave Callaham, Rhett Reese (based on characters created by), Paul Wernick (based on characters created by)\",\"Actors\":\"Woody Harrelson, Jesse Eisenberg, Emma Stone, Abigail Breslin\",\"Plot\":\"Columbus, Tallahassee, Wichita, and Little Rock move to the American heartland as they face off against evolved zombies, fellow survivors, and the growing pains of the snarky makeshift family.\",\"Language\":\"English, Spanish, Italian, Inuktitut, Hindi\",\"Country\":\"USA\",\"Awards\":\"3 nominations.\",\"Poster\":\"https://m.media-amazon.com/images/M/MV5BYjcwNjZhNGYtOGNlNy00NGI3LTlmODMtMGZlMjA3YjA0Njg0XkEyXkFqcGdeQXVyMDM2NDM2MQ@@._V1_SX300.jpg\",\"Ratings\":[{\"Source\":\"Internet Movie Database\",\"Value\":\"6.7/10\"},{\"Source\":\"Rotten Tomatoes\",\"Value\":\"68%\"},{\"Source\":\"Metacritic\",\"Value\":\"55/100\"}],\"Metascore\":\"55\",\"imdbRating\":\"6.7\",\"imdbVotes\":\"117,418\",\"imdbID\":\"tt1560220\",\"Type\":\"movie\",\"DVD\":\"24 Dec 2019\",\"BoxOffice\":\"N/A\",\"Production\":\"Columbia Pictures\",\"Website\":\"N/A\",\"Response\":\"True\"}\n1777 Zombies \n{\"Title\":\"Zombies\",\"Year\":\"2018\",\"Rated\":\"N/A\",\"Released\":\"01 Jan 2018\",\"Runtime\":\"N/A\",\"Genre\":\"Short, Action\",\"Director\":\"Ty Mabrey\",\"Writer\":\"Ty Mabrey\",\"Actors\":\"Savannah Bush, Alfredo De Leon Jr., Kenneth Erstad, Jayssolitt\",\"Plot\":\"The Apocalypse messes with the wrong man when it tries to stop him from getting home for dinner.\",\"Language\":\"English\",\"Country\":\"USA\",\"Awards\":\"N/A\",\"Poster\":\"N/A\",\"Ratings\":[],\"Metascore\":\"N/A\",\"imdbRating\":\"N/A\",\"imdbVotes\":\"N/A\",\"imdbID\":\"tt7825246\",\"Type\":\"movie\",\"DVD\":\"N/A\",\"BoxOffice\":\"N/A\",\"Production\":\"N/A\",\"Website\":\"N/A\",\"Response\":\"True\"}\n1778 Zombies 2 \n{\"Response\":\"False\",\"Error\":\"Movie not found!\"}\n1779 Zoolander \n{\"Title\":\"Zoolander\",\"Year\":\"2001\",\"Rated\":\"PG-13\",\"Released\":\"28 Sep 2001\",\"Runtime\":\"90 min\",\"Genre\":\"Comedy\",\"Director\":\"Ben Stiller\",\"Writer\":\"Drake Sather (character Derek Zoolander), Ben Stiller (character Derek Zoolander), Drake Sather (story), Ben Stiller (story), Drake Sather (screenplay), Ben Stiller (screenplay), John Hamburg (screenplay)\",\"Actors\":\"Ben Stiller, Owen Wilson, Christine Taylor, Will Ferrell\",\"Plot\":\"At the end of his career, a clueless fashion model is brainwashed to kill the Prime Minister of Malaysia.\",\"Language\":\"English\",\"Country\":\"Germany, USA\",\"Awards\":\"1 win & 11 nominations.\",\"Poster\":\"https://m.media-amazon.com/images/M/MV5BODI4NDY2NDM5M15BMl5BanBnXkFtZTgwNzEwOTMxMDE@._V1_SX300.jpg\",\"Ratings\":[{\"Source\":\"Internet Movie Database\",\"Value\":\"6.5/10\"},{\"Source\":\"Rotten Tomatoes\",\"Value\":\"64%\"},{\"Source\":\"Metacritic\",\"Value\":\"61/100\"}],\"Metascore\":\"61\",\"imdbRating\":\"6.5\",\"imdbVotes\":\"241,059\",\"imdbID\":\"tt0196229\",\"Type\":\"movie\",\"DVD\":\"12 Mar 2002\",\"BoxOffice\":\"$44,724,316\",\"Production\":\"Paramount Pictures\",\"Website\":\"N/A\",\"Response\":\"True\"}\n1780 Zoolander No. 2 \n{\"Title\":\"Zoolander No. 2: French Toast Dresses and Other Lame Sh**T\",\"Year\":\"2016\",\"Rated\":\"N/A\",\"Released\":\"24 May 2016\",\"Runtime\":\"4 min\",\"Genre\":\"Short, Comedy\",\"Director\":\"N/A\",\"Writer\":\"N/A\",\"Actors\":\"Kyle Mooney\",\"Plot\":\"Catch up with fan-favorite character Don Atari in a hilarious behind-the-scenes\",\"Language\":\"English\",\"Country\":\"USA\",\"Awards\":\"N/A\",\"Poster\":\"N/A\",\"Ratings\":[],\"Metascore\":\"N/A\",\"imdbRating\":\"N/A\",\"imdbVotes\":\"N/A\",\"imdbID\":\"tt5911802\",\"Type\":\"movie\",\"DVD\":\"N/A\",\"BoxOffice\":\"N/A\",\"Production\":\"N/A\",\"Website\":\"N/A\",\"Response\":\"True\"}\n1781 The Mask of Zorro \n{\"Title\":\"The Mask of Zorro\",\"Year\":\"1998\",\"Rated\":\"PG-13\",\"Released\":\"17 Jul 1998\",\"Runtime\":\"136 min\",\"Genre\":\"Action, Adventure, Comedy, Romance, Thriller, Western\",\"Director\":\"Martin Campbell\",\"Writer\":\"Johnston McCulley (character Zorro), Ted Elliott (story), Terry Rossio (story), Randall Jahnson (story), John Eskow (screenplay), Ted Elliott (screenplay), Terry Rossio (screenplay)\",\"Actors\":\"José María de Tavira, Diego Sieres, Emiliano Guerra, Yolanda Orizaga\",\"Plot\":\"A young thief, seeking revenge for the death of his brother, is trained by the once great, but aged Zorro, who also pursues vengeance of his own.\",\"Language\":\"English\",\"Country\":\"USA, Germany, Mexico\",\"Awards\":\"Nominated for 2 Oscars. Another 9 wins & 16 nominations.\",\"Poster\":\"https://m.media-amazon.com/images/M/MV5BMzg4ZjQ4OGUtZjkxMi00Y2I2LWEzNTAtODI2ZjkxMGVjNTQwXkEyXkFqcGdeQXVyNjgxNTAwNjQ@._V1_SX300.jpg\",\"Ratings\":[{\"Source\":\"Internet Movie Database\",\"Value\":\"6.7/10\"},{\"Source\":\"Rotten Tomatoes\",\"Value\":\"82%\"},{\"Source\":\"Metacritic\",\"Value\":\"63/100\"}],\"Metascore\":\"63\",\"imdbRating\":\"6.7\",\"imdbVotes\":\"164,751\",\"imdbID\":\"tt0120746\",\"Type\":\"movie\",\"DVD\":\"01 Dec 1998\",\"BoxOffice\":\"N/A\",\"Production\":\"Sony Pictures Entertainment\",\"Website\":\"N/A\",\"Response\":\"True\"}\n1782 The Legend of Zorro \n{\"Title\":\"The Legend of Zorro\",\"Year\":\"2005\",\"Rated\":\"PG\",\"Released\":\"28 Oct 2005\",\"Runtime\":\"129 min\",\"Genre\":\"Action, Adventure, Romance, Thriller, Western\",\"Director\":\"Martin Campbell\",\"Writer\":\"Roberto Orci (screenplay), Alex Kurtzman (screenplay), Roberto Orci (story), Alex Kurtzman (story), Ted Elliott (story), Terry Rossio (story), Johnston McCulley (character)\",\"Actors\":\"Alberto Reyes, Julio Oscar Mechoso, Gustavo Sánchez Parra, Adrian Alonso\",\"Plot\":\"Despite trying to keep his swashbuckling to a minimum, a threat to California's pending statehood causes the adventure-loving Don Alejandro de la Vega and his wife, Elena, to take action.\",\"Language\":\"Spanish, English\",\"Country\":\"USA, Mexico\",\"Awards\":\"2 wins & 3 nominations.\",\"Poster\":\"https://m.media-amazon.com/images/M/MV5BZTE1MjVmYTYtOGFjZi00NGM3LTg0ZTEtNWI4MGI3NmM1MTVhXkEyXkFqcGdeQXVyNTIzOTk5ODM@._V1_SX300.jpg\",\"Ratings\":[{\"Source\":\"Internet Movie Database\",\"Value\":\"6.0/10\"},{\"Source\":\"Rotten Tomatoes\",\"Value\":\"26%\"},{\"Source\":\"Metacritic\",\"Value\":\"47/100\"}],\"Metascore\":\"47\",\"imdbRating\":\"6.0\",\"imdbVotes\":\"90,711\",\"imdbID\":\"tt0386140\",\"Type\":\"movie\",\"DVD\":\"31 Jan 2006\",\"BoxOffice\":\"$45,356,386\",\"Production\":\"Sony Pictures Entertainment\",\"Website\":\"N/A\",\"Response\":\"True\"}\n1783 The Legend of Zu \n{\"Response\":\"False\",\"Error\":\"Movie not found!\"}\n"
    }
   ],
   "source": [
    "#Query the API for each entry and keep building the table\n",
    "final_df = test_df.merge(test_df.apply(lambda x: pd.Series(query_api(x['title_clean'], x['date'])), axis=1), \n",
    "             left_index=True, right_index=True)"
   ]
  },
  {
   "cell_type": "code",
   "execution_count": 82,
   "metadata": {},
   "outputs": [],
   "source": [
    "# Find the unique names of the series\n",
    "# series_names = final_df['series'].unique()"
   ]
  },
  {
   "cell_type": "code",
   "execution_count": 88,
   "metadata": {},
   "outputs": [],
   "source": [
    "#Convert the imdb and metascore columns to int - Could probably clean this up as well\n",
    "\n",
    "final_df['imdb'] = final_df['imdb'].apply(lambda x: convert_to_int(x))\n",
    "final_df['metascore'] = final_df['metascore'].apply(lambda x: convert_to_int(x))"
   ]
  },
  {
   "cell_type": "code",
   "execution_count": 89,
   "metadata": {},
   "outputs": [
    {
     "output_type": "execute_result",
     "data": {
      "text/plain": "                                               title        series    date  \\\n0        00 Schneider – Jagd auf Nihil Baxter (1994)  00 Schneider  1994.0   \n1  00 Schneider – Im Wendekreis der Eidechse [de]...  00 Schneider  2013.0   \n2                             2 Days in Paris (2007)  2 Days in...  2007.0   \n3                          2 Days in New York (2012)  2 Days in...  2012.0   \n4                                         8mm (1999)           8mm  1999.0   \n\n                                       title_clean  imdb  metascore  \n0            00 Schneider – Jagd auf Nihil Baxter    NaN        NaN  \n1  00 Schneider – Im Wendekreis der Eidechse [de]    NaN        NaN  \n2                                 2 Days in Paris    6.8       67.0  \n3                              2 Days in New York    6.0       61.0  \n4                                             8mm    6.5       19.0  ",
      "text/html": "<div>\n<style scoped>\n    .dataframe tbody tr th:only-of-type {\n        vertical-align: middle;\n    }\n\n    .dataframe tbody tr th {\n        vertical-align: top;\n    }\n\n    .dataframe thead th {\n        text-align: right;\n    }\n</style>\n<table border=\"1\" class=\"dataframe\">\n  <thead>\n    <tr style=\"text-align: right;\">\n      <th></th>\n      <th>title</th>\n      <th>series</th>\n      <th>date</th>\n      <th>title_clean</th>\n      <th>imdb</th>\n      <th>metascore</th>\n    </tr>\n  </thead>\n  <tbody>\n    <tr>\n      <th>0</th>\n      <td>00 Schneider – Jagd auf Nihil Baxter (1994)</td>\n      <td>00 Schneider</td>\n      <td>1994.0</td>\n      <td>00 Schneider – Jagd auf Nihil Baxter</td>\n      <td>NaN</td>\n      <td>NaN</td>\n    </tr>\n    <tr>\n      <th>1</th>\n      <td>00 Schneider – Im Wendekreis der Eidechse [de]...</td>\n      <td>00 Schneider</td>\n      <td>2013.0</td>\n      <td>00 Schneider – Im Wendekreis der Eidechse [de]</td>\n      <td>NaN</td>\n      <td>NaN</td>\n    </tr>\n    <tr>\n      <th>2</th>\n      <td>2 Days in Paris (2007)</td>\n      <td>2 Days in...</td>\n      <td>2007.0</td>\n      <td>2 Days in Paris</td>\n      <td>6.8</td>\n      <td>67.0</td>\n    </tr>\n    <tr>\n      <th>3</th>\n      <td>2 Days in New York (2012)</td>\n      <td>2 Days in...</td>\n      <td>2012.0</td>\n      <td>2 Days in New York</td>\n      <td>6.0</td>\n      <td>61.0</td>\n    </tr>\n    <tr>\n      <th>4</th>\n      <td>8mm (1999)</td>\n      <td>8mm</td>\n      <td>1999.0</td>\n      <td>8mm</td>\n      <td>6.5</td>\n      <td>19.0</td>\n    </tr>\n  </tbody>\n</table>\n</div>"
     },
     "metadata": {},
     "execution_count": 89
    }
   ],
   "source": [
    "final_df.head()"
   ]
  },
  {
   "cell_type": "code",
   "execution_count": 90,
   "metadata": {},
   "outputs": [],
   "source": [
    "# Drop NA in the imdb column and group_by series, then filter out those series that only have one entry\n",
    "keep_series = pd.DataFrame(final_df.dropna(subset=['imdb']).groupby('series')['title'].count() == 1).reset_index()\n",
    "\n",
    "# Build a list of the series to keep (This could probably be combined with the previous cell)\n",
    "keep_list = list(keep_series.loc[keep_series['title'] == False, 'series'])\n",
    "\n",
    "# Create the final data frame by keeping only the series that are in the keep list\n",
    "output = final_df.loc[final_df['series'].isin(keep_list)]"
   ]
  },
  {
   "cell_type": "code",
   "execution_count": 91,
   "metadata": {},
   "outputs": [],
   "source": [
    "# Create a summary dataframe\n",
    "summary = output.groupby('series')['imdb'].last() - final_df.groupby('series')['imdb'].first()"
   ]
  },
  {
   "cell_type": "code",
   "execution_count": 92,
   "metadata": {},
   "outputs": [
    {
     "output_type": "execute_result",
     "data": {
      "text/plain": "<AxesSubplot:ylabel='Density'>"
     },
     "metadata": {},
     "execution_count": 92
    },
    {
     "output_type": "display_data",
     "data": {
      "text/plain": "<Figure size 432x288 with 1 Axes>",
      "image/svg+xml": "<?xml version=\"1.0\" encoding=\"utf-8\" standalone=\"no\"?>\n<!DOCTYPE svg PUBLIC \"-//W3C//DTD SVG 1.1//EN\"\n  \"http://www.w3.org/Graphics/SVG/1.1/DTD/svg11.dtd\">\n<!-- Created with matplotlib (https://matplotlib.org/) -->\n<svg height=\"248.518125pt\" version=\"1.1\" viewBox=\"0 0 385.78125 248.518125\" width=\"385.78125pt\" xmlns=\"http://www.w3.org/2000/svg\" xmlns:xlink=\"http://www.w3.org/1999/xlink\">\n <metadata>\n  <rdf:RDF xmlns:cc=\"http://creativecommons.org/ns#\" xmlns:dc=\"http://purl.org/dc/elements/1.1/\" xmlns:rdf=\"http://www.w3.org/1999/02/22-rdf-syntax-ns#\">\n   <cc:Work>\n    <dc:type rdf:resource=\"http://purl.org/dc/dcmitype/StillImage\"/>\n    <dc:date>2020-07-26T10:18:19.951098</dc:date>\n    <dc:format>image/svg+xml</dc:format>\n    <dc:creator>\n     <cc:Agent>\n      <dc:title>Matplotlib v3.3.0, https://matplotlib.org/</dc:title>\n     </cc:Agent>\n    </dc:creator>\n   </cc:Work>\n  </rdf:RDF>\n </metadata>\n <defs>\n  <style type=\"text/css\">*{stroke-linecap:butt;stroke-linejoin:round;}</style>\n </defs>\n <g id=\"figure_1\">\n  <g id=\"patch_1\">\n   <path d=\"M 0 248.518125 \nL 385.78125 248.518125 \nL 385.78125 0 \nL 0 0 \nz\n\" style=\"fill:none;\"/>\n  </g>\n  <g id=\"axes_1\">\n   <g id=\"patch_2\">\n    <path d=\"M 43.78125 224.64 \nL 378.58125 224.64 \nL 378.58125 7.2 \nL 43.78125 7.2 \nz\n\" style=\"fill:#ffffff;\"/>\n   </g>\n   <g id=\"matplotlib.axis_1\">\n    <g id=\"xtick_1\">\n     <g id=\"line2d_1\">\n      <defs>\n       <path d=\"M 0 0 \nL 0 3.5 \n\" id=\"me484222791\" style=\"stroke:#000000;stroke-width:0.8;\"/>\n      </defs>\n      <g>\n       <use style=\"stroke:#000000;stroke-width:0.8;\" x=\"50.942747\" xlink:href=\"#me484222791\" y=\"224.64\"/>\n      </g>\n     </g>\n     <g id=\"text_1\">\n      <!-- −10.0 -->\n      <g transform=\"translate(35.620091 239.238437)scale(0.1 -0.1)\">\n       <defs>\n        <path d=\"M 10.59375 35.5 \nL 73.1875 35.5 \nL 73.1875 27.203125 \nL 10.59375 27.203125 \nz\n\" id=\"DejaVuSans-8722\"/>\n        <path d=\"M 12.40625 8.296875 \nL 28.515625 8.296875 \nL 28.515625 63.921875 \nL 10.984375 60.40625 \nL 10.984375 69.390625 \nL 28.421875 72.90625 \nL 38.28125 72.90625 \nL 38.28125 8.296875 \nL 54.390625 8.296875 \nL 54.390625 0 \nL 12.40625 0 \nz\n\" id=\"DejaVuSans-49\"/>\n        <path d=\"M 31.78125 66.40625 \nQ 24.171875 66.40625 20.328125 58.90625 \nQ 16.5 51.421875 16.5 36.375 \nQ 16.5 21.390625 20.328125 13.890625 \nQ 24.171875 6.390625 31.78125 6.390625 \nQ 39.453125 6.390625 43.28125 13.890625 \nQ 47.125 21.390625 47.125 36.375 \nQ 47.125 51.421875 43.28125 58.90625 \nQ 39.453125 66.40625 31.78125 66.40625 \nz\nM 31.78125 74.21875 \nQ 44.046875 74.21875 50.515625 64.515625 \nQ 56.984375 54.828125 56.984375 36.375 \nQ 56.984375 17.96875 50.515625 8.265625 \nQ 44.046875 -1.421875 31.78125 -1.421875 \nQ 19.53125 -1.421875 13.0625 8.265625 \nQ 6.59375 17.96875 6.59375 36.375 \nQ 6.59375 54.828125 13.0625 64.515625 \nQ 19.53125 74.21875 31.78125 74.21875 \nz\n\" id=\"DejaVuSans-48\"/>\n        <path d=\"M 10.6875 12.40625 \nL 21 12.40625 \nL 21 0 \nL 10.6875 0 \nz\n\" id=\"DejaVuSans-46\"/>\n       </defs>\n       <use xlink:href=\"#DejaVuSans-8722\"/>\n       <use x=\"83.789062\" xlink:href=\"#DejaVuSans-49\"/>\n       <use x=\"147.412109\" xlink:href=\"#DejaVuSans-48\"/>\n       <use x=\"211.035156\" xlink:href=\"#DejaVuSans-46\"/>\n       <use x=\"242.822266\" xlink:href=\"#DejaVuSans-48\"/>\n      </g>\n     </g>\n    </g>\n    <g id=\"xtick_2\">\n     <g id=\"line2d_2\">\n      <g>\n       <use style=\"stroke:#000000;stroke-width:0.8;\" x=\"95.702106\" xlink:href=\"#me484222791\" y=\"224.64\"/>\n      </g>\n     </g>\n     <g id=\"text_2\">\n      <!-- −7.5 -->\n      <g transform=\"translate(83.560699 239.238437)scale(0.1 -0.1)\">\n       <defs>\n        <path d=\"M 8.203125 72.90625 \nL 55.078125 72.90625 \nL 55.078125 68.703125 \nL 28.609375 0 \nL 18.3125 0 \nL 43.21875 64.59375 \nL 8.203125 64.59375 \nz\n\" id=\"DejaVuSans-55\"/>\n        <path d=\"M 10.796875 72.90625 \nL 49.515625 72.90625 \nL 49.515625 64.59375 \nL 19.828125 64.59375 \nL 19.828125 46.734375 \nQ 21.96875 47.46875 24.109375 47.828125 \nQ 26.265625 48.1875 28.421875 48.1875 \nQ 40.625 48.1875 47.75 41.5 \nQ 54.890625 34.8125 54.890625 23.390625 \nQ 54.890625 11.625 47.5625 5.09375 \nQ 40.234375 -1.421875 26.90625 -1.421875 \nQ 22.3125 -1.421875 17.546875 -0.640625 \nQ 12.796875 0.140625 7.71875 1.703125 \nL 7.71875 11.625 \nQ 12.109375 9.234375 16.796875 8.0625 \nQ 21.484375 6.890625 26.703125 6.890625 \nQ 35.15625 6.890625 40.078125 11.328125 \nQ 45.015625 15.765625 45.015625 23.390625 \nQ 45.015625 31 40.078125 35.4375 \nQ 35.15625 39.890625 26.703125 39.890625 \nQ 22.75 39.890625 18.8125 39.015625 \nQ 14.890625 38.140625 10.796875 36.28125 \nz\n\" id=\"DejaVuSans-53\"/>\n       </defs>\n       <use xlink:href=\"#DejaVuSans-8722\"/>\n       <use x=\"83.789062\" xlink:href=\"#DejaVuSans-55\"/>\n       <use x=\"147.412109\" xlink:href=\"#DejaVuSans-46\"/>\n       <use x=\"179.199219\" xlink:href=\"#DejaVuSans-53\"/>\n      </g>\n     </g>\n    </g>\n    <g id=\"xtick_3\">\n     <g id=\"line2d_3\">\n      <g>\n       <use style=\"stroke:#000000;stroke-width:0.8;\" x=\"140.461464\" xlink:href=\"#me484222791\" y=\"224.64\"/>\n      </g>\n     </g>\n     <g id=\"text_3\">\n      <!-- −5.0 -->\n      <g transform=\"translate(128.320058 239.238437)scale(0.1 -0.1)\">\n       <use xlink:href=\"#DejaVuSans-8722\"/>\n       <use x=\"83.789062\" xlink:href=\"#DejaVuSans-53\"/>\n       <use x=\"147.412109\" xlink:href=\"#DejaVuSans-46\"/>\n       <use x=\"179.199219\" xlink:href=\"#DejaVuSans-48\"/>\n      </g>\n     </g>\n    </g>\n    <g id=\"xtick_4\">\n     <g id=\"line2d_4\">\n      <g>\n       <use style=\"stroke:#000000;stroke-width:0.8;\" x=\"185.220822\" xlink:href=\"#me484222791\" y=\"224.64\"/>\n      </g>\n     </g>\n     <g id=\"text_4\">\n      <!-- −2.5 -->\n      <g transform=\"translate(173.079416 239.238437)scale(0.1 -0.1)\">\n       <defs>\n        <path d=\"M 19.1875 8.296875 \nL 53.609375 8.296875 \nL 53.609375 0 \nL 7.328125 0 \nL 7.328125 8.296875 \nQ 12.9375 14.109375 22.625 23.890625 \nQ 32.328125 33.6875 34.8125 36.53125 \nQ 39.546875 41.84375 41.421875 45.53125 \nQ 43.3125 49.21875 43.3125 52.78125 \nQ 43.3125 58.59375 39.234375 62.25 \nQ 35.15625 65.921875 28.609375 65.921875 \nQ 23.96875 65.921875 18.8125 64.3125 \nQ 13.671875 62.703125 7.8125 59.421875 \nL 7.8125 69.390625 \nQ 13.765625 71.78125 18.9375 73 \nQ 24.125 74.21875 28.421875 74.21875 \nQ 39.75 74.21875 46.484375 68.546875 \nQ 53.21875 62.890625 53.21875 53.421875 \nQ 53.21875 48.921875 51.53125 44.890625 \nQ 49.859375 40.875 45.40625 35.40625 \nQ 44.1875 33.984375 37.640625 27.21875 \nQ 31.109375 20.453125 19.1875 8.296875 \nz\n\" id=\"DejaVuSans-50\"/>\n       </defs>\n       <use xlink:href=\"#DejaVuSans-8722\"/>\n       <use x=\"83.789062\" xlink:href=\"#DejaVuSans-50\"/>\n       <use x=\"147.412109\" xlink:href=\"#DejaVuSans-46\"/>\n       <use x=\"179.199219\" xlink:href=\"#DejaVuSans-53\"/>\n      </g>\n     </g>\n    </g>\n    <g id=\"xtick_5\">\n     <g id=\"line2d_5\">\n      <g>\n       <use style=\"stroke:#000000;stroke-width:0.8;\" x=\"229.98018\" xlink:href=\"#me484222791\" y=\"224.64\"/>\n      </g>\n     </g>\n     <g id=\"text_5\">\n      <!-- 0.0 -->\n      <g transform=\"translate(222.028618 239.238437)scale(0.1 -0.1)\">\n       <use xlink:href=\"#DejaVuSans-48\"/>\n       <use x=\"63.623047\" xlink:href=\"#DejaVuSans-46\"/>\n       <use x=\"95.410156\" xlink:href=\"#DejaVuSans-48\"/>\n      </g>\n     </g>\n    </g>\n    <g id=\"xtick_6\">\n     <g id=\"line2d_6\">\n      <g>\n       <use style=\"stroke:#000000;stroke-width:0.8;\" x=\"274.739539\" xlink:href=\"#me484222791\" y=\"224.64\"/>\n      </g>\n     </g>\n     <g id=\"text_6\">\n      <!-- 2.5 -->\n      <g transform=\"translate(266.787976 239.238437)scale(0.1 -0.1)\">\n       <use xlink:href=\"#DejaVuSans-50\"/>\n       <use x=\"63.623047\" xlink:href=\"#DejaVuSans-46\"/>\n       <use x=\"95.410156\" xlink:href=\"#DejaVuSans-53\"/>\n      </g>\n     </g>\n    </g>\n    <g id=\"xtick_7\">\n     <g id=\"line2d_7\">\n      <g>\n       <use style=\"stroke:#000000;stroke-width:0.8;\" x=\"319.498897\" xlink:href=\"#me484222791\" y=\"224.64\"/>\n      </g>\n     </g>\n     <g id=\"text_7\">\n      <!-- 5.0 -->\n      <g transform=\"translate(311.547335 239.238437)scale(0.1 -0.1)\">\n       <use xlink:href=\"#DejaVuSans-53\"/>\n       <use x=\"63.623047\" xlink:href=\"#DejaVuSans-46\"/>\n       <use x=\"95.410156\" xlink:href=\"#DejaVuSans-48\"/>\n      </g>\n     </g>\n    </g>\n    <g id=\"xtick_8\">\n     <g id=\"line2d_8\">\n      <g>\n       <use style=\"stroke:#000000;stroke-width:0.8;\" x=\"364.258255\" xlink:href=\"#me484222791\" y=\"224.64\"/>\n      </g>\n     </g>\n     <g id=\"text_8\">\n      <!-- 7.5 -->\n      <g transform=\"translate(356.306693 239.238437)scale(0.1 -0.1)\">\n       <use xlink:href=\"#DejaVuSans-55\"/>\n       <use x=\"63.623047\" xlink:href=\"#DejaVuSans-46\"/>\n       <use x=\"95.410156\" xlink:href=\"#DejaVuSans-53\"/>\n      </g>\n     </g>\n    </g>\n   </g>\n   <g id=\"matplotlib.axis_2\">\n    <g id=\"ytick_1\">\n     <g id=\"line2d_9\">\n      <defs>\n       <path d=\"M 0 0 \nL -3.5 0 \n\" id=\"m59b115a9fa\" style=\"stroke:#000000;stroke-width:0.8;\"/>\n      </defs>\n      <g>\n       <use style=\"stroke:#000000;stroke-width:0.8;\" x=\"43.78125\" xlink:href=\"#m59b115a9fa\" y=\"214.756364\"/>\n      </g>\n     </g>\n     <g id=\"text_9\">\n      <!-- 0.0 -->\n      <g transform=\"translate(20.878125 218.555582)scale(0.1 -0.1)\">\n       <use xlink:href=\"#DejaVuSans-48\"/>\n       <use x=\"63.623047\" xlink:href=\"#DejaVuSans-46\"/>\n       <use x=\"95.410156\" xlink:href=\"#DejaVuSans-48\"/>\n      </g>\n     </g>\n    </g>\n    <g id=\"ytick_2\">\n     <g id=\"line2d_10\">\n      <g>\n       <use style=\"stroke:#000000;stroke-width:0.8;\" x=\"43.78125\" xlink:href=\"#m59b115a9fa\" y=\"172.844754\"/>\n      </g>\n     </g>\n     <g id=\"text_10\">\n      <!-- 0.1 -->\n      <g transform=\"translate(20.878125 176.643973)scale(0.1 -0.1)\">\n       <use xlink:href=\"#DejaVuSans-48\"/>\n       <use x=\"63.623047\" xlink:href=\"#DejaVuSans-46\"/>\n       <use x=\"95.410156\" xlink:href=\"#DejaVuSans-49\"/>\n      </g>\n     </g>\n    </g>\n    <g id=\"ytick_3\">\n     <g id=\"line2d_11\">\n      <g>\n       <use style=\"stroke:#000000;stroke-width:0.8;\" x=\"43.78125\" xlink:href=\"#m59b115a9fa\" y=\"130.933144\"/>\n      </g>\n     </g>\n     <g id=\"text_11\">\n      <!-- 0.2 -->\n      <g transform=\"translate(20.878125 134.732363)scale(0.1 -0.1)\">\n       <use xlink:href=\"#DejaVuSans-48\"/>\n       <use x=\"63.623047\" xlink:href=\"#DejaVuSans-46\"/>\n       <use x=\"95.410156\" xlink:href=\"#DejaVuSans-50\"/>\n      </g>\n     </g>\n    </g>\n    <g id=\"ytick_4\">\n     <g id=\"line2d_12\">\n      <g>\n       <use style=\"stroke:#000000;stroke-width:0.8;\" x=\"43.78125\" xlink:href=\"#m59b115a9fa\" y=\"89.021535\"/>\n      </g>\n     </g>\n     <g id=\"text_12\">\n      <!-- 0.3 -->\n      <g transform=\"translate(20.878125 92.820754)scale(0.1 -0.1)\">\n       <defs>\n        <path d=\"M 40.578125 39.3125 \nQ 47.65625 37.796875 51.625 33 \nQ 55.609375 28.21875 55.609375 21.1875 \nQ 55.609375 10.40625 48.1875 4.484375 \nQ 40.765625 -1.421875 27.09375 -1.421875 \nQ 22.515625 -1.421875 17.65625 -0.515625 \nQ 12.796875 0.390625 7.625 2.203125 \nL 7.625 11.71875 \nQ 11.71875 9.328125 16.59375 8.109375 \nQ 21.484375 6.890625 26.8125 6.890625 \nQ 36.078125 6.890625 40.9375 10.546875 \nQ 45.796875 14.203125 45.796875 21.1875 \nQ 45.796875 27.640625 41.28125 31.265625 \nQ 36.765625 34.90625 28.71875 34.90625 \nL 20.21875 34.90625 \nL 20.21875 43.015625 \nL 29.109375 43.015625 \nQ 36.375 43.015625 40.234375 45.921875 \nQ 44.09375 48.828125 44.09375 54.296875 \nQ 44.09375 59.90625 40.109375 62.90625 \nQ 36.140625 65.921875 28.71875 65.921875 \nQ 24.65625 65.921875 20.015625 65.03125 \nQ 15.375 64.15625 9.8125 62.3125 \nL 9.8125 71.09375 \nQ 15.4375 72.65625 20.34375 73.4375 \nQ 25.25 74.21875 29.59375 74.21875 \nQ 40.828125 74.21875 47.359375 69.109375 \nQ 53.90625 64.015625 53.90625 55.328125 \nQ 53.90625 49.265625 50.4375 45.09375 \nQ 46.96875 40.921875 40.578125 39.3125 \nz\n\" id=\"DejaVuSans-51\"/>\n       </defs>\n       <use xlink:href=\"#DejaVuSans-48\"/>\n       <use x=\"63.623047\" xlink:href=\"#DejaVuSans-46\"/>\n       <use x=\"95.410156\" xlink:href=\"#DejaVuSans-51\"/>\n      </g>\n     </g>\n    </g>\n    <g id=\"ytick_5\">\n     <g id=\"line2d_13\">\n      <g>\n       <use style=\"stroke:#000000;stroke-width:0.8;\" x=\"43.78125\" xlink:href=\"#m59b115a9fa\" y=\"47.109925\"/>\n      </g>\n     </g>\n     <g id=\"text_13\">\n      <!-- 0.4 -->\n      <g transform=\"translate(20.878125 50.909144)scale(0.1 -0.1)\">\n       <defs>\n        <path d=\"M 37.796875 64.3125 \nL 12.890625 25.390625 \nL 37.796875 25.390625 \nz\nM 35.203125 72.90625 \nL 47.609375 72.90625 \nL 47.609375 25.390625 \nL 58.015625 25.390625 \nL 58.015625 17.1875 \nL 47.609375 17.1875 \nL 47.609375 0 \nL 37.796875 0 \nL 37.796875 17.1875 \nL 4.890625 17.1875 \nL 4.890625 26.703125 \nz\n\" id=\"DejaVuSans-52\"/>\n       </defs>\n       <use xlink:href=\"#DejaVuSans-48\"/>\n       <use x=\"63.623047\" xlink:href=\"#DejaVuSans-46\"/>\n       <use x=\"95.410156\" xlink:href=\"#DejaVuSans-52\"/>\n      </g>\n     </g>\n    </g>\n    <g id=\"text_14\">\n     <!-- Density -->\n     <g transform=\"translate(14.798438 134.928594)rotate(-90)scale(0.1 -0.1)\">\n      <defs>\n       <path d=\"M 19.671875 64.796875 \nL 19.671875 8.109375 \nL 31.59375 8.109375 \nQ 46.6875 8.109375 53.6875 14.9375 \nQ 60.6875 21.78125 60.6875 36.53125 \nQ 60.6875 51.171875 53.6875 57.984375 \nQ 46.6875 64.796875 31.59375 64.796875 \nz\nM 9.8125 72.90625 \nL 30.078125 72.90625 \nQ 51.265625 72.90625 61.171875 64.09375 \nQ 71.09375 55.28125 71.09375 36.53125 \nQ 71.09375 17.671875 61.125 8.828125 \nQ 51.171875 0 30.078125 0 \nL 9.8125 0 \nz\n\" id=\"DejaVuSans-68\"/>\n       <path d=\"M 56.203125 29.59375 \nL 56.203125 25.203125 \nL 14.890625 25.203125 \nQ 15.484375 15.921875 20.484375 11.0625 \nQ 25.484375 6.203125 34.421875 6.203125 \nQ 39.59375 6.203125 44.453125 7.46875 \nQ 49.3125 8.734375 54.109375 11.28125 \nL 54.109375 2.78125 \nQ 49.265625 0.734375 44.1875 -0.34375 \nQ 39.109375 -1.421875 33.890625 -1.421875 \nQ 20.796875 -1.421875 13.15625 6.1875 \nQ 5.515625 13.8125 5.515625 26.8125 \nQ 5.515625 40.234375 12.765625 48.109375 \nQ 20.015625 56 32.328125 56 \nQ 43.359375 56 49.78125 48.890625 \nQ 56.203125 41.796875 56.203125 29.59375 \nz\nM 47.21875 32.234375 \nQ 47.125 39.59375 43.09375 43.984375 \nQ 39.0625 48.390625 32.421875 48.390625 \nQ 24.90625 48.390625 20.390625 44.140625 \nQ 15.875 39.890625 15.1875 32.171875 \nz\n\" id=\"DejaVuSans-101\"/>\n       <path d=\"M 54.890625 33.015625 \nL 54.890625 0 \nL 45.90625 0 \nL 45.90625 32.71875 \nQ 45.90625 40.484375 42.875 44.328125 \nQ 39.84375 48.1875 33.796875 48.1875 \nQ 26.515625 48.1875 22.3125 43.546875 \nQ 18.109375 38.921875 18.109375 30.90625 \nL 18.109375 0 \nL 9.078125 0 \nL 9.078125 54.6875 \nL 18.109375 54.6875 \nL 18.109375 46.1875 \nQ 21.34375 51.125 25.703125 53.5625 \nQ 30.078125 56 35.796875 56 \nQ 45.21875 56 50.046875 50.171875 \nQ 54.890625 44.34375 54.890625 33.015625 \nz\n\" id=\"DejaVuSans-110\"/>\n       <path d=\"M 44.28125 53.078125 \nL 44.28125 44.578125 \nQ 40.484375 46.53125 36.375 47.5 \nQ 32.28125 48.484375 27.875 48.484375 \nQ 21.1875 48.484375 17.84375 46.4375 \nQ 14.5 44.390625 14.5 40.28125 \nQ 14.5 37.15625 16.890625 35.375 \nQ 19.28125 33.59375 26.515625 31.984375 \nL 29.59375 31.296875 \nQ 39.15625 29.25 43.1875 25.515625 \nQ 47.21875 21.78125 47.21875 15.09375 \nQ 47.21875 7.46875 41.1875 3.015625 \nQ 35.15625 -1.421875 24.609375 -1.421875 \nQ 20.21875 -1.421875 15.453125 -0.5625 \nQ 10.6875 0.296875 5.421875 2 \nL 5.421875 11.28125 \nQ 10.40625 8.6875 15.234375 7.390625 \nQ 20.0625 6.109375 24.8125 6.109375 \nQ 31.15625 6.109375 34.5625 8.28125 \nQ 37.984375 10.453125 37.984375 14.40625 \nQ 37.984375 18.0625 35.515625 20.015625 \nQ 33.0625 21.96875 24.703125 23.78125 \nL 21.578125 24.515625 \nQ 13.234375 26.265625 9.515625 29.90625 \nQ 5.8125 33.546875 5.8125 39.890625 \nQ 5.8125 47.609375 11.28125 51.796875 \nQ 16.75 56 26.8125 56 \nQ 31.78125 56 36.171875 55.265625 \nQ 40.578125 54.546875 44.28125 53.078125 \nz\n\" id=\"DejaVuSans-115\"/>\n       <path d=\"M 9.421875 54.6875 \nL 18.40625 54.6875 \nL 18.40625 0 \nL 9.421875 0 \nz\nM 9.421875 75.984375 \nL 18.40625 75.984375 \nL 18.40625 64.59375 \nL 9.421875 64.59375 \nz\n\" id=\"DejaVuSans-105\"/>\n       <path d=\"M 18.3125 70.21875 \nL 18.3125 54.6875 \nL 36.8125 54.6875 \nL 36.8125 47.703125 \nL 18.3125 47.703125 \nL 18.3125 18.015625 \nQ 18.3125 11.328125 20.140625 9.421875 \nQ 21.96875 7.515625 27.59375 7.515625 \nL 36.8125 7.515625 \nL 36.8125 0 \nL 27.59375 0 \nQ 17.1875 0 13.234375 3.875 \nQ 9.28125 7.765625 9.28125 18.015625 \nL 9.28125 47.703125 \nL 2.6875 47.703125 \nL 2.6875 54.6875 \nL 9.28125 54.6875 \nL 9.28125 70.21875 \nz\n\" id=\"DejaVuSans-116\"/>\n       <path d=\"M 32.171875 -5.078125 \nQ 28.375 -14.84375 24.75 -17.8125 \nQ 21.140625 -20.796875 15.09375 -20.796875 \nL 7.90625 -20.796875 \nL 7.90625 -13.28125 \nL 13.1875 -13.28125 \nQ 16.890625 -13.28125 18.9375 -11.515625 \nQ 21 -9.765625 23.484375 -3.21875 \nL 25.09375 0.875 \nL 2.984375 54.6875 \nL 12.5 54.6875 \nL 29.59375 11.921875 \nL 46.6875 54.6875 \nL 56.203125 54.6875 \nz\n\" id=\"DejaVuSans-121\"/>\n      </defs>\n      <use xlink:href=\"#DejaVuSans-68\"/>\n      <use x=\"77.001953\" xlink:href=\"#DejaVuSans-101\"/>\n      <use x=\"138.525391\" xlink:href=\"#DejaVuSans-110\"/>\n      <use x=\"201.904297\" xlink:href=\"#DejaVuSans-115\"/>\n      <use x=\"254.003906\" xlink:href=\"#DejaVuSans-105\"/>\n      <use x=\"281.787109\" xlink:href=\"#DejaVuSans-116\"/>\n      <use x=\"320.996094\" xlink:href=\"#DejaVuSans-121\"/>\n     </g>\n    </g>\n   </g>\n   <g id=\"line2d_14\">\n    <path clip-path=\"url(#pcc3f00c7f8)\" d=\"M 58.999432 214.756364 \nL 123.589112 214.653009 \nL 127.245132 214.376084 \nL 137.299186 213.344513 \nL 141.869211 213.130318 \nL 147.35324 212.51482 \nL 151.618596 212.218207 \nL 154.665279 211.916519 \nL 156.797958 211.475103 \nL 158.625967 210.886654 \nL 160.758646 209.941596 \nL 163.195992 208.570355 \nL 172.640709 202.67182 \nL 174.468719 201.184583 \nL 176.296729 199.356347 \nL 178.124739 197.211431 \nL 180.562085 193.989905 \nL 182.694764 190.861124 \nL 184.522773 187.802533 \nL 186.046115 184.821695 \nL 187.569456 181.322782 \nL 189.092798 177.257993 \nL 190.920808 171.706122 \nL 193.358154 163.518271 \nL 196.100169 153.6083 \nL 198.232847 145.07278 \nL 200.060857 136.690323 \nL 201.888867 127.032045 \nL 203.716877 116.0937 \nL 205.849555 101.992978 \nL 208.591569 82.359794 \nL 214.075599 42.469332 \nL 215.59894 33.194229 \nL 216.817614 27.027808 \nL 217.731619 23.287089 \nL 218.645623 20.386135 \nL 219.25496 18.944661 \nL 219.864297 17.909638 \nL 220.473633 17.287931 \nL 221.08297 17.083636 \nL 221.692307 17.298682 \nL 222.301643 17.933363 \nL 222.91098 18.986747 \nL 223.520316 20.456902 \nL 224.434321 23.436826 \nL 225.348326 27.331933 \nL 226.262331 32.116244 \nL 227.481004 39.803692 \nL 229.004346 51.280024 \nL 230.832356 67.135181 \nL 238.144395 133.22213 \nL 240.277073 149.554591 \nL 242.409751 164.096452 \nL 244.237761 174.922827 \nL 245.761103 182.604738 \nL 246.979776 187.793751 \nL 248.198449 192.111063 \nL 249.417122 195.57997 \nL 250.635795 198.266101 \nL 251.5498 199.828337 \nL 252.768474 201.412976 \nL 253.987147 202.563622 \nL 255.510488 203.619923 \nL 262.517859 207.925873 \nL 265.564542 209.82637 \nL 268.306557 211.250942 \nL 271.35324 212.595242 \nL 273.790587 213.457992 \nL 275.923265 213.963805 \nL 277.751275 214.175059 \nL 279.883953 214.179309 \nL 282.625967 213.931871 \nL 286.281987 213.602785 \nL 288.719334 213.62923 \nL 291.461348 213.908083 \nL 297.250046 214.568152 \nL 301.210734 214.723297 \nL 310.046115 214.756278 \nL 363.363068 214.756364 \nL 363.363068 214.756364 \n\" style=\"fill:none;stroke:#1f77b4;stroke-linecap:square;stroke-width:1.5;\"/>\n   </g>\n   <g id=\"patch_3\">\n    <path d=\"M 43.78125 224.64 \nL 43.78125 7.2 \n\" style=\"fill:none;stroke:#000000;stroke-linecap:square;stroke-linejoin:miter;stroke-width:0.8;\"/>\n   </g>\n   <g id=\"patch_4\">\n    <path d=\"M 378.58125 224.64 \nL 378.58125 7.2 \n\" style=\"fill:none;stroke:#000000;stroke-linecap:square;stroke-linejoin:miter;stroke-width:0.8;\"/>\n   </g>\n   <g id=\"patch_5\">\n    <path d=\"M 43.78125 224.64 \nL 378.58125 224.64 \n\" style=\"fill:none;stroke:#000000;stroke-linecap:square;stroke-linejoin:miter;stroke-width:0.8;\"/>\n   </g>\n   <g id=\"patch_6\">\n    <path d=\"M 43.78125 7.2 \nL 378.58125 7.2 \n\" style=\"fill:none;stroke:#000000;stroke-linecap:square;stroke-linejoin:miter;stroke-width:0.8;\"/>\n   </g>\n  </g>\n </g>\n <defs>\n  <clipPath id=\"pcc3f00c7f8\">\n   <rect height=\"217.44\" width=\"334.8\" x=\"43.78125\" y=\"7.2\"/>\n  </clipPath>\n </defs>\n</svg>\n",
      "image/png": "[encoded data removed]"
     },
     "metadata": {
      "needs_background": "light"
     }
    }
   ],
   "source": [
    "# Plot the review distribution - Maybe I'll do something with this later\n",
    "\n",
    "summary.plot.kde()"
   ]
  },
  {
   "cell_type": "code",
   "execution_count": 93,
   "metadata": {},
   "outputs": [
    {
     "output_type": "execute_result",
     "data": {
      "text/plain": "count    490.000000\nmean      -0.715714\nstd        1.006146\nmin       -5.300000\n25%       -1.200000\n50%       -0.600000\n75%       -0.100000\nmax        3.200000\nName: imdb, dtype: float64"
     },
     "metadata": {},
     "execution_count": 93
    }
   ],
   "source": [
    "summary.describe()"
   ]
  },
  {
   "cell_type": "code",
   "execution_count": 95,
   "metadata": {},
   "outputs": [],
   "source": [
    "#Write output to json format so it's easier to work with in javascript\n",
    "json = output[['title_clean', 'series', 'date', 'imdb']].to_json(orient='records')\n",
    "\n",
    "#Write it to the res directory\n",
    "with open('../res/movieData.json', 'w') as f:\n",
    "    f.write(json)"
   ]
  },
  {
   "cell_type": "code",
   "execution_count": null,
   "metadata": {},
   "outputs": [],
   "source": []
  }
 ],
 "metadata": {
  "kernelspec": {
   "display_name": "movies",
   "language": "python",
   "name": "movies"
  },
  "language_info": {
   "codemirror_mode": {
    "name": "ipython",
    "version": 3
   },
   "file_extension": ".py",
   "mimetype": "text/x-python",
   "name": "python",
   "nbconvert_exporter": "python",
   "pygments_lexer": "ipython3",
   "version": "3.8.3-final"
  }
 },
 "nbformat": 4,
 "nbformat_minor": 4
}