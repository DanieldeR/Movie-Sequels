{
 "cells": [
  {
   "cell_type": "code",
   "execution_count": 1,
   "metadata": {},
   "outputs": [],
   "source": [
    "import pandas as pd\n",
    "import requests\n",
    "from bs4 import BeautifulSoup\n",
    "import json\n",
    "import numpy as np"
   ]
  },
  {
   "cell_type": "code",
   "execution_count": 2,
   "metadata": {},
   "outputs": [],
   "source": [
    "url = \"https://en.wikipedia.org/wiki/List_of_feature_film_series_with_two_entries\""
   ]
  },
  {
   "cell_type": "code",
   "execution_count": 3,
   "metadata": {},
   "outputs": [],
   "source": [
    "r = requests.get(url)"
   ]
  },
  {
   "cell_type": "code",
   "execution_count": 4,
   "metadata": {},
   "outputs": [],
   "source": [
    "soup = BeautifulSoup(r.text, 'html.parser')"
   ]
  },
  {
   "cell_type": "code",
   "execution_count": 5,
   "metadata": {},
   "outputs": [],
   "source": [
    "#mix the soup\n",
    "m = [item.get_text().split('\\n') for item in soup.find_all('ol')]"
   ]
  },
  {
   "cell_type": "code",
   "execution_count": 6,
   "metadata": {},
   "outputs": [],
   "source": [
    "#Quick function to query the OMDB API\n",
    "def query_api(title, year):\n",
    "    \n",
    "    url = 'http://www.omdbapi.com'\n",
    "    \n",
    "    #Handle String years if necessary\n",
    "    try:\n",
    "        year = str(int(year))\n",
    "    except:\n",
    "        year = 'N/A'\n",
    "    \n",
    "    #Populate Params\n",
    "    params = {'t': title,\n",
    "           'y': year,\n",
    "           'apikey': '13deb148'}\n",
    "    \n",
    "    #Make the request\n",
    "    try:\n",
    "        r = requests.get(url, params=params)\n",
    "        #print(r)\n",
    "\n",
    "        json_text = json.loads(r.text)\n",
    "        #print(json_text)\n",
    "    except:\n",
    "        #print(r)\n",
    "        r = 0\n",
    "    \n",
    "    #Populate imdbRating\n",
    "    try:\n",
    "        imdb = json_text['imdbRating']\n",
    "    except:\n",
    "        imdb = 'N/A'\n",
    "    \n",
    "    #Populate Metascore Rating\n",
    "    try:\n",
    "        metascore = json_text['Metascore']\n",
    "    except:\n",
    "        metascore = 'N/A'\n",
    "        \n",
    "    #print(imdb, metascore)\n",
    "    \n",
    "    return {'imdb': imdb, 'metascore': metascore}"
   ]
  },
  {
   "cell_type": "code",
   "execution_count": 7,
   "metadata": {},
   "outputs": [],
   "source": [
    "# Start of second try"
   ]
  },
  {
   "cell_type": "code",
   "execution_count": 8,
   "metadata": {},
   "outputs": [],
   "source": [
    "l = [item.text.split('\\n') for item in soup.find('div', {'class': 'div-col'}).find_all('li')]"
   ]
  },
  {
   "cell_type": "code",
   "execution_count": 9,
   "metadata": {},
   "outputs": [],
   "source": [
    "def filterList(item):\n",
    "    return len(item) == 3\n",
    "\n",
    "clean_list = list(filter(filterList, l))"
   ]
  },
  {
   "cell_type": "code",
   "execution_count": 10,
   "metadata": {},
   "outputs": [],
   "source": [
    "#TODO: refactor to work with more than 2 movies\n",
    "titles = [[{'title':item[1], 'series': item[0]}, {'title':item[2], 'series':item[0]}] for item in clean_list]"
   ]
  },
  {
   "cell_type": "code",
   "execution_count": 11,
   "metadata": {},
   "outputs": [],
   "source": [
    "df = pd.DataFrame([item for sublist in titles for item in sublist])"
   ]
  },
  {
   "cell_type": "code",
   "execution_count": 12,
   "metadata": {},
   "outputs": [],
   "source": [
    "#Clean up the date column\n",
    "def return_date(item):\n",
    "    try:\n",
    "        return item.split('(')[1].split(')')[0]\n",
    "    except:\n",
    "        return np.nan\n",
    "    \n",
    "df['date'] = df['title'].apply(lambda x:return_date(x))\n",
    "df['title_clean'] = df['title'].apply(lambda x: x.split('(')[0])"
   ]
  },
  {
   "cell_type": "code",
   "execution_count": 13,
   "metadata": {},
   "outputs": [
    {
     "data": {
      "text/html": [
       "<div>\n",
       "<style scoped>\n",
       "    .dataframe tbody tr th:only-of-type {\n",
       "        vertical-align: middle;\n",
       "    }\n",
       "\n",
       "    .dataframe tbody tr th {\n",
       "        vertical-align: top;\n",
       "    }\n",
       "\n",
       "    .dataframe thead th {\n",
       "        text-align: right;\n",
       "    }\n",
       "</style>\n",
       "<table border=\"1\" class=\"dataframe\">\n",
       "  <thead>\n",
       "    <tr style=\"text-align: right;\">\n",
       "      <th></th>\n",
       "      <th>title</th>\n",
       "      <th>series</th>\n",
       "      <th>date</th>\n",
       "      <th>title_clean</th>\n",
       "    </tr>\n",
       "  </thead>\n",
       "  <tbody>\n",
       "    <tr>\n",
       "      <th>0</th>\n",
       "      <td>00 Schneider – Jagd auf Nihil Baxter (1994)</td>\n",
       "      <td>00 Schneider</td>\n",
       "      <td>1994</td>\n",
       "      <td>00 Schneider – Jagd auf Nihil Baxter</td>\n",
       "    </tr>\n",
       "    <tr>\n",
       "      <th>1</th>\n",
       "      <td>00 Schneider – Im Wendekreis der Eidechse [de]...</td>\n",
       "      <td>00 Schneider</td>\n",
       "      <td>2013</td>\n",
       "      <td>00 Schneider – Im Wendekreis der Eidechse [de]</td>\n",
       "    </tr>\n",
       "    <tr>\n",
       "      <th>2</th>\n",
       "      <td>2 Days in Paris (2007)</td>\n",
       "      <td>2 Days in...</td>\n",
       "      <td>2007</td>\n",
       "      <td>2 Days in Paris</td>\n",
       "    </tr>\n",
       "    <tr>\n",
       "      <th>3</th>\n",
       "      <td>2 Days in New York (2012)</td>\n",
       "      <td>2 Days in...</td>\n",
       "      <td>2012</td>\n",
       "      <td>2 Days in New York</td>\n",
       "    </tr>\n",
       "    <tr>\n",
       "      <th>4</th>\n",
       "      <td>8mm (1999)</td>\n",
       "      <td>8mm</td>\n",
       "      <td>1999</td>\n",
       "      <td>8mm</td>\n",
       "    </tr>\n",
       "    <tr>\n",
       "      <th>...</th>\n",
       "      <td>...</td>\n",
       "      <td>...</td>\n",
       "      <td>...</td>\n",
       "      <td>...</td>\n",
       "    </tr>\n",
       "    <tr>\n",
       "      <th>3347</th>\n",
       "      <td>Zulu Dawn (1979) (prequel)</td>\n",
       "      <td>Zulu</td>\n",
       "      <td>1979</td>\n",
       "      <td>Zulu Dawn</td>\n",
       "    </tr>\n",
       "    <tr>\n",
       "      <th>3348</th>\n",
       "      <td>Zuma (1985)</td>\n",
       "      <td>Zuma</td>\n",
       "      <td>1985</td>\n",
       "      <td>Zuma</td>\n",
       "    </tr>\n",
       "    <tr>\n",
       "      <th>3349</th>\n",
       "      <td>Anak ni Zuma (1987)</td>\n",
       "      <td>Zuma</td>\n",
       "      <td>1987</td>\n",
       "      <td>Anak ni Zuma</td>\n",
       "    </tr>\n",
       "    <tr>\n",
       "      <th>3350</th>\n",
       "      <td>Dschungelmädchen für zwei Halunken [de] (1974)</td>\n",
       "      <td>Zwei Teufelskerle</td>\n",
       "      <td>1974</td>\n",
       "      <td>Dschungelmädchen für zwei Halunken [de]</td>\n",
       "    </tr>\n",
       "    <tr>\n",
       "      <th>3351</th>\n",
       "      <td>Zwei Teufelskerle auf dem Weg ins Kloster [de]...</td>\n",
       "      <td>Zwei Teufelskerle</td>\n",
       "      <td>1975</td>\n",
       "      <td>Zwei Teufelskerle auf dem Weg ins Kloster [de]</td>\n",
       "    </tr>\n",
       "  </tbody>\n",
       "</table>\n",
       "<p>3352 rows × 4 columns</p>\n",
       "</div>"
      ],
      "text/plain": [
       "                                                  title             series  \\\n",
       "0           00 Schneider – Jagd auf Nihil Baxter (1994)       00 Schneider   \n",
       "1     00 Schneider – Im Wendekreis der Eidechse [de]...       00 Schneider   \n",
       "2                                2 Days in Paris (2007)       2 Days in...   \n",
       "3                             2 Days in New York (2012)       2 Days in...   \n",
       "4                                            8mm (1999)                8mm   \n",
       "...                                                 ...                ...   \n",
       "3347                         Zulu Dawn (1979) (prequel)               Zulu   \n",
       "3348                                        Zuma (1985)               Zuma   \n",
       "3349                                Anak ni Zuma (1987)               Zuma   \n",
       "3350     Dschungelmädchen für zwei Halunken [de] (1974)  Zwei Teufelskerle   \n",
       "3351  Zwei Teufelskerle auf dem Weg ins Kloster [de]...  Zwei Teufelskerle   \n",
       "\n",
       "      date                                      title_clean  \n",
       "0     1994            00 Schneider – Jagd auf Nihil Baxter   \n",
       "1     2013  00 Schneider – Im Wendekreis der Eidechse [de]   \n",
       "2     2007                                 2 Days in Paris   \n",
       "3     2012                              2 Days in New York   \n",
       "4     1999                                             8mm   \n",
       "...    ...                                              ...  \n",
       "3347  1979                                       Zulu Dawn   \n",
       "3348  1985                                            Zuma   \n",
       "3349  1987                                    Anak ni Zuma   \n",
       "3350  1974         Dschungelmädchen für zwei Halunken [de]   \n",
       "3351  1975  Zwei Teufelskerle auf dem Weg ins Kloster [de]   \n",
       "\n",
       "[3352 rows x 4 columns]"
      ]
     },
     "execution_count": 13,
     "metadata": {},
     "output_type": "execute_result"
    }
   ],
   "source": [
    "df"
   ]
  },
  {
   "cell_type": "code",
   "execution_count": 14,
   "metadata": {},
   "outputs": [],
   "source": [
    "def convert_to_int(item):\n",
    "    try:\n",
    "        return float(item)\n",
    "    except:\n",
    "        return np.nan\n",
    "\n",
    "df['date'] = df['date'].apply(lambda x: convert_to_int(x))"
   ]
  },
  {
   "cell_type": "code",
   "execution_count": 29,
   "metadata": {},
   "outputs": [],
   "source": [
    "test_df = df.loc[df['date'] > 1990].head(100).copy()"
   ]
  },
  {
   "cell_type": "code",
   "execution_count": 30,
   "metadata": {},
   "outputs": [],
   "source": [
    "#test_df"
   ]
  },
  {
   "cell_type": "code",
   "execution_count": 31,
   "metadata": {},
   "outputs": [],
   "source": [
    "final_df = test_df.merge(test_df.apply(lambda x: pd.Series(query_api(x['title_clean'], x['date'])), axis=1), \n",
    "             left_index=True, right_index=True)"
   ]
  },
  {
   "cell_type": "code",
   "execution_count": 32,
   "metadata": {},
   "outputs": [],
   "source": [
    "series_names = final_df['series'].unique()"
   ]
  },
  {
   "cell_type": "code",
   "execution_count": 48,
   "metadata": {},
   "outputs": [],
   "source": [
    "final_df['imdb'] = final_df['imdb'].apply(lambda x: convert_to_int(x))\n",
    "final_df['metascore'] = final_df['metascore'].apply(lambda x: convert_to_int(x))"
   ]
  },
  {
   "cell_type": "code",
   "execution_count": 49,
   "metadata": {},
   "outputs": [],
   "source": [
    "summary = final_df.groupby('series')['imdb'].last() - final_df.groupby('series')['imdb'].first()"
   ]
  },
  {
   "cell_type": "code",
   "execution_count": 50,
   "metadata": {},
   "outputs": [
    {
     "data": {
      "text/plain": [
       "<AxesSubplot:ylabel='Density'>"
      ]
     },
     "execution_count": 50,
     "metadata": {},
     "output_type": "execute_result"
    },
    {
     "data": {
      "image/png": "[encoded data removed]",
      "text/plain": [
       "<Figure size 432x288 with 1 Axes>"
      ]
     },
     "metadata": {
      "needs_background": "light"
     },
     "output_type": "display_data"
    }
   ],
   "source": [
    "summary.plot.kde()"
   ]
  },
  {
   "cell_type": "code",
   "execution_count": 51,
   "metadata": {},
   "outputs": [
    {
     "data": {
      "text/plain": [
       "<AxesSubplot:>"
      ]
     },
     "execution_count": 51,
     "metadata": {},
     "output_type": "execute_result"
    },
    {
     "data": {
      "image/png": "[encoded data removed]",
      "text/plain": [
       "<Figure size 432x288 with 1 Axes>"
      ]
     },
     "metadata": {
      "needs_background": "light"
     },
     "output_type": "display_data"
    }
   ],
   "source": [
    "summary.plot.box(vert=False)"
   ]
  },
  {
   "cell_type": "code",
   "execution_count": 55,
   "metadata": {},
   "outputs": [
    {
     "data": {
      "text/plain": [
       "<AxesSubplot:ylabel='Frequency'>"
      ]
     },
     "execution_count": 55,
     "metadata": {},
     "output_type": "execute_result"
    },
    {
     "data": {
      "image/png": "[encoded data removed]",
      "text/plain": [
       "<Figure size 432x288 with 1 Axes>"
      ]
     },
     "metadata": {
      "needs_background": "light"
     },
     "output_type": "display_data"
    }
   ],
   "source": [
    "summary.plot.hist(bins=15)"
   ]
  },
  {
   "cell_type": "code",
   "execution_count": 56,
   "metadata": {},
   "outputs": [
    {
     "data": {
      "text/plain": [
       "count    46.000000\n",
       "mean     -0.276087\n",
       "std       0.876910\n",
       "min      -2.200000\n",
       "25%      -0.600000\n",
       "50%       0.000000\n",
       "75%       0.000000\n",
       "max       3.200000\n",
       "Name: imdb, dtype: float64"
      ]
     },
     "execution_count": 56,
     "metadata": {},
     "output_type": "execute_result"
    }
   ],
   "source": [
    "summary.describe()"
   ]
  },
  {
   "cell_type": "code",
   "execution_count": 41,
   "metadata": {},
   "outputs": [
    {
     "data": {
      "text/html": [
       "<div>\n",
       "<style scoped>\n",
       "    .dataframe tbody tr th:only-of-type {\n",
       "        vertical-align: middle;\n",
       "    }\n",
       "\n",
       "    .dataframe tbody tr th {\n",
       "        vertical-align: top;\n",
       "    }\n",
       "\n",
       "    .dataframe thead th {\n",
       "        text-align: right;\n",
       "    }\n",
       "</style>\n",
       "<table border=\"1\" class=\"dataframe\">\n",
       "  <thead>\n",
       "    <tr style=\"text-align: right;\">\n",
       "      <th></th>\n",
       "      <th>series</th>\n",
       "      <th>imdb</th>\n",
       "    </tr>\n",
       "  </thead>\n",
       "  <tbody>\n",
       "    <tr>\n",
       "      <th>0</th>\n",
       "      <td>00 Schneider</td>\n",
       "      <td>0.0</td>\n",
       "    </tr>\n",
       "    <tr>\n",
       "      <th>1</th>\n",
       "      <td>100 Girls</td>\n",
       "      <td>0.0</td>\n",
       "    </tr>\n",
       "    <tr>\n",
       "      <th>2</th>\n",
       "      <td>101 Dalmatians  (1996 series)</td>\n",
       "      <td>-0.8</td>\n",
       "    </tr>\n",
       "    <tr>\n",
       "      <th>3</th>\n",
       "      <td>101 Dalmatians (1961 series) (A) *</td>\n",
       "      <td>NaN</td>\n",
       "    </tr>\n",
       "    <tr>\n",
       "      <th>4</th>\n",
       "      <td>2 Days in...</td>\n",
       "      <td>-0.8</td>\n",
       "    </tr>\n",
       "    <tr>\n",
       "      <th>5</th>\n",
       "      <td>2001 Maniacs</td>\n",
       "      <td>-2.1</td>\n",
       "    </tr>\n",
       "    <tr>\n",
       "      <th>6</th>\n",
       "      <td>28 Days Later</td>\n",
       "      <td>-0.6</td>\n",
       "    </tr>\n",
       "    <tr>\n",
       "      <th>7</th>\n",
       "      <td>30 Days of Night</td>\n",
       "      <td>-2.2</td>\n",
       "    </tr>\n",
       "    <tr>\n",
       "      <th>8</th>\n",
       "      <td>300</td>\n",
       "      <td>0.1</td>\n",
       "    </tr>\n",
       "    <tr>\n",
       "      <th>9</th>\n",
       "      <td>47 Meters Down</td>\n",
       "      <td>-0.6</td>\n",
       "    </tr>\n",
       "    <tr>\n",
       "      <th>10</th>\n",
       "      <td>500 Years Later</td>\n",
       "      <td>1.2</td>\n",
       "    </tr>\n",
       "    <tr>\n",
       "      <th>11</th>\n",
       "      <td>666</td>\n",
       "      <td>-0.1</td>\n",
       "    </tr>\n",
       "    <tr>\n",
       "      <th>12</th>\n",
       "      <td>8mm</td>\n",
       "      <td>-2.0</td>\n",
       "    </tr>\n",
       "    <tr>\n",
       "      <th>13</th>\n",
       "      <td>976-EVIL</td>\n",
       "      <td>NaN</td>\n",
       "    </tr>\n",
       "    <tr>\n",
       "      <th>14</th>\n",
       "      <td>A Dog's Purpose</td>\n",
       "      <td>0.3</td>\n",
       "    </tr>\n",
       "    <tr>\n",
       "      <th>15</th>\n",
       "      <td>A Gift to Remember</td>\n",
       "      <td>0.0</td>\n",
       "    </tr>\n",
       "    <tr>\n",
       "      <th>16</th>\n",
       "      <td>A Haunted House</td>\n",
       "      <td>-0.3</td>\n",
       "    </tr>\n",
       "    <tr>\n",
       "      <th>17</th>\n",
       "      <td>A Monkey's Tale (A)</td>\n",
       "      <td>0.0</td>\n",
       "    </tr>\n",
       "    <tr>\n",
       "      <th>18</th>\n",
       "      <td>A Quiet Place</td>\n",
       "      <td>0.0</td>\n",
       "    </tr>\n",
       "    <tr>\n",
       "      <th>19</th>\n",
       "      <td>ABCD</td>\n",
       "      <td>0.0</td>\n",
       "    </tr>\n",
       "    <tr>\n",
       "      <th>20</th>\n",
       "      <td>Aashiqui</td>\n",
       "      <td>0.2</td>\n",
       "    </tr>\n",
       "    <tr>\n",
       "      <th>21</th>\n",
       "      <td>Ab Tak Chhappan</td>\n",
       "      <td>-2.0</td>\n",
       "    </tr>\n",
       "    <tr>\n",
       "      <th>22</th>\n",
       "      <td>Abang</td>\n",
       "      <td>0.0</td>\n",
       "    </tr>\n",
       "    <tr>\n",
       "      <th>23</th>\n",
       "      <td>Abang Long Fadil</td>\n",
       "      <td>0.5</td>\n",
       "    </tr>\n",
       "    <tr>\n",
       "      <th>24</th>\n",
       "      <td>Abducted</td>\n",
       "      <td>NaN</td>\n",
       "    </tr>\n",
       "    <tr>\n",
       "      <th>25</th>\n",
       "      <td>Abhinetri</td>\n",
       "      <td>0.0</td>\n",
       "    </tr>\n",
       "    <tr>\n",
       "      <th>26</th>\n",
       "      <td>Agent Cody Banks</td>\n",
       "      <td>-0.4</td>\n",
       "    </tr>\n",
       "    <tr>\n",
       "      <th>27</th>\n",
       "      <td>Ahorner, Nemeth &amp; Öller</td>\n",
       "      <td>NaN</td>\n",
       "    </tr>\n",
       "    <tr>\n",
       "      <th>28</th>\n",
       "      <td>Aksar</td>\n",
       "      <td>-1.2</td>\n",
       "    </tr>\n",
       "    <tr>\n",
       "      <th>29</th>\n",
       "      <td>Ali Kundilli</td>\n",
       "      <td>NaN</td>\n",
       "    </tr>\n",
       "    <tr>\n",
       "      <th>30</th>\n",
       "      <td>Alisa Selezneva (A)</td>\n",
       "      <td>0.0</td>\n",
       "    </tr>\n",
       "    <tr>\n",
       "      <th>31</th>\n",
       "      <td>All Hallows' Eve</td>\n",
       "      <td>-0.2</td>\n",
       "    </tr>\n",
       "    <tr>\n",
       "      <th>32</th>\n",
       "      <td>All Stars</td>\n",
       "      <td>-1.0</td>\n",
       "    </tr>\n",
       "    <tr>\n",
       "      <th>33</th>\n",
       "      <td>Alligator</td>\n",
       "      <td>NaN</td>\n",
       "    </tr>\n",
       "    <tr>\n",
       "      <th>34</th>\n",
       "      <td>Alone in the Dark</td>\n",
       "      <td>0.0</td>\n",
       "    </tr>\n",
       "    <tr>\n",
       "      <th>35</th>\n",
       "      <td>Alphaville</td>\n",
       "      <td>NaN</td>\n",
       "    </tr>\n",
       "    <tr>\n",
       "      <th>36</th>\n",
       "      <td>Always: Sunset on Third Street</td>\n",
       "      <td>0.0</td>\n",
       "    </tr>\n",
       "    <tr>\n",
       "      <th>37</th>\n",
       "      <td>Amanush</td>\n",
       "      <td>0.1</td>\n",
       "    </tr>\n",
       "    <tr>\n",
       "      <th>38</th>\n",
       "      <td>American Kickboxer</td>\n",
       "      <td>0.0</td>\n",
       "    </tr>\n",
       "    <tr>\n",
       "      <th>39</th>\n",
       "      <td>American Psycho</td>\n",
       "      <td>0.0</td>\n",
       "    </tr>\n",
       "    <tr>\n",
       "      <th>40</th>\n",
       "      <td>American Werewolf</td>\n",
       "      <td>0.0</td>\n",
       "    </tr>\n",
       "    <tr>\n",
       "      <th>41</th>\n",
       "      <td>American Yakuza</td>\n",
       "      <td>0.0</td>\n",
       "    </tr>\n",
       "    <tr>\n",
       "      <th>42</th>\n",
       "      <td>Ammar</td>\n",
       "      <td>0.0</td>\n",
       "    </tr>\n",
       "    <tr>\n",
       "      <th>43</th>\n",
       "      <td>Analyze This</td>\n",
       "      <td>-0.8</td>\n",
       "    </tr>\n",
       "    <tr>\n",
       "      <th>44</th>\n",
       "      <td>Anastasia</td>\n",
       "      <td>-1.1</td>\n",
       "    </tr>\n",
       "    <tr>\n",
       "      <th>45</th>\n",
       "      <td>Anatomy</td>\n",
       "      <td>-0.3</td>\n",
       "    </tr>\n",
       "    <tr>\n",
       "      <th>46</th>\n",
       "      <td>Ang probinsyano</td>\n",
       "      <td>3.2</td>\n",
       "    </tr>\n",
       "    <tr>\n",
       "      <th>47</th>\n",
       "      <td>Ang utol kong hoodlum</td>\n",
       "      <td>0.0</td>\n",
       "    </tr>\n",
       "    <tr>\n",
       "      <th>48</th>\n",
       "      <td>Angel Terminators</td>\n",
       "      <td>NaN</td>\n",
       "    </tr>\n",
       "    <tr>\n",
       "      <th>49</th>\n",
       "      <td>Angry Birds</td>\n",
       "      <td>0.1</td>\n",
       "    </tr>\n",
       "    <tr>\n",
       "      <th>50</th>\n",
       "      <td>Animal</td>\n",
       "      <td>0.0</td>\n",
       "    </tr>\n",
       "    <tr>\n",
       "      <th>51</th>\n",
       "      <td>Animusic</td>\n",
       "      <td>NaN</td>\n",
       "    </tr>\n",
       "    <tr>\n",
       "      <th>52</th>\n",
       "      <td>Lewis Carroll's Alice (2010 series)</td>\n",
       "      <td>-0.2</td>\n",
       "    </tr>\n",
       "    <tr>\n",
       "      <th>53</th>\n",
       "      <td>The Almighty Series</td>\n",
       "      <td>-1.4</td>\n",
       "    </tr>\n",
       "    <tr>\n",
       "      <th>54</th>\n",
       "      <td>The Amazing Spider-Man</td>\n",
       "      <td>-0.3</td>\n",
       "    </tr>\n",
       "  </tbody>\n",
       "</table>\n",
       "</div>"
      ],
      "text/plain": [
       "                                 series  imdb\n",
       "0                          00 Schneider   0.0\n",
       "1                             100 Girls   0.0\n",
       "2         101 Dalmatians  (1996 series)  -0.8\n",
       "3    101 Dalmatians (1961 series) (A) *   NaN\n",
       "4                          2 Days in...  -0.8\n",
       "5                          2001 Maniacs  -2.1\n",
       "6                         28 Days Later  -0.6\n",
       "7                      30 Days of Night  -2.2\n",
       "8                                   300   0.1\n",
       "9                        47 Meters Down  -0.6\n",
       "10                      500 Years Later   1.2\n",
       "11                                  666  -0.1\n",
       "12                                  8mm  -2.0\n",
       "13                             976-EVIL   NaN\n",
       "14                      A Dog's Purpose   0.3\n",
       "15                   A Gift to Remember   0.0\n",
       "16                      A Haunted House  -0.3\n",
       "17                  A Monkey's Tale (A)   0.0\n",
       "18                        A Quiet Place   0.0\n",
       "19                                 ABCD   0.0\n",
       "20                             Aashiqui   0.2\n",
       "21                      Ab Tak Chhappan  -2.0\n",
       "22                                Abang   0.0\n",
       "23                     Abang Long Fadil   0.5\n",
       "24                             Abducted   NaN\n",
       "25                            Abhinetri   0.0\n",
       "26                     Agent Cody Banks  -0.4\n",
       "27              Ahorner, Nemeth & Öller   NaN\n",
       "28                                Aksar  -1.2\n",
       "29                         Ali Kundilli   NaN\n",
       "30                  Alisa Selezneva (A)   0.0\n",
       "31                     All Hallows' Eve  -0.2\n",
       "32                            All Stars  -1.0\n",
       "33                            Alligator   NaN\n",
       "34                    Alone in the Dark   0.0\n",
       "35                           Alphaville   NaN\n",
       "36       Always: Sunset on Third Street   0.0\n",
       "37                              Amanush   0.1\n",
       "38                   American Kickboxer   0.0\n",
       "39                      American Psycho   0.0\n",
       "40                    American Werewolf   0.0\n",
       "41                      American Yakuza   0.0\n",
       "42                                Ammar   0.0\n",
       "43                         Analyze This  -0.8\n",
       "44                            Anastasia  -1.1\n",
       "45                              Anatomy  -0.3\n",
       "46                      Ang probinsyano   3.2\n",
       "47                Ang utol kong hoodlum   0.0\n",
       "48                    Angel Terminators   NaN\n",
       "49                          Angry Birds   0.1\n",
       "50                               Animal   0.0\n",
       "51                             Animusic   NaN\n",
       "52  Lewis Carroll's Alice (2010 series)  -0.2\n",
       "53                  The Almighty Series  -1.4\n",
       "54               The Amazing Spider-Man  -0.3"
      ]
     },
     "execution_count": 41,
     "metadata": {},
     "output_type": "execute_result"
    }
   ],
   "source": [
    "pd.DataFrame(summary).reset_index()"
   ]
  },
  {
   "cell_type": "code",
   "execution_count": 57,
   "metadata": {},
   "outputs": [
    {
     "data": {
      "text/plain": [
       "<AxesSubplot:xlabel='title_clean'>"
      ]
     },
     "execution_count": 57,
     "metadata": {},
     "output_type": "execute_result"
    },
    {
     "data": {
      "image/png": "[encoded data removed]",
      "text/plain": [
       "<Figure size 432x288 with 1 Axes>"
      ]
     },
     "metadata": {
      "needs_background": "light"
     },
     "output_type": "display_data"
    }
   ],
   "source": [
    "final_df.loc[df['series'] == series_names[0], ['imdb', 'title_clean']].set_index('title_clean').plot(kind='bar')"
   ]
  },
  {
   "cell_type": "code",
   "execution_count": 79,
   "metadata": {},
   "outputs": [],
   "source": [
    "keep_series = pd.DataFrame(final_df.dropna(subset=['imdb']).groupby('series')['title'].count() == 1).reset_index()"
   ]
  },
  {
   "cell_type": "code",
   "execution_count": 91,
   "metadata": {},
   "outputs": [],
   "source": [
    "keep_list = list(keep_series.loc[keep_series['title'] == False, 'series'])"
   ]
  },
  {
   "cell_type": "code",
   "execution_count": 93,
   "metadata": {},
   "outputs": [],
   "source": [
    "output = final_df.loc[final_df['series'].isin(keep_list)]"
   ]
  },
  {
   "cell_type": "code",
   "execution_count": 105,
   "metadata": {},
   "outputs": [],
   "source": [
    "json = output[['title_clean', 'series', 'date', 'imdb']].to_json(orient='records')"
   ]
  },
  {
   "cell_type": "code",
   "execution_count": 106,
   "metadata": {},
   "outputs": [],
   "source": [
    "with open('movieData.json', 'w') as f:\n",
    "    f.write(json)"
   ]
  },
  {
   "cell_type": "code",
   "execution_count": null,
   "metadata": {},
   "outputs": [],
   "source": []
  }
 ],
 "metadata": {
  "kernelspec": {
   "display_name": "movies",
   "language": "python",
   "name": "movies"
  },
  "language_info": {
   "codemirror_mode": {
    "name": "ipython",
    "version": 3
   },
   "file_extension": ".py",
   "mimetype": "text/x-python",
   "name": "python",
   "nbconvert_exporter": "python",
   "pygments_lexer": "ipython3",
   "version": "3.8.3"
  }
 },
 "nbformat": 4,
 "nbformat_minor": 4
}
