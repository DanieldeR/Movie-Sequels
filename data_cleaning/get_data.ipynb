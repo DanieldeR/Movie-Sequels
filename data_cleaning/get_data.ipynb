{
 "cells": [
  {
   "cell_type": "code",
   "execution_count": 2,
   "metadata": {},
   "outputs": [],
   "source": [
    "import pandas as pd\n",
    "import requests\n",
    "from bs4 import BeautifulSoup\n",
    "import json\n",
    "import numpy as np"
   ]
  },
  {
   "cell_type": "code",
   "execution_count": 3,
   "metadata": {},
   "outputs": [],
   "source": [
    "url = \"https://en.wikipedia.org/wiki/List_of_feature_film_series_with_two_entries\""
   ]
  },
  {
   "cell_type": "code",
   "execution_count": 4,
   "metadata": {},
   "outputs": [],
   "source": [
    "r = requests.get(url)"
   ]
  },
  {
   "cell_type": "code",
   "execution_count": 5,
   "metadata": {},
   "outputs": [],
   "source": [
    "soup = BeautifulSoup(r.text, 'html.parser')"
   ]
  },
  {
   "cell_type": "code",
   "execution_count": 6,
   "metadata": {},
   "outputs": [],
   "source": [
    "#mix the soup\n",
    "m = [item.get_text().split('\\n') for item in soup.find_all('ol')]"
   ]
  },
  {
   "cell_type": "code",
   "execution_count": 26,
   "metadata": {},
   "outputs": [],
   "source": [
    "#Quick function to query the OMDB API\n",
    "def make_text(text, column):\n",
    "    try:\n",
    "        return text[column]\n",
    "    except:\n",
    "        return \"N/A\"\n",
    "\n",
    "counter = 0\n",
    "\n",
    "def query_api(title, year):\n",
    "    \n",
    "    url = 'http://www.omdbapi.com'\n",
    "    \n",
    "    #Handle String years if necessary\n",
    "    try:\n",
    "        year = str(int(year))\n",
    "    except:\n",
    "        year = 'N/A'\n",
    "    \n",
    "    #Populate Params\n",
    "    params = {'t': title,\n",
    "           'y': year,\n",
    "           'apikey': 'f13c3a86'}\n",
    "\n",
    "    global counter\n",
    "    counter = counter + 1\n",
    "    print(counter, title)\n",
    "    \n",
    "    #Make the request\n",
    "    try:\n",
    "        r = requests.get(url, params=params, timeout=0.6)\n",
    "\n",
    "        response = r.text\n",
    "        #print(response)\n",
    "\n",
    "        json_text = json.loads(response)\n",
    "    except Exception as e:\n",
    "        print(e)\n",
    "        r = 0\n",
    "    \n",
    "    try:\n",
    "        #Populate imdbRating\n",
    "        '''\n",
    "        try:\n",
    "            imdb = json_text['imdbRating']\n",
    "        except:\n",
    "            imdb = 'N/A'\n",
    "        '''\n",
    "        imdb = make_text(json_text, 'imdbRating')\n",
    "\n",
    "        #Populate Metascore Rating\n",
    "        '''\n",
    "        try:\n",
    "            metascore = json_text['Metascore']\n",
    "        except:\n",
    "            metascore = 'N/A'\n",
    "        ''' \n",
    "        metascore = make_text(json_text, 'Metascore')\n",
    "\n",
    "        imdb_id = make_text(json_text, 'imdbID')\n",
    "        #print(imdb, metascore)\n",
    "    except:\n",
    "        imdb = 'N/A'\n",
    "        metascore = 'N/A'\n",
    "        imdb_id = 'N/A'\n",
    "    \n",
    "    return {'imdb': imdb, 'metascore': metascore, 'imdb_id': imdb_id}"
   ]
  },
  {
   "cell_type": "code",
   "execution_count": 9,
   "metadata": {},
   "outputs": [],
   "source": [
    "#Find all movies\n",
    "l = [item.text.split('\\n') for item in soup.find('div', {'class': 'div-col'}).find_all('li')]"
   ]
  },
  {
   "cell_type": "code",
   "execution_count": 10,
   "metadata": {},
   "outputs": [],
   "source": [
    "#Remove anything that doesn't have 3 entries\n",
    "'''\n",
    "def filterList(item):\n",
    "    return len(item) == 3\n",
    "'''\n",
    "\n",
    "clean_list = list(filter(lambda x: len(x) == 3, l))"
   ]
  },
  {
   "cell_type": "code",
   "execution_count": 11,
   "metadata": {},
   "outputs": [],
   "source": [
    "#TODO: refactor to work with more than 2 movies\n",
    "titles = [[{'title':item[1], 'series': item[0]}, {'title':item[2], 'series':item[0]}] for item in clean_list]"
   ]
  },
  {
   "cell_type": "code",
   "execution_count": 12,
   "metadata": {},
   "outputs": [],
   "source": [
    "#Flatten the list to create a dataframe\n",
    "df = pd.DataFrame([item for sublist in titles for item in sublist])"
   ]
  },
  {
   "cell_type": "code",
   "execution_count": 13,
   "metadata": {},
   "outputs": [],
   "source": [
    "#Create a new column by parsing out the date\n",
    "def return_date(item):\n",
    "    try:\n",
    "        return item.split('(')[1].split(')')[0]\n",
    "    except:\n",
    "        return np.nan\n",
    "    \n",
    "df['date'] = df['title'].apply(lambda x:return_date(x))\n",
    "df['title_clean'] = df['title'].apply(lambda x: x.split('(')[0])"
   ]
  },
  {
   "cell_type": "code",
   "execution_count": 14,
   "metadata": {},
   "outputs": [
    {
     "output_type": "execute_result",
     "data": {
      "text/plain": "                                                  title             series  \\\n0           00 Schneider – Jagd auf Nihil Baxter (1994)       00 Schneider   \n1     00 Schneider – Im Wendekreis der Eidechse [de]...       00 Schneider   \n2                                2 Days in Paris (2007)       2 Days in...   \n3                             2 Days in New York (2012)       2 Days in...   \n4                                            8mm (1999)                8mm   \n...                                                 ...                ...   \n3347                         Zulu Dawn (1979) (prequel)               Zulu   \n3348                                        Zuma (1985)               Zuma   \n3349                                Anak ni Zuma (1987)               Zuma   \n3350     Dschungelmädchen für zwei Halunken [de] (1974)  Zwei Teufelskerle   \n3351  Zwei Teufelskerle auf dem Weg ins Kloster [de]...  Zwei Teufelskerle   \n\n      date                                      title_clean  \n0     1994            00 Schneider – Jagd auf Nihil Baxter   \n1     2013  00 Schneider – Im Wendekreis der Eidechse [de]   \n2     2007                                 2 Days in Paris   \n3     2012                              2 Days in New York   \n4     1999                                             8mm   \n...    ...                                              ...  \n3347  1979                                       Zulu Dawn   \n3348  1985                                            Zuma   \n3349  1987                                    Anak ni Zuma   \n3350  1974         Dschungelmädchen für zwei Halunken [de]   \n3351  1975  Zwei Teufelskerle auf dem Weg ins Kloster [de]   \n\n[3352 rows x 4 columns]",
      "text/html": "<div>\n<style scoped>\n    .dataframe tbody tr th:only-of-type {\n        vertical-align: middle;\n    }\n\n    .dataframe tbody tr th {\n        vertical-align: top;\n    }\n\n    .dataframe thead th {\n        text-align: right;\n    }\n</style>\n<table border=\"1\" class=\"dataframe\">\n  <thead>\n    <tr style=\"text-align: right;\">\n      <th></th>\n      <th>title</th>\n      <th>series</th>\n      <th>date</th>\n      <th>title_clean</th>\n    </tr>\n  </thead>\n  <tbody>\n    <tr>\n      <th>0</th>\n      <td>00 Schneider – Jagd auf Nihil Baxter (1994)</td>\n      <td>00 Schneider</td>\n      <td>1994</td>\n      <td>00 Schneider – Jagd auf Nihil Baxter</td>\n    </tr>\n    <tr>\n      <th>1</th>\n      <td>00 Schneider – Im Wendekreis der Eidechse [de]...</td>\n      <td>00 Schneider</td>\n      <td>2013</td>\n      <td>00 Schneider – Im Wendekreis der Eidechse [de]</td>\n    </tr>\n    <tr>\n      <th>2</th>\n      <td>2 Days in Paris (2007)</td>\n      <td>2 Days in...</td>\n      <td>2007</td>\n      <td>2 Days in Paris</td>\n    </tr>\n    <tr>\n      <th>3</th>\n      <td>2 Days in New York (2012)</td>\n      <td>2 Days in...</td>\n      <td>2012</td>\n      <td>2 Days in New York</td>\n    </tr>\n    <tr>\n      <th>4</th>\n      <td>8mm (1999)</td>\n      <td>8mm</td>\n      <td>1999</td>\n      <td>8mm</td>\n    </tr>\n    <tr>\n      <th>...</th>\n      <td>...</td>\n      <td>...</td>\n      <td>...</td>\n      <td>...</td>\n    </tr>\n    <tr>\n      <th>3347</th>\n      <td>Zulu Dawn (1979) (prequel)</td>\n      <td>Zulu</td>\n      <td>1979</td>\n      <td>Zulu Dawn</td>\n    </tr>\n    <tr>\n      <th>3348</th>\n      <td>Zuma (1985)</td>\n      <td>Zuma</td>\n      <td>1985</td>\n      <td>Zuma</td>\n    </tr>\n    <tr>\n      <th>3349</th>\n      <td>Anak ni Zuma (1987)</td>\n      <td>Zuma</td>\n      <td>1987</td>\n      <td>Anak ni Zuma</td>\n    </tr>\n    <tr>\n      <th>3350</th>\n      <td>Dschungelmädchen für zwei Halunken [de] (1974)</td>\n      <td>Zwei Teufelskerle</td>\n      <td>1974</td>\n      <td>Dschungelmädchen für zwei Halunken [de]</td>\n    </tr>\n    <tr>\n      <th>3351</th>\n      <td>Zwei Teufelskerle auf dem Weg ins Kloster [de]...</td>\n      <td>Zwei Teufelskerle</td>\n      <td>1975</td>\n      <td>Zwei Teufelskerle auf dem Weg ins Kloster [de]</td>\n    </tr>\n  </tbody>\n</table>\n<p>3352 rows × 4 columns</p>\n</div>"
     },
     "metadata": {},
     "execution_count": 14
    }
   ],
   "source": [
    "df"
   ]
  },
  {
   "cell_type": "code",
   "execution_count": 15,
   "metadata": {},
   "outputs": [],
   "source": [
    "#Converte the date column to be and integer\n",
    "def convert_to_int(item):\n",
    "    try:\n",
    "        return float(item)\n",
    "    except:\n",
    "        return np.nan\n",
    "\n",
    "df['date'] = df['date'].apply(lambda x: convert_to_int(x))"
   ]
  },
  {
   "cell_type": "code",
   "execution_count": 16,
   "metadata": {},
   "outputs": [],
   "source": [
    "#Only keep movies newer than 1990 and let's only worry about the first 100\n",
    "test_df = df.loc[df['date'] > 1990].copy()"
   ]
  },
  {
   "cell_type": "code",
   "execution_count": 80,
   "metadata": {},
   "outputs": [],
   "source": [
    "#test_df"
   ]
  },
  {
   "cell_type": "code",
   "execution_count": 27,
   "metadata": {
    "tags": [
     "outputPrepend"
    ]
   },
   "outputs": [
    {
     "output_type": "stream",
     "name": "stdout",
     "text": "t the Elisabethz 2 [fr] \n1073 Men in the City \n1074 Men in the City 2 [de] \n1075 Drachenjungfrau [de] \n1076 Das dunkle Paradies \n1077 Merlin \n1078 Merlin's Apprentice \n1079 Mesrine: Killer Instinct \n1080 Mesrine: Public Enemy Number One \n1081 The Messengers \n1082 Messengers 2: The Scarecrow \n1083 Michael and Madonna 2 \n1084 Michael Jackson's This Is It \n1085 Horse Sense \n1086 Jumping Ship \n1087 Mickey's Once Upon a Christmas \n1088 Mickey's Twice Upon a Christmas \n1089 The Girl with the Dragon Tattoo \n1090 The Girl in the Spider's Web \n1091 Mindgame \n1092 Mindgame Trilogy \n1093 Minuscule: Valley of the Lost Ants \n1094 Minuscule 2: Mandibles from Far Away [fr] \n1095 Mirrors \n1096 Mirrors 2 \n1097 Miss Congeniality \n1098 Miss Congeniality 2: Armed and Fabulous \n1099 Max V'Morris \n1100 Steirerblut [de] \n1101 Steirerkind [de] \n1102 The Mole \n1103 The Mole 2 \n1104 The Moment After \n1105 The Moment After 2: The Awakening \n1106 Mommy \n1107 Mommy 2: Mommy's Day \n1108 Money No Enough \n1109 Money No Enough 2 \n1110 Monster Hunt \n1111 Monster Hunt 2 \n1112 Monsters, Inc. \n1113 Monsters University \n1114 Moon \n1115 Mute \n1116 Mortal Kombat \n1117 Mortal Kombat: Annihilation \n1118 Bean \n1119 Mr. Bean's Holiday \n1120 Mr Bones \n1121 Mr Bones 2: Back from the Past \n1122 Unleashing Mr. Darcy \n1123 Marrying Mr. Darcy \n1124 Mrs. Miracle \n1125 Call Me Mrs. Miracle \n1126 MSG: The Messenger \n1127 MSG-2 The Messenger \n1128 Muita Calma Nessa Hora [pt] \n1129 Muita Calma Nessa Hora 2 \n1130 Mulan \nHTTPConnectionPool(host='www.omdbapi.com', port=80): Read timed out. (read timeout=0.6)\n1131 Mulan II \n1132 Munna Bhai M.B.B.S. \n1133 Lage Raho Munna Bhai \n1134 My Big Fat Greek Wedding \n1135 My Big Fat Greek Wedding 2 \n1136 My Boss, My Hero \n1137 My Boss, My Teacher \n1138 My Friend Ganesha \n1139 My Friend Ganesha 2 \n1140 My Girl \n1141 My Girl 2 \n1142 My Little Pony: Equestria Girls \n1143 My Little Pony: Equestria Girls – Rainbow Rocks \n1144 My Sassy Girl \n1145 My New Sassy Girl \n1146 My Tutor Friend \n1147 My Tutor Friend 2 \n1148 Naadodigal \n1149 Naadodigal 2 \n1150 Namastey London \n1151 Namaste England \n1152 Nana \n1153 Nana 2 \n1154 Nanny McPhee \n1155 Nanny McPhee and the Big Bang \n1156 Natalee Holloway \n1157 Justice for Natalee Holloway \n1158 National Treasure \n1159 National Treasure: Book of Secrets \n1160 Neighbors \n1161 Neighbors 2: Sorority Rising \n1162 NEKRomantik 2 \n1163 The Net \n1164 The Net 2.0 \n1165 The New Adventures of Aladdin \n1166 Alad'2 \n1167 Nick Knatterton - Der Film \n1168 Nightmare Detective \n1169 Nightmare Detective 2 \n1170 Night Watch \n1171 Day Watch \n1172 Nim's Island \n1173 Return to Nim's Island \n1174 Northpole \n1175 Northpole: Open for Christmas \n1176 Night of the Day of the Dawn of the Son of the Bride of the Return of the Revenge of the Terror of the Attack of the Evil, Mutant, Alien, Flesh Eating, Hellbound, Zombified Living Dead Part 2: In Shocking 2-D \n1177 Night of the Day of the Dawn of the Son of the Bride of the Return of the Revenge of the Terror of the Attack of the Evil, Mutant, Hellbound, Flesh-Eating Subhumanoid Zombified Living Dead, Part 3 \n1178 Now You See Me \n1179 Now You See Me 2 \n1180 N.T.R: Kathanayakudu \n1181 N.T.R: Mahanayakudu \n1182 The Nut Job \n1183 The Nut Job 2: Nutty by Nature \n1184 The Nutty Professor: Facing the Fear \n1185 The Nutty Professor \n1186 Nutty Professor II: The Klumps \n1187 Ober Da Bakod: The Movie \n1188 Ober Da Bakod 2: Di Treasure Adventure \n1189 Oblivion \n1190 Oblivion 2: Backlash \n1191 Octopus \n1192 Octopus 2: River of Fear \n1193 The Odd Couple II \n1194 Summer of Dreams \n1195 Wedding of Dreams  \n1196 Oflu Hoca'nın Şifresi [tr] \n1197 Oflu Hoca'nın Şifresi 2 [tr] \n1198 An Old Fashioned Thanksgiving \n1199 An Old Fashioned Christmas \n1200 The Omega Code \n1201 Megiddo: The Omega Code 2 \n1202 Once Upon a Christmas \n1203 Twice Upon a Christmas \n1204 Once Upon a Time in Mumbaai \n1205 Once Upon ay Time in Mumbai Dobaara! \n1206 Once Were Warriors \n1207 What Becomes of the Broken Hearted? \n1208 One Winter Weekend \n1209 One Winter Proposal \n1210 OSS 117: Cairo, Nest of Spies \n1211 OSS 117 – Lost in Rio \n1212 The Other Side of Heaven \n1213 The Other Side of Heaven 2: Fire of Faith \n1214 Ouija \n1215 Ouija: Origin of Evil \n1216 Pacific Rim \n1217 Pacific Rim Uprising \n1218 Paddington \n1219 Paddington 2 \n1220 Paradise Lost: The Child Murders at Robin Hood Hills \n1221 Paradise Lost 2: Revelations \n1222 Passed Away \n1223 Music from Another Room \n1224 Percy Jackson & the Olympians: The Lightning Thief \n1225 Percy Jackson: Sea of Monsters \n1226 The Perfect Bride \n1227 The Perfect Bride: Wedding Bells \n1228 The Perfect Son-in-Law? \n1229 The Perfect Son-in-Law? 2 \n1230 Pet Sematary Two \n1231 Return to Never Land \n1232 Peter Rabbit \n1233 Peter Rabbit 2: The Runaway \n1234 Philadelphia Experiment II \n1235 Phoonk \n1236 Phoonk 2 \n1237 The Pink Panther \n1238 The Pink Panther 2 \n1239 The Adventures of Pinocchio \n1240 The New Adventures of Pinocchio \n1241 Piranha 3D \n1242 Piranha 3DD \n1243 Pirates \n1244 Pirates II: Stagnetti's Revenge \n1245 Pizza \n1246 Pizza II: Villa \n1247 Planet of the Sharks \n1248 Empire of the Sharks \n1249 Plaga Zombie \n1250 Plaga Zombie: Zona Mutante \n1251 Plan 10 from Outer Space \n1252 Playing Dangerous \n1253 Playing Dangerous 2 \n1254 Pocahontas \n1255 Pocahontas II: Journey to a New World \n1256 Killing Obsession \n1257 Posse \n1258 Los Locos \n1259 Poveri ma ricchi \n1260 Poveri ma ricchissimi \n1261 The Powerpuff Girls Movie \n1262 The Powerpuff Girls: 'Twas the Fight Before Christmas \n1263 Mighty Morphin Power Rangers: The Movie \n1264 Turbo: A Power Rangers Movie \n1265 Prancer Returns \n1266 Prema Katha Chitram \n1267 Prema Katha Chitram 2 \n1268 The President's Man \n1269 The President's Man: A Line in the Sand \n1270 The Pretender 2001 \n1271 The Pretender: Island of the Haunted \n1272 Pretham \n1273 Pretham 2 \n1274 Pretty Cool \n1275 Pretty Cool Too \n1276 The Prince of Egypt \n1277 Joseph: King of Dreams \n1278 Prince of Legend [ja] \n1279 Prince of Legend 2 \n1280 The Princess Diaries \n1281 The Princess Diaries 2: Royal Engagement \n1282 Prison on Fire II \n1283 Prison Planet 2: The Armageddon \n1284 Prison Planet 3: The Revenge \n1285 Prokhindiada 2 \n1286 Dogs 2: The last blood \n1287 Psycho Cop 2 \n1288 Pulis patola \n1289 Pulis patola 2 \n1290 Pyaar Ka Punchnama \n1291 Pyaar Ka Punchnama 2 \n1292 Quarantine \n1293 Quarantine 2: Terminal \n1294 Queen's Messenger \n1295 Witness to a Kill \n1296 Rabbit Without Ears \n1297 Rabbit Without Ears 2 \n1298 Rage and Honor \n1299 Rage and Honor II \n1300 Ragini MMS \n1301 Ragini MMS 2 \n1302 The Raid \n1303 The Raid 2 \n1304 Pokkiri Raja \n1305 Madhura Raja \n1306 Raju Gari Gadhi \n1307 Raju Gari Gadhi 2 \n1308 Rakta Charitra \nHTTPConnectionPool(host='www.omdbapi.com', port=80): Read timed out. (read timeout=0.6)\n1309 Rakta Charitra 2 \n1310 Mannar Mathai Speaking \n1311 Ranma ½: Big Trouble in Nekonron, China \n1312 Ranma ½: Nihao My Concubine \n1313 Raptor Island \n1314 Planet Raptor \n1315 Jackie Brown \n1316 Out of Sight \n1317 Runaway to Ré [fr] \n1318 Suite en ré [fr] \n1319 ReBoot: Daemon Rising \n1320 ReBoot: My Two Bobs \n1321 Red \n1322 Red 2 \n1323 Red-Blooded American Girl II \n1324 Red Lips \n1325 Red Lips II \n1326 Red Cliff: Part I \n1327 Red Cliff: Part II \n1328 Red Scorpion 2 \n1329 The Reef: Shark Bait \n1330 The Reef 2: High Tide \n1331 Reeker \n1332 No Man's Land: The Rise of Reeker \n1333 Rest Stop \n1334 Rest Stop: Don't Look Back \n1335 Reunion 2: The Bachelor Party [fi] \n1336 The Hippie Revolution \n1337 Richard lvinoye serdtse \n1338 Rytsar Kennet \n1339 Richie Rich \n1340 Richie Rich's Christmas Wish \n1341 Ride Along \n1342 Ride Along 2 \n1343 Rio \n1344 Rio 2 \n1345 Road House 2 \n1346 Road Trip \n1347 Road Trip: Beer Pong \n1348 Robo-Dog \n1349 Robo-Dog: Airborne \n1350 Robot Wars \n1351 Rock On!! \n1352 Rock On!! 2 \n1353 Rolie Polie Olie: The Great Defender of Fun \n1354 Rolie Polie Olie: The Baby Bot Chase \n1355 Shine a Light \n1356 Romantic Comedy \n1357 Romantik Komedi 2: Bekarlığa Veda \n1358 Romy and Michele's High School Reunion \n1359 Romy and Michele: In the Beginning \n1360 Rose Red \n1361 The Diary of Ellen Rimbauer \n1362 The Mystery of the Yellow Room \n1363 Le Parfum de la dame en noir \nHTTPConnectionPool(host='www.omdbapi.com', port=80): Read timed out. (read timeout=0.6)\n1364 Royal Tramp \n1365 Royal Tramp II \n1366 Running Out of Time \n1367 Running Out of Time 2 \n1368 Rudolph the Red-Nosed Reindeer: The Movie \n1369 Rudolph the Red-Nosed Reindeer & the Island of Misfit Toys \n1370 Saayad \n1371 Saayad 2 \n1372 Sad and Painful Search: Office Lady Essay \n1373 Sad and Painful Search II: Housewife Essay \n1374 Sadak \n1375 Sadak 2 \n1376 Sağ Salim [tr] \n1377 Sağ Salim 2: Sil Baştan [tr] \nHTTPConnectionPool(host='www.omdbapi.com', port=80): Read timed out. (read timeout=0.6)\n1378 Senario: The Movie \n1379 Senario the Movie Episode 2: Beach Boys \n1380 Seitokai Yakuindomo \n1381 Seitokai Yakuindomo 2 \n1382 Naan \n1383 Salim \n1384 Samurai Jack: The Premiere Movie \n1385 Samurai Jack \n1386 Saam yan jo sai gaai \n1387 Sandakozhi \n1388 Sandakozhi 2 \n1389 Santa Baby \n1390 Santa Baby 2: Christmas Maybe \nHTTPConnectionPool(host='www.omdbapi.com', port=80): Read timed out.\n1391 Forgetting Sarah Marshall \n1392 Get Him to the Greek \n1393 Sardaar Ji \n1394 Sardaar Ji 2 \n1395 Sathuranga Vettai \n1396 Sathuranga Vettai 2 \n1397 Satyameva Jayate \n1398 Satyameva Jayate 2 \n1399 Saved by the Bell: Hawaiian Style \n1400 Saved by the Bell: Wedding in Las Vegas \n1401 Save the Last Dance \n1402 Save the Last Dance 2 \n1403 Saviour of the Soul \n1404 Saviour of the Soul II \n1405 Saraband \n1406 Wildfeuer [de] \n1407 Score \n1408 Score 2: The Big Fight \n1409 Scorned \n1410 Scorned 2 \nHTTPConnectionPool(host='www.omdbapi.com', port=80): Read timed out. (read timeout=0.6)\n1411 Scorpio Nights 2 \n1412 Screamers \n1413 Screamers: The Hunting \n1414 Back to the Secret Garden \n1415 The Secret Life of Pets \n1416 The Secret Life of Pets 2 \n1417 The Secret of NIMH 2: Timmy to the Rescue \n1418 See No Evil \n1419 See No Evil 2 \n1420 Serial Teachers \n1421 Serial Teachers 2 \n1422 The Adventures of Elmo in Grouchland \n1423 Şevkat Yerimdar [tr] \n1424 Şevkat Yerimdar 2 [tr] \n1425 Sex and the City \n1426 Sex and the City 2 \n1427 Sex Is Zero \n1428 Sex Is Zero 2 \n1429 Shanghai Noon \n1430 Shanghai Knights \n1431 Shankar Dada MBBS \n1432 Shankar Dada Zindabad \n1433 Sharkwater \n1434 Sharkwater Extinction \n1435 The Hound of the Baskervilles \n1436 Sherlock Holmes and the Case of the Silk Stocking \n1437 Sherlock Holmes \n1438 Sherlock Holmes: A Game of Shadows \n1439 Doctor Sleep \n1440 Shiverstone Castle [de; fr] \n1441 Shiverstone Castle 2 \n1442 Comrades in Arms \n1443 Shootfighter: Fight to the Death \n1444 Shootfighter II \n1445 Shootout at Lokhandwala \n1446 Shootout at Wadala \n1447 Shred \n1448 Revenge of the Boarding School Dropouts \n1449 Sicario \n1450 Sicario 2: Soldado \n1451 Pyaar Ke Side Effects \n1452 Shaadi Ke Side Effects \n1453 Silent Hill \n1454 Silent Hill: Revelation \n1455 Silent Möbius \n1456 Silent Möbius 2 \n1457 Sin City \n1458 Sin City: A Dame to Kill For \n1459 Single White Female \n1460 Single White Female 2: The Psycho \n1461 Sister Act \n1462 Sister Act 2: Back in the Habit \n1463 The Sisterhood of the Traveling Pants \n1464 The Sisterhood of the Traveling Pants 2 \n1465 The Skateboard Kid \n1466 The Skateboard Kid II \n1467 Ski School 2 \n1468 The Ski Trip \n1469 Friends & Lovers: The Ski Trip 2 \n1470 Skyline \n1471 Beyond Skyline \n1472 Smoke \n1473 Blue in the Face \n1474 Smokin' Aces \n1475 Smokin' Aces 2: Assassins' Ball \n1476 The Smurfs \n1477 The Smurfs 2 \n1478 Snow \n1479 Snow 2: Brain Freeze \n1480 The Snow Queen \n1481 The Snow Queen's Revenge \n1482 Snøvsen [da] \n1483 Snøvsen Ta'r Springet [da] \n1484 Sökarna \n1485 Sökarna: Återkomsten \n1486 Somebody Help Me \n1487 Somebody Help Me 2 \nHTTPConnectionPool(host='www.omdbapi.com', port=80): Read timed out. (read timeout=0.6)\n1488 Guptodhoner Sandhane \nHTTPConnectionPool(host='www.omdbapi.com', port=80): Read timed out. (read timeout=0.6)\n1489 Durgeshgorer Guptodhon \n1490 Sorceress \n1491 Sorceress II: The Temptress \n1492 South Park: Bigger, Longer & Uncut \n1493 South Park Imaginationland: The Movie \n1494 Space Chimps \n1495 Space Chimps 2: Zartog Strikes Back \n1496 Speed \n1497 Speed 2: Cruise Control \n1498 The Return of Spinal Tap \n1499 SPL: Sha Po Lang \n1500 SPL II: A Time for Consequences \n1501 The SpongeBob SquarePants Movie \n1502 The SpongeBob Movie: Sponge Out of Water \n1503 Stand by Me Doraemon \n1504 Stand by Me Doraemon 2 \n1505 The Haunted Village \n1506 Tales from the Endor Woods \n1507 Lisbon Story \n1508 Stir of Echoes \n1509 Stir of Echoes: The Homecoming \n1510 Stolen Identity 2 \n1511 Stomp the Yard \n1512 Stomp the Yard: Homecoming \n1513 Z Storm \n1514 S Storm \n1515 The Storm Riders \n1516 The Storm Warriors \n1517 The Strangers \n1518 The Strangers: Prey at Night \n1519 Street Kings \n1520 Street Kings 2: Motor City \n1521 StreetDance 3D \n1522 StreetDance 2 \n1523 Back to the Streets of San Francisco \n1524 Tiny: The Life of Erin Blackwell \n1525 Streetwise \n1526 Divided City \n1527 Stripteaser \n1528 Stripteaser II \n1529 Student of the Year \n1530 Student of the Year 2 \n1531 Style \n1532 Xcuse Me \n1533 Under the Domin Tree \n1534 Superman: The Last Son of Krypton \nHTTPConnectionPool(host='www.omdbapi.com', port=80): Read timed out. (read timeout=0.6)\n1535 The Batman Superman Movie: World's Finest \n1536 Superman/Batman: Public Enemies \n1537 Superman/Batman: Apocalypse \n1538 Super Size Me \n1539 Super Size Me 2: Holy Chicken! \n1540 Super Troopers \n1541 Super Troopers 2 \n1542 Surf's Up \n1543 Surf's Up 2: WaveMania \n1544 The Swordsman \n1545 Gladiator Cop [fr] \n1546 Tad, The Lost Explorer \n1547 Tad Jones: The Hero Returns \n1548 Tai Chi Master \n1549 Tai Chi Boxer \n1550 Tai Chi 0 \n1551 Tai Chi Hero \n1552 Taking the Plunge [fr] \n1553 Taking the Plunge 2 [fr] \n1554 Taksi 2 \n1555 Tales from the Dark 1 \n1556 Tales from the Dark 2 \n1557 Thamizh Padam \n1558 Tamizh Padam 2 \n1559 Tanguy \nHTTPConnectionPool(host='www.omdbapi.com', port=80): Read timed out. (read timeout=0.6)\n1560 Tanguy, le retour [fr] \n1561 Tanu Weds Manu \n1562 Tanu Weds Manu: Returns \n1563 Ted \n1564 Ted 2 \n1565 Teen Beach Movie \n1566 Teen Beach 2 \n1567 Teenage Mutant Ninja Turtles \n1568 Teenage Mutant Ninja Turtles: Out of the Shadows \n1569 Tekken \n1570 Tekken 2: Kazuya's Revenge \n1571 The Evening Star \n1572 Tere Bin Laden \n1573 Tere Bin Laden: Dead or Alive \n1574 Terror Toons \n1575 Terror Toons 2: The Sick and Silly Show \n1576 The Terror Within II \n1577 The Texas Chainsaw Massacre \n1578 The Texas Chainsaw Massacre: The Beginning \n1579 The Thing \n1580 Those Were the Days... \n1581 Those Were the Days II \n1582 Three \n1583 Three... Extremes \n1584 The Three Investigators and the Secret of Skeleton Island \n1585 The Three Investigators and the Secret of Terror Castle \n1586 18 Years After \n1587 Thupparivaalan \n1588 Thupparivaalan 2 \n1589 Ek Tha Tiger \n1590 Tiger Zinda Hai \n1591 Timecop \n1592 Timecop 2: The Berlin Decision \n1593 Time for Me to Come Home for Christmas \n1594 Time for You to Come Home for Christmas \n1595 To Die For II: Son of Darkness \n1596 To Sir, with Love II \n1597 Tom-Yum-Goong \n1598 Tom Yum Goong 2 \n1599 Lara Croft: Tomb Raider \n1600 Lara Croft Tomb Raider: The Cradle of Life \n1601 The Return of Tommy Tricker \n1602 Too Many Ways to Be No. 1 \n1603 The Odd One Dies \n1604 Toolbox Murders \n1605 Coffin Baby \n1606 Tooth Fairy \n1607 Tooth Fairy 2 \n1608 Top Gun: Maverick \n1609 Totoy Guwapo: Alyas Kanto Boy \n1610 Kanto Boy 2: Anak ni Totoy Guapo \n1611 Trainspotting \n1612 T2 Trainspotting \n1613 Transmorphers \n1614 Transmorphers: Fall of Man \n1615 What Happened to Pete \n1616 Trees Lounge \n1617 Trekkies \n1618 Trekkies 2 \n1619 Trick: The Movie \n1620 Trick: The Movie 2 \n1621 Marius \n1622 Fanny \n1623 Trilogy of Terror II \n1624 Trolls \n1625 Trolls World Tour \n1626 Tron: Legacy \n1627 Trucks \n1628 Think Like a Man \n1629 Think Like a Man Too \n1630 Tu Mo Love Story \n1631 Tu Mo Love Story 2 \n1632 Tum Bin \n1633 Tum Bin 2 \n1634 Twin Peaks: Fire Walk with Me \n1635 Twin Peaks: The Missing Pieces \n1636 Twitches \n1637 Twitches Too \n1638 Two Can Play That Game \n1639 Three Can Play That Game \n1640 Return to Two Moon Junction \n1641 The Unborn \n1642 The Unborn 2 \n1643 Unbroken \n1644 Unbroken: Path to Redemption \n1645 Under Siege \n1646 Under Siege 2: Dark Territory \n1647 Undercover Brother \n1648 Undercover Brother 2 \n1649 Unfabulous - The Perfect Moment \n1650 Unfabulous - The Best Trip Ever \n1651 Unfaithful Wife 2: Sana'y huwag akong maligaw \n1652 Unfriended \n1653 Unfriended: Dark Web \n1654 Downtime \n1655 The Unnamable II: The Statement of Randolph Carter \n1656 Unseen Evil \n1657 Unseen Evil 2 \n1658 The Untold Story \n1659 The Untold Story 2 \n1660 Upendra \n1661 Uppi 2 \n1662 Uppukandam Brothers \n1663 Uppukandam Brothers: Back in Action \n1664 Uriyadi \n1665 Uriyadi 2 \n1666 Vaastav: The Reality \n1667 Hathyar \n1668 Vacancy \n1669 Vacancy 2: The First Cut \n1670 Interview with the Vampire \n1671 Queen of the Damned \n1672 Vampire Hunter D: Bloodlust \n1673 Bracna putovanja \n1674 Jonah: A VeggieTales Movie \n1675 The Pirates Who Don't Do Anything: A VeggieTales Movie \n1676 Velaiilla Pattadhari \n1677 Velaiilla Pattadhari 2 \n1678 Vennela \n1679 Vennela 1 1/2 \n1680 Vennila Kabadi Kuzhu \n1681 Vennila Kabaddi Kuzhu 2 \n1682 Vicky the Viking \n1683 Vicky and the Treasure of the Gods \n1684 Victory \n1685 Victory 2 \n1686 Vinayakudu \n1687 Villagelo Vinayakudu \n1688 Virtual Encounters \n1689 Virtual Encounters 2 \n1690 Vishwaroopam \n1691 Vishwaroopam II \n1692 Vizontele \n1693 Vizontele Tuuba \n1694 Voll normaaal [de] \n1695 Ballermann 6 [de] \n1696 Waiting... \n1697 Still Waiting... \n1698 Walang matigas na pulis sa matinik na misis \n1699 Yes Darling: Walang matigas na pulis 2 \n1700 The Incredible Adventures of Wallace & Gromit \n1701 Wallace & Gromit: The Curse of the Were-Rabbit \n1702 Wallace & Gromit: The Aardman Collection \n1703 Wallace & Gromit: The Aardman Collection 2 \n1704 Wall Street: Money Never Sleeps \n1705 H.G. Wells' War of the Worlds \n1706 War of the Worlds 2: The Next Wave \n1707 WarGames: The Dead Code \n1708 Warriors of Virtue \n1709 Warriors of Virtue: The Return to Tao \n1710 Waxwork II: Lost in Time \n1711 Wayne's World \n1712 Wayne's World 2 \n1713 We Make Antiques! [ja] \n1714 We Make Antiques 2 [ja] \n1715 Weekend at Bernie's II \n1716 Welcome to the South \n1717 Welcome to the North \n1718 Buud Yam \n1719 The Werewolf Reborn! \n1720 Frankenstein & the Werewolf Reborn! \n1721 Wet Dreams \n1722 Wet Dreams 2 \n1723 When a Stranger Calls Back \n1724 Whisper of the Heart \n1725 The Cat Returns \n1726 White Fang \n1727 White Fang 2: Myth of the White Wolf \n1728 White Noise \n1729 White Noise: The Light \n1730 The Whole Nine Yards \n1731 The Whole Ten Yards \n1732 Whore \n1733 Whore II \n1734 The Wicker Tree \n1735 Why Did I Get Married? \n1736 Why Did I Get Married Too? \n1737 Wild Orchid II: Two Shades of Blue \n1738 The Wild Thornberrys Movie \n1739 Rugrats Go Wild \n1740 Deutschfieber [de] \n1741 Faraway, So Close! \n1742 The Wind in the Willows \n1743 The Willows in Winter \n1744 Without a Paddle \n1745 Without a Paddle: Nature's Calling \n1746 Wolf Warriors \n1747 Wolf Warriors 2 \n1748 WolfCop \n1749 Another WolfCop \n1750 Wow! Wow! Wubbzy!: Wubbzy's Big Movie! \n1751 Wow! Wow! Wubbzy!: Wubb Idol \n1752 Wreck-It Ralph \n1753 Ralph Breaks the Internet \n1754 The X-Files \n1755 The X-Files: I Want to Believe \n1756 Ye Re Ye Re Paisa \n1757 Ye Re Ye Re Paisa 2 \n1758 Yellow Hair \n1759 Yellow Hair 2 \n1760 Yodha \n1761 Yodha 2 \n1762 Yogi Bear \n1763 Yok Artık! [tr] \n1764 Yok Artık! 2 \n1765 The Young Fighters \n1766 Young Fighters Forever \n1767 The Golden Seal \n1768 Bonds of Fire \n1769 Samostoyatelnaya zhizn \n1770 Zanjeer \n1771 Konjiki no Gash Bell!!: 101 Banme no Mamono \n1772 Konjiki no Gash Bell!!: Attack of the Mechavulcan \n1773 Zip & Zap and the Marble Gang \n1774 Zipi y Zape y la isla del capitán \n1775 Zombieland \n1776 Zombieland: Double Tap \n1777 Zombies \n1778 Zombies 2 \n1779 Zoolander \n1780 Zoolander No. 2 \n1781 The Mask of Zorro \n1782 The Legend of Zorro \n1783 The Legend of Zu \n"
    }
   ],
   "source": [
    "#Query the API for each entry and keep building the table\n",
    "final_df = test_df.merge(test_df.apply(lambda x: pd.Series(query_api(x['title_clean'], x['date'])), axis=1), \n",
    "             left_index=True, right_index=True)"
   ]
  },
  {
   "cell_type": "code",
   "execution_count": 82,
   "metadata": {},
   "outputs": [],
   "source": [
    "# Find the unique names of the series\n",
    "# series_names = final_df['series'].unique()"
   ]
  },
  {
   "cell_type": "code",
   "execution_count": 28,
   "metadata": {},
   "outputs": [],
   "source": [
    "#Convert the imdb and metascore columns to int - Could probably clean this up as well\n",
    "\n",
    "final_df['imdb'] = final_df['imdb'].apply(lambda x: convert_to_int(x))\n",
    "final_df['metascore'] = final_df['metascore'].apply(lambda x: convert_to_int(x))"
   ]
  },
  {
   "cell_type": "code",
   "execution_count": 29,
   "metadata": {},
   "outputs": [
    {
     "output_type": "execute_result",
     "data": {
      "text/plain": "                                               title        series    date  \\\n0        00 Schneider – Jagd auf Nihil Baxter (1994)  00 Schneider  1994.0   \n1  00 Schneider – Im Wendekreis der Eidechse [de]...  00 Schneider  2013.0   \n2                             2 Days in Paris (2007)  2 Days in...  2007.0   \n3                          2 Days in New York (2012)  2 Days in...  2012.0   \n4                                         8mm (1999)           8mm  1999.0   \n\n                                       title_clean  imdb  metascore    imdb_id  \n0            00 Schneider – Jagd auf Nihil Baxter    7.1        NaN  tt0109000  \n1  00 Schneider – Im Wendekreis der Eidechse [de]    NaN        NaN        N/A  \n2                                 2 Days in Paris    6.8       67.0  tt0841044  \n3                              2 Days in New York    6.0       61.0  tt1602472  \n4                                             8mm    6.5       19.0  tt0134273  ",
      "text/html": "<div>\n<style scoped>\n    .dataframe tbody tr th:only-of-type {\n        vertical-align: middle;\n    }\n\n    .dataframe tbody tr th {\n        vertical-align: top;\n    }\n\n    .dataframe thead th {\n        text-align: right;\n    }\n</style>\n<table border=\"1\" class=\"dataframe\">\n  <thead>\n    <tr style=\"text-align: right;\">\n      <th></th>\n      <th>title</th>\n      <th>series</th>\n      <th>date</th>\n      <th>title_clean</th>\n      <th>imdb</th>\n      <th>metascore</th>\n      <th>imdb_id</th>\n    </tr>\n  </thead>\n  <tbody>\n    <tr>\n      <th>0</th>\n      <td>00 Schneider – Jagd auf Nihil Baxter (1994)</td>\n      <td>00 Schneider</td>\n      <td>1994.0</td>\n      <td>00 Schneider – Jagd auf Nihil Baxter</td>\n      <td>7.1</td>\n      <td>NaN</td>\n      <td>tt0109000</td>\n    </tr>\n    <tr>\n      <th>1</th>\n      <td>00 Schneider – Im Wendekreis der Eidechse [de]...</td>\n      <td>00 Schneider</td>\n      <td>2013.0</td>\n      <td>00 Schneider – Im Wendekreis der Eidechse [de]</td>\n      <td>NaN</td>\n      <td>NaN</td>\n      <td>N/A</td>\n    </tr>\n    <tr>\n      <th>2</th>\n      <td>2 Days in Paris (2007)</td>\n      <td>2 Days in...</td>\n      <td>2007.0</td>\n      <td>2 Days in Paris</td>\n      <td>6.8</td>\n      <td>67.0</td>\n      <td>tt0841044</td>\n    </tr>\n    <tr>\n      <th>3</th>\n      <td>2 Days in New York (2012)</td>\n      <td>2 Days in...</td>\n      <td>2012.0</td>\n      <td>2 Days in New York</td>\n      <td>6.0</td>\n      <td>61.0</td>\n      <td>tt1602472</td>\n    </tr>\n    <tr>\n      <th>4</th>\n      <td>8mm (1999)</td>\n      <td>8mm</td>\n      <td>1999.0</td>\n      <td>8mm</td>\n      <td>6.5</td>\n      <td>19.0</td>\n      <td>tt0134273</td>\n    </tr>\n  </tbody>\n</table>\n</div>"
     },
     "metadata": {},
     "execution_count": 29
    }
   ],
   "source": [
    "final_df.head()"
   ]
  },
  {
   "cell_type": "code",
   "execution_count": 30,
   "metadata": {},
   "outputs": [],
   "source": [
    "# Drop NA in the imdb column and group_by series, then filter out those series that only have one entry\n",
    "keep_series = pd.DataFrame(final_df.dropna(subset=['imdb']).groupby('series')['title'].count() == 1).reset_index()\n",
    "\n",
    "# Build a list of the series to keep (This could probably be combined with the previous cell)\n",
    "keep_list = list(keep_series.loc[keep_series['title'] == False, 'series'])\n",
    "\n",
    "# Create the final data frame by keeping only the series that are in the keep list\n",
    "output = final_df.loc[final_df['series'].isin(keep_list)]"
   ]
  },
  {
   "cell_type": "code",
   "execution_count": 31,
   "metadata": {},
   "outputs": [],
   "source": [
    "# Create a summary dataframe\n",
    "summary = output.groupby('series')['imdb'].last() - final_df.groupby('series')['imdb'].first()"
   ]
  },
  {
   "cell_type": "code",
   "execution_count": 32,
   "metadata": {},
   "outputs": [
    {
     "output_type": "execute_result",
     "data": {
      "text/plain": "<AxesSubplot:ylabel='Density'>"
     },
     "metadata": {},
     "execution_count": 32
    },
    {
     "output_type": "display_data",
     "data": {
      "text/plain": "<Figure size 432x288 with 1 Axes>",
      "image/svg+xml": "<?xml version=\"1.0\" encoding=\"utf-8\" standalone=\"no\"?>\n<!DOCTYPE svg PUBLIC \"-//W3C//DTD SVG 1.1//EN\"\n  \"http://www.w3.org/Graphics/SVG/1.1/DTD/svg11.dtd\">\n<!-- Created with matplotlib (https://matplotlib.org/) -->\n<svg height=\"248.518125pt\" version=\"1.1\" viewBox=\"0 0 385.78125 248.518125\" width=\"385.78125pt\" xmlns=\"http://www.w3.org/2000/svg\" xmlns:xlink=\"http://www.w3.org/1999/xlink\">\n <metadata>\n  <rdf:RDF xmlns:cc=\"http://creativecommons.org/ns#\" xmlns:dc=\"http://purl.org/dc/elements/1.1/\" xmlns:rdf=\"http://www.w3.org/1999/02/22-rdf-syntax-ns#\">\n   <cc:Work>\n    <dc:type rdf:resource=\"http://purl.org/dc/dcmitype/StillImage\"/>\n    <dc:date>2020-07-26T13:42:43.621997</dc:date>\n    <dc:format>image/svg+xml</dc:format>\n    <dc:creator>\n     <cc:Agent>\n      <dc:title>Matplotlib v3.3.0, https://matplotlib.org/</dc:title>\n     </cc:Agent>\n    </dc:creator>\n   </cc:Work>\n  </rdf:RDF>\n </metadata>\n <defs>\n  <style type=\"text/css\">*{stroke-linecap:butt;stroke-linejoin:round;}</style>\n </defs>\n <g id=\"figure_1\">\n  <g id=\"patch_1\">\n   <path d=\"M 0 248.518125 \nL 385.78125 248.518125 \nL 385.78125 0 \nL 0 0 \nz\n\" style=\"fill:none;\"/>\n  </g>\n  <g id=\"axes_1\">\n   <g id=\"patch_2\">\n    <path d=\"M 43.78125 224.64 \nL 378.58125 224.64 \nL 378.58125 7.2 \nL 43.78125 7.2 \nz\n\" style=\"fill:#ffffff;\"/>\n   </g>\n   <g id=\"matplotlib.axis_1\">\n    <g id=\"xtick_1\">\n     <g id=\"line2d_1\">\n      <defs>\n       <path d=\"M 0 0 \nL 0 3.5 \n\" id=\"m096b36fe48\" style=\"stroke:#000000;stroke-width:0.8;\"/>\n      </defs>\n      <g>\n       <use style=\"stroke:#000000;stroke-width:0.8;\" x=\"50.942747\" xlink:href=\"#m096b36fe48\" y=\"224.64\"/>\n      </g>\n     </g>\n     <g id=\"text_1\">\n      <!-- −10.0 -->\n      <g transform=\"translate(35.620091 239.238437)scale(0.1 -0.1)\">\n       <defs>\n        <path d=\"M 10.59375 35.5 \nL 73.1875 35.5 \nL 73.1875 27.203125 \nL 10.59375 27.203125 \nz\n\" id=\"DejaVuSans-8722\"/>\n        <path d=\"M 12.40625 8.296875 \nL 28.515625 8.296875 \nL 28.515625 63.921875 \nL 10.984375 60.40625 \nL 10.984375 69.390625 \nL 28.421875 72.90625 \nL 38.28125 72.90625 \nL 38.28125 8.296875 \nL 54.390625 8.296875 \nL 54.390625 0 \nL 12.40625 0 \nz\n\" id=\"DejaVuSans-49\"/>\n        <path d=\"M 31.78125 66.40625 \nQ 24.171875 66.40625 20.328125 58.90625 \nQ 16.5 51.421875 16.5 36.375 \nQ 16.5 21.390625 20.328125 13.890625 \nQ 24.171875 6.390625 31.78125 6.390625 \nQ 39.453125 6.390625 43.28125 13.890625 \nQ 47.125 21.390625 47.125 36.375 \nQ 47.125 51.421875 43.28125 58.90625 \nQ 39.453125 66.40625 31.78125 66.40625 \nz\nM 31.78125 74.21875 \nQ 44.046875 74.21875 50.515625 64.515625 \nQ 56.984375 54.828125 56.984375 36.375 \nQ 56.984375 17.96875 50.515625 8.265625 \nQ 44.046875 -1.421875 31.78125 -1.421875 \nQ 19.53125 -1.421875 13.0625 8.265625 \nQ 6.59375 17.96875 6.59375 36.375 \nQ 6.59375 54.828125 13.0625 64.515625 \nQ 19.53125 74.21875 31.78125 74.21875 \nz\n\" id=\"DejaVuSans-48\"/>\n        <path d=\"M 10.6875 12.40625 \nL 21 12.40625 \nL 21 0 \nL 10.6875 0 \nz\n\" id=\"DejaVuSans-46\"/>\n       </defs>\n       <use xlink:href=\"#DejaVuSans-8722\"/>\n       <use x=\"83.789062\" xlink:href=\"#DejaVuSans-49\"/>\n       <use x=\"147.412109\" xlink:href=\"#DejaVuSans-48\"/>\n       <use x=\"211.035156\" xlink:href=\"#DejaVuSans-46\"/>\n       <use x=\"242.822266\" xlink:href=\"#DejaVuSans-48\"/>\n      </g>\n     </g>\n    </g>\n    <g id=\"xtick_2\">\n     <g id=\"line2d_2\">\n      <g>\n       <use style=\"stroke:#000000;stroke-width:0.8;\" x=\"95.702106\" xlink:href=\"#m096b36fe48\" y=\"224.64\"/>\n      </g>\n     </g>\n     <g id=\"text_2\">\n      <!-- −7.5 -->\n      <g transform=\"translate(83.560699 239.238437)scale(0.1 -0.1)\">\n       <defs>\n        <path d=\"M 8.203125 72.90625 \nL 55.078125 72.90625 \nL 55.078125 68.703125 \nL 28.609375 0 \nL 18.3125 0 \nL 43.21875 64.59375 \nL 8.203125 64.59375 \nz\n\" id=\"DejaVuSans-55\"/>\n        <path d=\"M 10.796875 72.90625 \nL 49.515625 72.90625 \nL 49.515625 64.59375 \nL 19.828125 64.59375 \nL 19.828125 46.734375 \nQ 21.96875 47.46875 24.109375 47.828125 \nQ 26.265625 48.1875 28.421875 48.1875 \nQ 40.625 48.1875 47.75 41.5 \nQ 54.890625 34.8125 54.890625 23.390625 \nQ 54.890625 11.625 47.5625 5.09375 \nQ 40.234375 -1.421875 26.90625 -1.421875 \nQ 22.3125 -1.421875 17.546875 -0.640625 \nQ 12.796875 0.140625 7.71875 1.703125 \nL 7.71875 11.625 \nQ 12.109375 9.234375 16.796875 8.0625 \nQ 21.484375 6.890625 26.703125 6.890625 \nQ 35.15625 6.890625 40.078125 11.328125 \nQ 45.015625 15.765625 45.015625 23.390625 \nQ 45.015625 31 40.078125 35.4375 \nQ 35.15625 39.890625 26.703125 39.890625 \nQ 22.75 39.890625 18.8125 39.015625 \nQ 14.890625 38.140625 10.796875 36.28125 \nz\n\" id=\"DejaVuSans-53\"/>\n       </defs>\n       <use xlink:href=\"#DejaVuSans-8722\"/>\n       <use x=\"83.789062\" xlink:href=\"#DejaVuSans-55\"/>\n       <use x=\"147.412109\" xlink:href=\"#DejaVuSans-46\"/>\n       <use x=\"179.199219\" xlink:href=\"#DejaVuSans-53\"/>\n      </g>\n     </g>\n    </g>\n    <g id=\"xtick_3\">\n     <g id=\"line2d_3\">\n      <g>\n       <use style=\"stroke:#000000;stroke-width:0.8;\" x=\"140.461464\" xlink:href=\"#m096b36fe48\" y=\"224.64\"/>\n      </g>\n     </g>\n     <g id=\"text_3\">\n      <!-- −5.0 -->\n      <g transform=\"translate(128.320058 239.238437)scale(0.1 -0.1)\">\n       <use xlink:href=\"#DejaVuSans-8722\"/>\n       <use x=\"83.789062\" xlink:href=\"#DejaVuSans-53\"/>\n       <use x=\"147.412109\" xlink:href=\"#DejaVuSans-46\"/>\n       <use x=\"179.199219\" xlink:href=\"#DejaVuSans-48\"/>\n      </g>\n     </g>\n    </g>\n    <g id=\"xtick_4\">\n     <g id=\"line2d_4\">\n      <g>\n       <use style=\"stroke:#000000;stroke-width:0.8;\" x=\"185.220822\" xlink:href=\"#m096b36fe48\" y=\"224.64\"/>\n      </g>\n     </g>\n     <g id=\"text_4\">\n      <!-- −2.5 -->\n      <g transform=\"translate(173.079416 239.238437)scale(0.1 -0.1)\">\n       <defs>\n        <path d=\"M 19.1875 8.296875 \nL 53.609375 8.296875 \nL 53.609375 0 \nL 7.328125 0 \nL 7.328125 8.296875 \nQ 12.9375 14.109375 22.625 23.890625 \nQ 32.328125 33.6875 34.8125 36.53125 \nQ 39.546875 41.84375 41.421875 45.53125 \nQ 43.3125 49.21875 43.3125 52.78125 \nQ 43.3125 58.59375 39.234375 62.25 \nQ 35.15625 65.921875 28.609375 65.921875 \nQ 23.96875 65.921875 18.8125 64.3125 \nQ 13.671875 62.703125 7.8125 59.421875 \nL 7.8125 69.390625 \nQ 13.765625 71.78125 18.9375 73 \nQ 24.125 74.21875 28.421875 74.21875 \nQ 39.75 74.21875 46.484375 68.546875 \nQ 53.21875 62.890625 53.21875 53.421875 \nQ 53.21875 48.921875 51.53125 44.890625 \nQ 49.859375 40.875 45.40625 35.40625 \nQ 44.1875 33.984375 37.640625 27.21875 \nQ 31.109375 20.453125 19.1875 8.296875 \nz\n\" id=\"DejaVuSans-50\"/>\n       </defs>\n       <use xlink:href=\"#DejaVuSans-8722\"/>\n       <use x=\"83.789062\" xlink:href=\"#DejaVuSans-50\"/>\n       <use x=\"147.412109\" xlink:href=\"#DejaVuSans-46\"/>\n       <use x=\"179.199219\" xlink:href=\"#DejaVuSans-53\"/>\n      </g>\n     </g>\n    </g>\n    <g id=\"xtick_5\">\n     <g id=\"line2d_5\">\n      <g>\n       <use style=\"stroke:#000000;stroke-width:0.8;\" x=\"229.98018\" xlink:href=\"#m096b36fe48\" y=\"224.64\"/>\n      </g>\n     </g>\n     <g id=\"text_5\">\n      <!-- 0.0 -->\n      <g transform=\"translate(222.028618 239.238437)scale(0.1 -0.1)\">\n       <use xlink:href=\"#DejaVuSans-48\"/>\n       <use x=\"63.623047\" xlink:href=\"#DejaVuSans-46\"/>\n       <use x=\"95.410156\" xlink:href=\"#DejaVuSans-48\"/>\n      </g>\n     </g>\n    </g>\n    <g id=\"xtick_6\">\n     <g id=\"line2d_6\">\n      <g>\n       <use style=\"stroke:#000000;stroke-width:0.8;\" x=\"274.739539\" xlink:href=\"#m096b36fe48\" y=\"224.64\"/>\n      </g>\n     </g>\n     <g id=\"text_6\">\n      <!-- 2.5 -->\n      <g transform=\"translate(266.787976 239.238437)scale(0.1 -0.1)\">\n       <use xlink:href=\"#DejaVuSans-50\"/>\n       <use x=\"63.623047\" xlink:href=\"#DejaVuSans-46\"/>\n       <use x=\"95.410156\" xlink:href=\"#DejaVuSans-53\"/>\n      </g>\n     </g>\n    </g>\n    <g id=\"xtick_7\">\n     <g id=\"line2d_7\">\n      <g>\n       <use style=\"stroke:#000000;stroke-width:0.8;\" x=\"319.498897\" xlink:href=\"#m096b36fe48\" y=\"224.64\"/>\n      </g>\n     </g>\n     <g id=\"text_7\">\n      <!-- 5.0 -->\n      <g transform=\"translate(311.547335 239.238437)scale(0.1 -0.1)\">\n       <use xlink:href=\"#DejaVuSans-53\"/>\n       <use x=\"63.623047\" xlink:href=\"#DejaVuSans-46\"/>\n       <use x=\"95.410156\" xlink:href=\"#DejaVuSans-48\"/>\n      </g>\n     </g>\n    </g>\n    <g id=\"xtick_8\">\n     <g id=\"line2d_8\">\n      <g>\n       <use style=\"stroke:#000000;stroke-width:0.8;\" x=\"364.258255\" xlink:href=\"#m096b36fe48\" y=\"224.64\"/>\n      </g>\n     </g>\n     <g id=\"text_8\">\n      <!-- 7.5 -->\n      <g transform=\"translate(356.306693 239.238437)scale(0.1 -0.1)\">\n       <use xlink:href=\"#DejaVuSans-55\"/>\n       <use x=\"63.623047\" xlink:href=\"#DejaVuSans-46\"/>\n       <use x=\"95.410156\" xlink:href=\"#DejaVuSans-53\"/>\n      </g>\n     </g>\n    </g>\n   </g>\n   <g id=\"matplotlib.axis_2\">\n    <g id=\"ytick_1\">\n     <g id=\"line2d_9\">\n      <defs>\n       <path d=\"M 0 0 \nL -3.5 0 \n\" id=\"m924b61c30a\" style=\"stroke:#000000;stroke-width:0.8;\"/>\n      </defs>\n      <g>\n       <use style=\"stroke:#000000;stroke-width:0.8;\" x=\"43.78125\" xlink:href=\"#m924b61c30a\" y=\"214.756364\"/>\n      </g>\n     </g>\n     <g id=\"text_9\">\n      <!-- 0.0 -->\n      <g transform=\"translate(20.878125 218.555582)scale(0.1 -0.1)\">\n       <use xlink:href=\"#DejaVuSans-48\"/>\n       <use x=\"63.623047\" xlink:href=\"#DejaVuSans-46\"/>\n       <use x=\"95.410156\" xlink:href=\"#DejaVuSans-48\"/>\n      </g>\n     </g>\n    </g>\n    <g id=\"ytick_2\">\n     <g id=\"line2d_10\">\n      <g>\n       <use style=\"stroke:#000000;stroke-width:0.8;\" x=\"43.78125\" xlink:href=\"#m924b61c30a\" y=\"173.141396\"/>\n      </g>\n     </g>\n     <g id=\"text_10\">\n      <!-- 0.1 -->\n      <g transform=\"translate(20.878125 176.940615)scale(0.1 -0.1)\">\n       <use xlink:href=\"#DejaVuSans-48\"/>\n       <use x=\"63.623047\" xlink:href=\"#DejaVuSans-46\"/>\n       <use x=\"95.410156\" xlink:href=\"#DejaVuSans-49\"/>\n      </g>\n     </g>\n    </g>\n    <g id=\"ytick_3\">\n     <g id=\"line2d_11\">\n      <g>\n       <use style=\"stroke:#000000;stroke-width:0.8;\" x=\"43.78125\" xlink:href=\"#m924b61c30a\" y=\"131.526429\"/>\n      </g>\n     </g>\n     <g id=\"text_11\">\n      <!-- 0.2 -->\n      <g transform=\"translate(20.878125 135.325648)scale(0.1 -0.1)\">\n       <use xlink:href=\"#DejaVuSans-48\"/>\n       <use x=\"63.623047\" xlink:href=\"#DejaVuSans-46\"/>\n       <use x=\"95.410156\" xlink:href=\"#DejaVuSans-50\"/>\n      </g>\n     </g>\n    </g>\n    <g id=\"ytick_4\">\n     <g id=\"line2d_12\">\n      <g>\n       <use style=\"stroke:#000000;stroke-width:0.8;\" x=\"43.78125\" xlink:href=\"#m924b61c30a\" y=\"89.911462\"/>\n      </g>\n     </g>\n     <g id=\"text_12\">\n      <!-- 0.3 -->\n      <g transform=\"translate(20.878125 93.71068)scale(0.1 -0.1)\">\n       <defs>\n        <path d=\"M 40.578125 39.3125 \nQ 47.65625 37.796875 51.625 33 \nQ 55.609375 28.21875 55.609375 21.1875 \nQ 55.609375 10.40625 48.1875 4.484375 \nQ 40.765625 -1.421875 27.09375 -1.421875 \nQ 22.515625 -1.421875 17.65625 -0.515625 \nQ 12.796875 0.390625 7.625 2.203125 \nL 7.625 11.71875 \nQ 11.71875 9.328125 16.59375 8.109375 \nQ 21.484375 6.890625 26.8125 6.890625 \nQ 36.078125 6.890625 40.9375 10.546875 \nQ 45.796875 14.203125 45.796875 21.1875 \nQ 45.796875 27.640625 41.28125 31.265625 \nQ 36.765625 34.90625 28.71875 34.90625 \nL 20.21875 34.90625 \nL 20.21875 43.015625 \nL 29.109375 43.015625 \nQ 36.375 43.015625 40.234375 45.921875 \nQ 44.09375 48.828125 44.09375 54.296875 \nQ 44.09375 59.90625 40.109375 62.90625 \nQ 36.140625 65.921875 28.71875 65.921875 \nQ 24.65625 65.921875 20.015625 65.03125 \nQ 15.375 64.15625 9.8125 62.3125 \nL 9.8125 71.09375 \nQ 15.4375 72.65625 20.34375 73.4375 \nQ 25.25 74.21875 29.59375 74.21875 \nQ 40.828125 74.21875 47.359375 69.109375 \nQ 53.90625 64.015625 53.90625 55.328125 \nQ 53.90625 49.265625 50.4375 45.09375 \nQ 46.96875 40.921875 40.578125 39.3125 \nz\n\" id=\"DejaVuSans-51\"/>\n       </defs>\n       <use xlink:href=\"#DejaVuSans-48\"/>\n       <use x=\"63.623047\" xlink:href=\"#DejaVuSans-46\"/>\n       <use x=\"95.410156\" xlink:href=\"#DejaVuSans-51\"/>\n      </g>\n     </g>\n    </g>\n    <g id=\"ytick_5\">\n     <g id=\"line2d_13\">\n      <g>\n       <use style=\"stroke:#000000;stroke-width:0.8;\" x=\"43.78125\" xlink:href=\"#m924b61c30a\" y=\"48.296494\"/>\n      </g>\n     </g>\n     <g id=\"text_13\">\n      <!-- 0.4 -->\n      <g transform=\"translate(20.878125 52.095713)scale(0.1 -0.1)\">\n       <defs>\n        <path d=\"M 37.796875 64.3125 \nL 12.890625 25.390625 \nL 37.796875 25.390625 \nz\nM 35.203125 72.90625 \nL 47.609375 72.90625 \nL 47.609375 25.390625 \nL 58.015625 25.390625 \nL 58.015625 17.1875 \nL 47.609375 17.1875 \nL 47.609375 0 \nL 37.796875 0 \nL 37.796875 17.1875 \nL 4.890625 17.1875 \nL 4.890625 26.703125 \nz\n\" id=\"DejaVuSans-52\"/>\n       </defs>\n       <use xlink:href=\"#DejaVuSans-48\"/>\n       <use x=\"63.623047\" xlink:href=\"#DejaVuSans-46\"/>\n       <use x=\"95.410156\" xlink:href=\"#DejaVuSans-52\"/>\n      </g>\n     </g>\n    </g>\n    <g id=\"text_14\">\n     <!-- Density -->\n     <g transform=\"translate(14.798438 134.928594)rotate(-90)scale(0.1 -0.1)\">\n      <defs>\n       <path d=\"M 19.671875 64.796875 \nL 19.671875 8.109375 \nL 31.59375 8.109375 \nQ 46.6875 8.109375 53.6875 14.9375 \nQ 60.6875 21.78125 60.6875 36.53125 \nQ 60.6875 51.171875 53.6875 57.984375 \nQ 46.6875 64.796875 31.59375 64.796875 \nz\nM 9.8125 72.90625 \nL 30.078125 72.90625 \nQ 51.265625 72.90625 61.171875 64.09375 \nQ 71.09375 55.28125 71.09375 36.53125 \nQ 71.09375 17.671875 61.125 8.828125 \nQ 51.171875 0 30.078125 0 \nL 9.8125 0 \nz\n\" id=\"DejaVuSans-68\"/>\n       <path d=\"M 56.203125 29.59375 \nL 56.203125 25.203125 \nL 14.890625 25.203125 \nQ 15.484375 15.921875 20.484375 11.0625 \nQ 25.484375 6.203125 34.421875 6.203125 \nQ 39.59375 6.203125 44.453125 7.46875 \nQ 49.3125 8.734375 54.109375 11.28125 \nL 54.109375 2.78125 \nQ 49.265625 0.734375 44.1875 -0.34375 \nQ 39.109375 -1.421875 33.890625 -1.421875 \nQ 20.796875 -1.421875 13.15625 6.1875 \nQ 5.515625 13.8125 5.515625 26.8125 \nQ 5.515625 40.234375 12.765625 48.109375 \nQ 20.015625 56 32.328125 56 \nQ 43.359375 56 49.78125 48.890625 \nQ 56.203125 41.796875 56.203125 29.59375 \nz\nM 47.21875 32.234375 \nQ 47.125 39.59375 43.09375 43.984375 \nQ 39.0625 48.390625 32.421875 48.390625 \nQ 24.90625 48.390625 20.390625 44.140625 \nQ 15.875 39.890625 15.1875 32.171875 \nz\n\" id=\"DejaVuSans-101\"/>\n       <path d=\"M 54.890625 33.015625 \nL 54.890625 0 \nL 45.90625 0 \nL 45.90625 32.71875 \nQ 45.90625 40.484375 42.875 44.328125 \nQ 39.84375 48.1875 33.796875 48.1875 \nQ 26.515625 48.1875 22.3125 43.546875 \nQ 18.109375 38.921875 18.109375 30.90625 \nL 18.109375 0 \nL 9.078125 0 \nL 9.078125 54.6875 \nL 18.109375 54.6875 \nL 18.109375 46.1875 \nQ 21.34375 51.125 25.703125 53.5625 \nQ 30.078125 56 35.796875 56 \nQ 45.21875 56 50.046875 50.171875 \nQ 54.890625 44.34375 54.890625 33.015625 \nz\n\" id=\"DejaVuSans-110\"/>\n       <path d=\"M 44.28125 53.078125 \nL 44.28125 44.578125 \nQ 40.484375 46.53125 36.375 47.5 \nQ 32.28125 48.484375 27.875 48.484375 \nQ 21.1875 48.484375 17.84375 46.4375 \nQ 14.5 44.390625 14.5 40.28125 \nQ 14.5 37.15625 16.890625 35.375 \nQ 19.28125 33.59375 26.515625 31.984375 \nL 29.59375 31.296875 \nQ 39.15625 29.25 43.1875 25.515625 \nQ 47.21875 21.78125 47.21875 15.09375 \nQ 47.21875 7.46875 41.1875 3.015625 \nQ 35.15625 -1.421875 24.609375 -1.421875 \nQ 20.21875 -1.421875 15.453125 -0.5625 \nQ 10.6875 0.296875 5.421875 2 \nL 5.421875 11.28125 \nQ 10.40625 8.6875 15.234375 7.390625 \nQ 20.0625 6.109375 24.8125 6.109375 \nQ 31.15625 6.109375 34.5625 8.28125 \nQ 37.984375 10.453125 37.984375 14.40625 \nQ 37.984375 18.0625 35.515625 20.015625 \nQ 33.0625 21.96875 24.703125 23.78125 \nL 21.578125 24.515625 \nQ 13.234375 26.265625 9.515625 29.90625 \nQ 5.8125 33.546875 5.8125 39.890625 \nQ 5.8125 47.609375 11.28125 51.796875 \nQ 16.75 56 26.8125 56 \nQ 31.78125 56 36.171875 55.265625 \nQ 40.578125 54.546875 44.28125 53.078125 \nz\n\" id=\"DejaVuSans-115\"/>\n       <path d=\"M 9.421875 54.6875 \nL 18.40625 54.6875 \nL 18.40625 0 \nL 9.421875 0 \nz\nM 9.421875 75.984375 \nL 18.40625 75.984375 \nL 18.40625 64.59375 \nL 9.421875 64.59375 \nz\n\" id=\"DejaVuSans-105\"/>\n       <path d=\"M 18.3125 70.21875 \nL 18.3125 54.6875 \nL 36.8125 54.6875 \nL 36.8125 47.703125 \nL 18.3125 47.703125 \nL 18.3125 18.015625 \nQ 18.3125 11.328125 20.140625 9.421875 \nQ 21.96875 7.515625 27.59375 7.515625 \nL 36.8125 7.515625 \nL 36.8125 0 \nL 27.59375 0 \nQ 17.1875 0 13.234375 3.875 \nQ 9.28125 7.765625 9.28125 18.015625 \nL 9.28125 47.703125 \nL 2.6875 47.703125 \nL 2.6875 54.6875 \nL 9.28125 54.6875 \nL 9.28125 70.21875 \nz\n\" id=\"DejaVuSans-116\"/>\n       <path d=\"M 32.171875 -5.078125 \nQ 28.375 -14.84375 24.75 -17.8125 \nQ 21.140625 -20.796875 15.09375 -20.796875 \nL 7.90625 -20.796875 \nL 7.90625 -13.28125 \nL 13.1875 -13.28125 \nQ 16.890625 -13.28125 18.9375 -11.515625 \nQ 21 -9.765625 23.484375 -3.21875 \nL 25.09375 0.875 \nL 2.984375 54.6875 \nL 12.5 54.6875 \nL 29.59375 11.921875 \nL 46.6875 54.6875 \nL 56.203125 54.6875 \nz\n\" id=\"DejaVuSans-121\"/>\n      </defs>\n      <use xlink:href=\"#DejaVuSans-68\"/>\n      <use x=\"77.001953\" xlink:href=\"#DejaVuSans-101\"/>\n      <use x=\"138.525391\" xlink:href=\"#DejaVuSans-110\"/>\n      <use x=\"201.904297\" xlink:href=\"#DejaVuSans-115\"/>\n      <use x=\"254.003906\" xlink:href=\"#DejaVuSans-105\"/>\n      <use x=\"281.787109\" xlink:href=\"#DejaVuSans-116\"/>\n      <use x=\"320.996094\" xlink:href=\"#DejaVuSans-121\"/>\n     </g>\n    </g>\n   </g>\n   <g id=\"line2d_14\">\n    <path clip-path=\"url(#pa03779aa62)\" d=\"M 58.999432 214.756364 \nL 123.589112 214.654353 \nL 127.245132 214.377503 \nL 137.299186 213.342406 \nL 141.869211 213.130658 \nL 147.048572 212.540978 \nL 151.00926 212.252764 \nL 154.360611 211.962269 \nL 156.493289 211.556635 \nL 158.321299 211.00434 \nL 160.453977 210.105784 \nL 162.891324 208.798207 \nL 168.070685 205.910927 \nL 173.250046 203.406378 \nL 174.773388 202.266851 \nL 175.992061 201.094838 \nL 177.515402 199.296826 \nL 179.343412 196.730031 \nL 181.780759 192.859856 \nL 184.218105 188.616479 \nL 186.046115 185.052617 \nL 187.874125 180.96633 \nL 189.702135 176.261099 \nL 191.834813 170.055204 \nL 194.272159 162.198634 \nL 196.404837 154.514778 \nL 197.928179 148.261511 \nL 199.45152 141.101372 \nL 200.974862 132.885503 \nL 202.802872 121.652665 \nL 204.93555 107.016255 \nL 207.982233 84.359263 \nL 213.161594 45.60055 \nL 214.684936 35.837277 \nL 215.903609 29.197072 \nL 217.122282 23.853762 \nL 218.036287 20.806655 \nL 218.950292 18.642441 \nL 219.559628 17.707667 \nL 220.168965 17.187185 \nL 220.778302 17.085007 \nL 221.387638 17.403244 \nL 221.996975 18.142494 \nL 222.606311 19.302084 \nL 223.215648 20.880145 \nL 224.129653 24.024463 \nL 225.043658 28.084669 \nL 226.262331 34.868239 \nL 227.481004 43.103178 \nL 229.004346 55.137519 \nL 231.137024 74.222328 \nL 235.707049 116.081133 \nL 237.839727 133.3608 \nL 239.972405 148.814813 \nL 242.105083 162.593418 \nL 243.933093 173.042527 \nL 245.456434 180.660108 \nL 246.979776 187.153317 \nL 248.198449 191.477572 \nL 249.417122 195.0171 \nL 250.635795 197.806185 \nL 251.854469 199.922915 \nL 253.073142 201.483239 \nL 254.291815 202.627899 \nL 255.815157 203.697472 \nL 262.822528 208.121096 \nL 265.564542 209.824627 \nL 268.306557 211.249566 \nL 271.657908 212.717044 \nL 274.095255 213.550487 \nL 275.923265 213.969163 \nL 277.751275 214.180273 \nL 279.883953 214.182775 \nL 282.625967 213.931365 \nL 286.281987 213.597634 \nL 288.719334 213.624232 \nL 291.461348 213.906065 \nL 297.250046 214.56977 \nL 301.210734 214.723995 \nL 310.350783 214.756302 \nL 363.363068 214.756364 \nL 363.363068 214.756364 \n\" style=\"fill:none;stroke:#1f77b4;stroke-linecap:square;stroke-width:1.5;\"/>\n   </g>\n   <g id=\"patch_3\">\n    <path d=\"M 43.78125 224.64 \nL 43.78125 7.2 \n\" style=\"fill:none;stroke:#000000;stroke-linecap:square;stroke-linejoin:miter;stroke-width:0.8;\"/>\n   </g>\n   <g id=\"patch_4\">\n    <path d=\"M 378.58125 224.64 \nL 378.58125 7.2 \n\" style=\"fill:none;stroke:#000000;stroke-linecap:square;stroke-linejoin:miter;stroke-width:0.8;\"/>\n   </g>\n   <g id=\"patch_5\">\n    <path d=\"M 43.78125 224.64 \nL 378.58125 224.64 \n\" style=\"fill:none;stroke:#000000;stroke-linecap:square;stroke-linejoin:miter;stroke-width:0.8;\"/>\n   </g>\n   <g id=\"patch_6\">\n    <path d=\"M 43.78125 7.2 \nL 378.58125 7.2 \n\" style=\"fill:none;stroke:#000000;stroke-linecap:square;stroke-linejoin:miter;stroke-width:0.8;\"/>\n   </g>\n  </g>\n </g>\n <defs>\n  <clipPath id=\"pa03779aa62\">\n   <rect height=\"217.44\" width=\"334.8\" x=\"43.78125\" y=\"7.2\"/>\n  </clipPath>\n </defs>\n</svg>\n",
      "image/png": "[encoded data removed]"
     },
     "metadata": {
      "needs_background": "light"
     }
    }
   ],
   "source": [
    "# Plot the review distribution - Maybe I'll do something with this later\n",
    "\n",
    "summary.plot.kde()"
   ]
  },
  {
   "cell_type": "code",
   "execution_count": 33,
   "metadata": {},
   "outputs": [
    {
     "output_type": "execute_result",
     "data": {
      "text/plain": "count    486.000000\nmean      -0.713786\nstd        1.000843\nmin       -5.300000\n25%       -1.200000\n50%       -0.600000\n75%       -0.100000\nmax        3.200000\nName: imdb, dtype: float64"
     },
     "metadata": {},
     "execution_count": 33
    }
   ],
   "source": [
    "summary.describe()"
   ]
  },
  {
   "cell_type": "code",
   "execution_count": 34,
   "metadata": {},
   "outputs": [],
   "source": [
    "#Write output to json format so it's easier to work with in javascript\n",
    "json_data = output[['title_clean', 'series', 'date', 'imdb', 'imdb_id']].to_json(orient='records')\n",
    "\n",
    "#Write it to the res directory\n",
    "with open('../res/movieData.json', 'w') as f:\n",
    "    f.write(json_data)"
   ]
  },
  {
   "cell_type": "code",
   "execution_count": 35,
   "metadata": {},
   "outputs": [],
   "source": [
    "summary_data = pd.DataFrame(summary.dropna()).reset_index().to_json(orient='records')\n",
    "with open('../res/summary.json', 'w') as f:\n",
    "    f.write(summary_data)"
   ]
  }
 ],
 "metadata": {
  "kernelspec": {
   "display_name": "movies",
   "language": "python",
   "name": "movies"
  },
  "language_info": {
   "codemirror_mode": {
    "name": "ipython",
    "version": 3
   },
   "file_extension": ".py",
   "mimetype": "text/x-python",
   "name": "python",
   "nbconvert_exporter": "python",
   "pygments_lexer": "ipython3",
   "version": "3.8.3-final"
  }
 },
 "nbformat": 4,
 "nbformat_minor": 4
}